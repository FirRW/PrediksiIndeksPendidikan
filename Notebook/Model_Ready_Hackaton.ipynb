{
  "nbformat": 4,
  "nbformat_minor": 0,
  "metadata": {
    "colab": {
      "provenance": [],
      "toc_visible": true,
      "collapsed_sections": [
        "PMw3BD24mE4q",
        "KojnYjwmx_Ee",
        "o9rIH-KWmMwB"
      ]
    },
    "kernelspec": {
      "name": "python3",
      "display_name": "Python 3"
    },
    "language_info": {
      "name": "python"
    }
  },
  "cells": [
    {
      "cell_type": "markdown",
      "source": [
        "# Load Libraries"
      ],
      "metadata": {
        "id": "PMw3BD24mE4q"
      }
    },
    {
      "cell_type": "code",
      "source": [
        "#Load data\n",
        "from google.colab import drive\n",
        "drive.mount('/content/drive')"
      ],
      "metadata": {
        "colab": {
          "base_uri": "https://localhost:8080/"
        },
        "id": "C7yzLWgDYEWM",
        "outputId": "05a16487-2811-4b8f-d598-ec2482a4de25"
      },
      "execution_count": 1,
      "outputs": [
        {
          "output_type": "stream",
          "name": "stdout",
          "text": [
            "Drive already mounted at /content/drive; to attempt to forcibly remount, call drive.mount(\"/content/drive\", force_remount=True).\n"
          ]
        }
      ]
    },
    {
      "cell_type": "code",
      "source": [
        "import pandas as pd\n",
        "import numpy as np\n",
        "import seaborn as sns\n",
        "from matplotlib import pyplot as plt\n",
        "import joblib\n",
        "import sklearn\n",
        "import pickle\n",
        "from sklearn import preprocessing\n",
        "from sklearn.preprocessing import StandardScaler\n",
        "\n",
        "#Modelling\n",
        "from sklearn.model_selection import train_test_split\n",
        "import xgboost\n",
        "from xgboost import XGBRegressor\n",
        "from xgboost import plot_importance\n",
        "from sklearn.tree import DecisionTreeRegressor\n",
        "from sklearn.neighbors import KNeighborsRegressor\n",
        "from sklearn.linear_model import LinearRegression, Lasso,Ridge,BayesianRidge,ElasticNet,HuberRegressor, SGDRegressor\n",
        "from sklearn.ensemble import RandomForestRegressor, AdaBoostRegressor\n",
        "from sklearn.svm import LinearSVR\n",
        "from sklearn.model_selection import RandomizedSearchCV\n",
        "from sklearn.ensemble import GradientBoostingRegressor\n",
        "from sklearn import metrics\n",
        "\n",
        "import time"
      ],
      "metadata": {
        "id": "U3nrkgV51VZm"
      },
      "execution_count": 2,
      "outputs": []
    },
    {
      "cell_type": "code",
      "source": [
        "!pip install shap\n",
        "import shap"
      ],
      "metadata": {
        "colab": {
          "base_uri": "https://localhost:8080/"
        },
        "id": "V8Eg3tkN1Wxn",
        "outputId": "ce02eee1-821a-47a8-cf7e-5cacc214e89f"
      },
      "execution_count": 3,
      "outputs": [
        {
          "output_type": "stream",
          "name": "stdout",
          "text": [
            "Looking in indexes: https://pypi.org/simple, https://us-python.pkg.dev/colab-wheels/public/simple/\n",
            "Requirement already satisfied: shap in /usr/local/lib/python3.8/dist-packages (0.41.0)\n",
            "Requirement already satisfied: pandas in /usr/local/lib/python3.8/dist-packages (from shap) (1.3.5)\n",
            "Requirement already satisfied: scikit-learn in /usr/local/lib/python3.8/dist-packages (from shap) (1.0.2)\n",
            "Requirement already satisfied: numpy in /usr/local/lib/python3.8/dist-packages (from shap) (1.21.6)\n",
            "Requirement already satisfied: packaging>20.9 in /usr/local/lib/python3.8/dist-packages (from shap) (21.3)\n",
            "Requirement already satisfied: tqdm>4.25.0 in /usr/local/lib/python3.8/dist-packages (from shap) (4.64.1)\n",
            "Requirement already satisfied: scipy in /usr/local/lib/python3.8/dist-packages (from shap) (1.7.3)\n",
            "Requirement already satisfied: slicer==0.0.7 in /usr/local/lib/python3.8/dist-packages (from shap) (0.0.7)\n",
            "Requirement already satisfied: cloudpickle in /usr/local/lib/python3.8/dist-packages (from shap) (1.5.0)\n",
            "Requirement already satisfied: numba in /usr/local/lib/python3.8/dist-packages (from shap) (0.56.4)\n",
            "Requirement already satisfied: pyparsing!=3.0.5,>=2.0.2 in /usr/local/lib/python3.8/dist-packages (from packaging>20.9->shap) (3.0.9)\n",
            "Requirement already satisfied: importlib-metadata in /usr/local/lib/python3.8/dist-packages (from numba->shap) (4.13.0)\n",
            "Requirement already satisfied: setuptools in /usr/local/lib/python3.8/dist-packages (from numba->shap) (57.4.0)\n",
            "Requirement already satisfied: llvmlite<0.40,>=0.39.0dev0 in /usr/local/lib/python3.8/dist-packages (from numba->shap) (0.39.1)\n",
            "Requirement already satisfied: zipp>=0.5 in /usr/local/lib/python3.8/dist-packages (from importlib-metadata->numba->shap) (3.10.0)\n",
            "Requirement already satisfied: python-dateutil>=2.7.3 in /usr/local/lib/python3.8/dist-packages (from pandas->shap) (2.8.2)\n",
            "Requirement already satisfied: pytz>=2017.3 in /usr/local/lib/python3.8/dist-packages (from pandas->shap) (2022.6)\n",
            "Requirement already satisfied: six>=1.5 in /usr/local/lib/python3.8/dist-packages (from python-dateutil>=2.7.3->pandas->shap) (1.15.0)\n",
            "Requirement already satisfied: joblib>=0.11 in /usr/local/lib/python3.8/dist-packages (from scikit-learn->shap) (1.2.0)\n",
            "Requirement already satisfied: threadpoolctl>=2.0.0 in /usr/local/lib/python3.8/dist-packages (from scikit-learn->shap) (3.1.0)\n"
          ]
        }
      ]
    },
    {
      "cell_type": "markdown",
      "source": [
        "# Load Dataset"
      ],
      "metadata": {
        "id": "EXfPSP6fxMn2"
      }
    },
    {
      "cell_type": "code",
      "source": [
        "#Loaddataset\n",
        "df = pd.read_excel(\"/content/drive/MyDrive/DatasetHackathon/Dataset.xlsx\")"
      ],
      "metadata": {
        "id": "_yog7hBzYGVz"
      },
      "execution_count": 4,
      "outputs": []
    },
    {
      "cell_type": "code",
      "source": [
        "df.head(10)"
      ],
      "metadata": {
        "colab": {
          "base_uri": "https://localhost:8080/",
          "height": 635
        },
        "id": "HDIrrIxsYNWE",
        "outputId": "aa3a643a-8724-4698-af89-88f632a5f47b"
      },
      "execution_count": 5,
      "outputs": [
        {
          "output_type": "execute_result",
          "data": {
            "text/plain": [
              "   tahun              kabupaten  indeks_pendidikan  \\\n",
              "0   2019        KABUPATEN BOGOR              62.27   \n",
              "1   2019     KABUPATEN SUKABUMI              57.34   \n",
              "2   2019      KABUPATEN CIANJUR              56.51   \n",
              "3   2019      KABUPATEN BANDUNG              64.52   \n",
              "4   2019        KABUPATEN GARUT              57.87   \n",
              "5   2019  KABUPATEN TASIKMALAYA              58.68   \n",
              "6   2019       KABUPATEN CIAMIS              63.94   \n",
              "7   2019     KABUPATEN KUNINGAN              58.21   \n",
              "8   2019      KABUPATEN CIREBON              56.37   \n",
              "9   2019   KABUPATEN MAJALENGKA              57.55   \n",
              "\n",
              "   status_kegiatan_buta_aksara  ketersediaan_pkbm  ketersediaan_tbm  \\\n",
              "0                     0.697115                254               298   \n",
              "1                     0.808399                266               103   \n",
              "2                     0.833333                252               193   \n",
              "3                     0.744444                161               111   \n",
              "4                     0.857482                315               233   \n",
              "5                     0.917379                271               153   \n",
              "6                     0.794574                182               107   \n",
              "7                     0.941828                323               226   \n",
              "8                     0.849515                329               248   \n",
              "9                     0.921212                288               250   \n",
              "\n",
              "   jumlah_angkatan_kerja  kepadatan_penduduk  Jumlah SD  Jumlah SMP  \\\n",
              "0                2791651                1740       1823         690   \n",
              "1                1120711                 620       1211         330   \n",
              "2                1081183                 597       1256         314   \n",
              "3                1786162                2015       1406         322   \n",
              "4                1155071                 743       1584         381   \n",
              "5                 867603                 704       1086         259   \n",
              "6                 624897                 886        745         121   \n",
              "7                 502051                1054        652         103   \n",
              "8                1064928                2224        921         187   \n",
              "9                 627874                1086        667         104   \n",
              "\n",
              "   Jumlah SMA  Jumlah SMK  Jumlah Guru SD  Jumlah Guru SMP  Jumlah Guru SMA  \\\n",
              "0         183         160           18954             9574             3607   \n",
              "1          78         183            9325             4576             1698   \n",
              "2          92         139           11556             4979             1605   \n",
              "3         108         179           14767             6728             2755   \n",
              "4         124         136           12297             5930             2744   \n",
              "5          67          69            8413             4403             1412   \n",
              "6          27          44            6381             2824             1032   \n",
              "7          28         108            6431             2915             1239   \n",
              "8          47          56            9217             4974             1450   \n",
              "9          22          90            6340             2750             1002   \n",
              "\n",
              "   Jumlah Guru SMK  waktu_tempuh_sd_terdekat  waktu_tempuh_smp_terdekat  \\\n",
              "0             5323                  7.141827                  10.615385   \n",
              "1             2221                  7.678947                  12.200000   \n",
              "2             3167                  7.320113                  12.269341   \n",
              "3             2986                  6.055762                  10.744444   \n",
              "4             3598                  7.619048                  11.680191   \n",
              "5             2773                  6.347578                  10.170940   \n",
              "6             1600                  5.735409                   9.197674   \n",
              "7             1912                  6.382271                   9.988858   \n",
              "8             2827                  6.260976                   9.364078   \n",
              "9             1722                  4.939394                   8.726444   \n",
              "\n",
              "   waktu_tempuh_sma_terdekat  \\\n",
              "0                  11.794189   \n",
              "1                  14.206349   \n",
              "2                  13.418338   \n",
              "3                  14.003704   \n",
              "4                  12.480861   \n",
              "5                  12.014327   \n",
              "6                  10.311284   \n",
              "7                  13.530556   \n",
              "8                   9.090024   \n",
              "9                  11.192661   \n",
              "\n",
              "   Garis Kemiskinan Menurut Kab/Kota (Rupiah/Perkapita/Perbulan)  \n",
              "0                                             373799              \n",
              "1                                             309676              \n",
              "2                                             350760              \n",
              "3                                             345177              \n",
              "4                                             301202              \n",
              "5                                             311848              \n",
              "6                                             363750              \n",
              "7                                             340775              \n",
              "8                                             381372              \n",
              "9                                             445184              "
            ],
            "text/html": [
              "\n",
              "  <div id=\"df-b556e4a9-74cf-4b01-b977-21a75dc75b1a\">\n",
              "    <div class=\"colab-df-container\">\n",
              "      <div>\n",
              "<style scoped>\n",
              "    .dataframe tbody tr th:only-of-type {\n",
              "        vertical-align: middle;\n",
              "    }\n",
              "\n",
              "    .dataframe tbody tr th {\n",
              "        vertical-align: top;\n",
              "    }\n",
              "\n",
              "    .dataframe thead th {\n",
              "        text-align: right;\n",
              "    }\n",
              "</style>\n",
              "<table border=\"1\" class=\"dataframe\">\n",
              "  <thead>\n",
              "    <tr style=\"text-align: right;\">\n",
              "      <th></th>\n",
              "      <th>tahun</th>\n",
              "      <th>kabupaten</th>\n",
              "      <th>indeks_pendidikan</th>\n",
              "      <th>status_kegiatan_buta_aksara</th>\n",
              "      <th>ketersediaan_pkbm</th>\n",
              "      <th>ketersediaan_tbm</th>\n",
              "      <th>jumlah_angkatan_kerja</th>\n",
              "      <th>kepadatan_penduduk</th>\n",
              "      <th>Jumlah SD</th>\n",
              "      <th>Jumlah SMP</th>\n",
              "      <th>Jumlah SMA</th>\n",
              "      <th>Jumlah SMK</th>\n",
              "      <th>Jumlah Guru SD</th>\n",
              "      <th>Jumlah Guru SMP</th>\n",
              "      <th>Jumlah Guru SMA</th>\n",
              "      <th>Jumlah Guru SMK</th>\n",
              "      <th>waktu_tempuh_sd_terdekat</th>\n",
              "      <th>waktu_tempuh_smp_terdekat</th>\n",
              "      <th>waktu_tempuh_sma_terdekat</th>\n",
              "      <th>Garis Kemiskinan Menurut Kab/Kota (Rupiah/Perkapita/Perbulan)</th>\n",
              "    </tr>\n",
              "  </thead>\n",
              "  <tbody>\n",
              "    <tr>\n",
              "      <th>0</th>\n",
              "      <td>2019</td>\n",
              "      <td>KABUPATEN BOGOR</td>\n",
              "      <td>62.27</td>\n",
              "      <td>0.697115</td>\n",
              "      <td>254</td>\n",
              "      <td>298</td>\n",
              "      <td>2791651</td>\n",
              "      <td>1740</td>\n",
              "      <td>1823</td>\n",
              "      <td>690</td>\n",
              "      <td>183</td>\n",
              "      <td>160</td>\n",
              "      <td>18954</td>\n",
              "      <td>9574</td>\n",
              "      <td>3607</td>\n",
              "      <td>5323</td>\n",
              "      <td>7.141827</td>\n",
              "      <td>10.615385</td>\n",
              "      <td>11.794189</td>\n",
              "      <td>373799</td>\n",
              "    </tr>\n",
              "    <tr>\n",
              "      <th>1</th>\n",
              "      <td>2019</td>\n",
              "      <td>KABUPATEN SUKABUMI</td>\n",
              "      <td>57.34</td>\n",
              "      <td>0.808399</td>\n",
              "      <td>266</td>\n",
              "      <td>103</td>\n",
              "      <td>1120711</td>\n",
              "      <td>620</td>\n",
              "      <td>1211</td>\n",
              "      <td>330</td>\n",
              "      <td>78</td>\n",
              "      <td>183</td>\n",
              "      <td>9325</td>\n",
              "      <td>4576</td>\n",
              "      <td>1698</td>\n",
              "      <td>2221</td>\n",
              "      <td>7.678947</td>\n",
              "      <td>12.200000</td>\n",
              "      <td>14.206349</td>\n",
              "      <td>309676</td>\n",
              "    </tr>\n",
              "    <tr>\n",
              "      <th>2</th>\n",
              "      <td>2019</td>\n",
              "      <td>KABUPATEN CIANJUR</td>\n",
              "      <td>56.51</td>\n",
              "      <td>0.833333</td>\n",
              "      <td>252</td>\n",
              "      <td>193</td>\n",
              "      <td>1081183</td>\n",
              "      <td>597</td>\n",
              "      <td>1256</td>\n",
              "      <td>314</td>\n",
              "      <td>92</td>\n",
              "      <td>139</td>\n",
              "      <td>11556</td>\n",
              "      <td>4979</td>\n",
              "      <td>1605</td>\n",
              "      <td>3167</td>\n",
              "      <td>7.320113</td>\n",
              "      <td>12.269341</td>\n",
              "      <td>13.418338</td>\n",
              "      <td>350760</td>\n",
              "    </tr>\n",
              "    <tr>\n",
              "      <th>3</th>\n",
              "      <td>2019</td>\n",
              "      <td>KABUPATEN BANDUNG</td>\n",
              "      <td>64.52</td>\n",
              "      <td>0.744444</td>\n",
              "      <td>161</td>\n",
              "      <td>111</td>\n",
              "      <td>1786162</td>\n",
              "      <td>2015</td>\n",
              "      <td>1406</td>\n",
              "      <td>322</td>\n",
              "      <td>108</td>\n",
              "      <td>179</td>\n",
              "      <td>14767</td>\n",
              "      <td>6728</td>\n",
              "      <td>2755</td>\n",
              "      <td>2986</td>\n",
              "      <td>6.055762</td>\n",
              "      <td>10.744444</td>\n",
              "      <td>14.003704</td>\n",
              "      <td>345177</td>\n",
              "    </tr>\n",
              "    <tr>\n",
              "      <th>4</th>\n",
              "      <td>2019</td>\n",
              "      <td>KABUPATEN GARUT</td>\n",
              "      <td>57.87</td>\n",
              "      <td>0.857482</td>\n",
              "      <td>315</td>\n",
              "      <td>233</td>\n",
              "      <td>1155071</td>\n",
              "      <td>743</td>\n",
              "      <td>1584</td>\n",
              "      <td>381</td>\n",
              "      <td>124</td>\n",
              "      <td>136</td>\n",
              "      <td>12297</td>\n",
              "      <td>5930</td>\n",
              "      <td>2744</td>\n",
              "      <td>3598</td>\n",
              "      <td>7.619048</td>\n",
              "      <td>11.680191</td>\n",
              "      <td>12.480861</td>\n",
              "      <td>301202</td>\n",
              "    </tr>\n",
              "    <tr>\n",
              "      <th>5</th>\n",
              "      <td>2019</td>\n",
              "      <td>KABUPATEN TASIKMALAYA</td>\n",
              "      <td>58.68</td>\n",
              "      <td>0.917379</td>\n",
              "      <td>271</td>\n",
              "      <td>153</td>\n",
              "      <td>867603</td>\n",
              "      <td>704</td>\n",
              "      <td>1086</td>\n",
              "      <td>259</td>\n",
              "      <td>67</td>\n",
              "      <td>69</td>\n",
              "      <td>8413</td>\n",
              "      <td>4403</td>\n",
              "      <td>1412</td>\n",
              "      <td>2773</td>\n",
              "      <td>6.347578</td>\n",
              "      <td>10.170940</td>\n",
              "      <td>12.014327</td>\n",
              "      <td>311848</td>\n",
              "    </tr>\n",
              "    <tr>\n",
              "      <th>6</th>\n",
              "      <td>2019</td>\n",
              "      <td>KABUPATEN CIAMIS</td>\n",
              "      <td>63.94</td>\n",
              "      <td>0.794574</td>\n",
              "      <td>182</td>\n",
              "      <td>107</td>\n",
              "      <td>624897</td>\n",
              "      <td>886</td>\n",
              "      <td>745</td>\n",
              "      <td>121</td>\n",
              "      <td>27</td>\n",
              "      <td>44</td>\n",
              "      <td>6381</td>\n",
              "      <td>2824</td>\n",
              "      <td>1032</td>\n",
              "      <td>1600</td>\n",
              "      <td>5.735409</td>\n",
              "      <td>9.197674</td>\n",
              "      <td>10.311284</td>\n",
              "      <td>363750</td>\n",
              "    </tr>\n",
              "    <tr>\n",
              "      <th>7</th>\n",
              "      <td>2019</td>\n",
              "      <td>KABUPATEN KUNINGAN</td>\n",
              "      <td>58.21</td>\n",
              "      <td>0.941828</td>\n",
              "      <td>323</td>\n",
              "      <td>226</td>\n",
              "      <td>502051</td>\n",
              "      <td>1054</td>\n",
              "      <td>652</td>\n",
              "      <td>103</td>\n",
              "      <td>28</td>\n",
              "      <td>108</td>\n",
              "      <td>6431</td>\n",
              "      <td>2915</td>\n",
              "      <td>1239</td>\n",
              "      <td>1912</td>\n",
              "      <td>6.382271</td>\n",
              "      <td>9.988858</td>\n",
              "      <td>13.530556</td>\n",
              "      <td>340775</td>\n",
              "    </tr>\n",
              "    <tr>\n",
              "      <th>8</th>\n",
              "      <td>2019</td>\n",
              "      <td>KABUPATEN CIREBON</td>\n",
              "      <td>56.37</td>\n",
              "      <td>0.849515</td>\n",
              "      <td>329</td>\n",
              "      <td>248</td>\n",
              "      <td>1064928</td>\n",
              "      <td>2224</td>\n",
              "      <td>921</td>\n",
              "      <td>187</td>\n",
              "      <td>47</td>\n",
              "      <td>56</td>\n",
              "      <td>9217</td>\n",
              "      <td>4974</td>\n",
              "      <td>1450</td>\n",
              "      <td>2827</td>\n",
              "      <td>6.260976</td>\n",
              "      <td>9.364078</td>\n",
              "      <td>9.090024</td>\n",
              "      <td>381372</td>\n",
              "    </tr>\n",
              "    <tr>\n",
              "      <th>9</th>\n",
              "      <td>2019</td>\n",
              "      <td>KABUPATEN MAJALENGKA</td>\n",
              "      <td>57.55</td>\n",
              "      <td>0.921212</td>\n",
              "      <td>288</td>\n",
              "      <td>250</td>\n",
              "      <td>627874</td>\n",
              "      <td>1086</td>\n",
              "      <td>667</td>\n",
              "      <td>104</td>\n",
              "      <td>22</td>\n",
              "      <td>90</td>\n",
              "      <td>6340</td>\n",
              "      <td>2750</td>\n",
              "      <td>1002</td>\n",
              "      <td>1722</td>\n",
              "      <td>4.939394</td>\n",
              "      <td>8.726444</td>\n",
              "      <td>11.192661</td>\n",
              "      <td>445184</td>\n",
              "    </tr>\n",
              "  </tbody>\n",
              "</table>\n",
              "</div>\n",
              "      <button class=\"colab-df-convert\" onclick=\"convertToInteractive('df-b556e4a9-74cf-4b01-b977-21a75dc75b1a')\"\n",
              "              title=\"Convert this dataframe to an interactive table.\"\n",
              "              style=\"display:none;\">\n",
              "        \n",
              "  <svg xmlns=\"http://www.w3.org/2000/svg\" height=\"24px\"viewBox=\"0 0 24 24\"\n",
              "       width=\"24px\">\n",
              "    <path d=\"M0 0h24v24H0V0z\" fill=\"none\"/>\n",
              "    <path d=\"M18.56 5.44l.94 2.06.94-2.06 2.06-.94-2.06-.94-.94-2.06-.94 2.06-2.06.94zm-11 1L8.5 8.5l.94-2.06 2.06-.94-2.06-.94L8.5 2.5l-.94 2.06-2.06.94zm10 10l.94 2.06.94-2.06 2.06-.94-2.06-.94-.94-2.06-.94 2.06-2.06.94z\"/><path d=\"M17.41 7.96l-1.37-1.37c-.4-.4-.92-.59-1.43-.59-.52 0-1.04.2-1.43.59L10.3 9.45l-7.72 7.72c-.78.78-.78 2.05 0 2.83L4 21.41c.39.39.9.59 1.41.59.51 0 1.02-.2 1.41-.59l7.78-7.78 2.81-2.81c.8-.78.8-2.07 0-2.86zM5.41 20L4 18.59l7.72-7.72 1.47 1.35L5.41 20z\"/>\n",
              "  </svg>\n",
              "      </button>\n",
              "      \n",
              "  <style>\n",
              "    .colab-df-container {\n",
              "      display:flex;\n",
              "      flex-wrap:wrap;\n",
              "      gap: 12px;\n",
              "    }\n",
              "\n",
              "    .colab-df-convert {\n",
              "      background-color: #E8F0FE;\n",
              "      border: none;\n",
              "      border-radius: 50%;\n",
              "      cursor: pointer;\n",
              "      display: none;\n",
              "      fill: #1967D2;\n",
              "      height: 32px;\n",
              "      padding: 0 0 0 0;\n",
              "      width: 32px;\n",
              "    }\n",
              "\n",
              "    .colab-df-convert:hover {\n",
              "      background-color: #E2EBFA;\n",
              "      box-shadow: 0px 1px 2px rgba(60, 64, 67, 0.3), 0px 1px 3px 1px rgba(60, 64, 67, 0.15);\n",
              "      fill: #174EA6;\n",
              "    }\n",
              "\n",
              "    [theme=dark] .colab-df-convert {\n",
              "      background-color: #3B4455;\n",
              "      fill: #D2E3FC;\n",
              "    }\n",
              "\n",
              "    [theme=dark] .colab-df-convert:hover {\n",
              "      background-color: #434B5C;\n",
              "      box-shadow: 0px 1px 3px 1px rgba(0, 0, 0, 0.15);\n",
              "      filter: drop-shadow(0px 1px 2px rgba(0, 0, 0, 0.3));\n",
              "      fill: #FFFFFF;\n",
              "    }\n",
              "  </style>\n",
              "\n",
              "      <script>\n",
              "        const buttonEl =\n",
              "          document.querySelector('#df-b556e4a9-74cf-4b01-b977-21a75dc75b1a button.colab-df-convert');\n",
              "        buttonEl.style.display =\n",
              "          google.colab.kernel.accessAllowed ? 'block' : 'none';\n",
              "\n",
              "        async function convertToInteractive(key) {\n",
              "          const element = document.querySelector('#df-b556e4a9-74cf-4b01-b977-21a75dc75b1a');\n",
              "          const dataTable =\n",
              "            await google.colab.kernel.invokeFunction('convertToInteractive',\n",
              "                                                     [key], {});\n",
              "          if (!dataTable) return;\n",
              "\n",
              "          const docLinkHtml = 'Like what you see? Visit the ' +\n",
              "            '<a target=\"_blank\" href=https://colab.research.google.com/notebooks/data_table.ipynb>data table notebook</a>'\n",
              "            + ' to learn more about interactive tables.';\n",
              "          element.innerHTML = '';\n",
              "          dataTable['output_type'] = 'display_data';\n",
              "          await google.colab.output.renderOutput(dataTable, element);\n",
              "          const docLink = document.createElement('div');\n",
              "          docLink.innerHTML = docLinkHtml;\n",
              "          element.appendChild(docLink);\n",
              "        }\n",
              "      </script>\n",
              "    </div>\n",
              "  </div>\n",
              "  "
            ]
          },
          "metadata": {},
          "execution_count": 5
        }
      ]
    },
    {
      "cell_type": "markdown",
      "source": [
        "**Check Data Type**"
      ],
      "metadata": {
        "id": "AqDnEnY5hwIV"
      }
    },
    {
      "cell_type": "code",
      "source": [
        "df.info()"
      ],
      "metadata": {
        "colab": {
          "base_uri": "https://localhost:8080/"
        },
        "id": "3YDmmkiWc1J6",
        "outputId": "b2741ed4-76ac-48d4-ac1c-cb31f1749965"
      },
      "execution_count": 6,
      "outputs": [
        {
          "output_type": "stream",
          "name": "stdout",
          "text": [
            "<class 'pandas.core.frame.DataFrame'>\n",
            "RangeIndex: 54 entries, 0 to 53\n",
            "Data columns (total 20 columns):\n",
            " #   Column                                                         Non-Null Count  Dtype  \n",
            "---  ------                                                         --------------  -----  \n",
            " 0   tahun                                                          54 non-null     int64  \n",
            " 1   kabupaten                                                      54 non-null     object \n",
            " 2   indeks_pendidikan                                              54 non-null     float64\n",
            " 3   status_kegiatan_buta_aksara                                    54 non-null     float64\n",
            " 4   ketersediaan_pkbm                                              54 non-null     int64  \n",
            " 5   ketersediaan_tbm                                               54 non-null     int64  \n",
            " 6   jumlah_angkatan_kerja                                          54 non-null     int64  \n",
            " 7   kepadatan_penduduk                                             54 non-null     int64  \n",
            " 8   Jumlah SD                                                      54 non-null     int64  \n",
            " 9   Jumlah SMP                                                     54 non-null     int64  \n",
            " 10  Jumlah SMA                                                     54 non-null     int64  \n",
            " 11  Jumlah SMK                                                     54 non-null     int64  \n",
            " 12  Jumlah Guru SD                                                 54 non-null     int64  \n",
            " 13  Jumlah Guru SMP                                                54 non-null     int64  \n",
            " 14  Jumlah Guru SMA                                                54 non-null     int64  \n",
            " 15  Jumlah Guru SMK                                                54 non-null     int64  \n",
            " 16  waktu_tempuh_sd_terdekat                                       54 non-null     float64\n",
            " 17  waktu_tempuh_smp_terdekat                                      54 non-null     float64\n",
            " 18  waktu_tempuh_sma_terdekat                                      54 non-null     float64\n",
            " 19  Garis Kemiskinan Menurut Kab/Kota (Rupiah/Perkapita/Perbulan)  54 non-null     int64  \n",
            "dtypes: float64(5), int64(14), object(1)\n",
            "memory usage: 8.6+ KB\n"
          ]
        }
      ]
    },
    {
      "cell_type": "code",
      "source": [
        "df.describe()"
      ],
      "metadata": {
        "colab": {
          "base_uri": "https://localhost:8080/",
          "height": 399
        },
        "id": "NlzC78jUc5Az",
        "outputId": "f97bad83-5a46-4686-af4b-904086354471"
      },
      "execution_count": 7,
      "outputs": [
        {
          "output_type": "execute_result",
          "data": {
            "text/plain": [
              "             tahun  indeks_pendidikan  status_kegiatan_buta_aksara  \\\n",
              "count    54.000000          54.000000                    54.000000   \n",
              "mean   2020.000000          60.317778                     0.787740   \n",
              "std       0.824163           3.566387                     0.104981   \n",
              "min    2019.000000          53.970000                     0.437500   \n",
              "25%    2019.000000          57.580000                     0.753998   \n",
              "50%    2020.000000          59.510000                     0.796578   \n",
              "75%    2021.000000          63.847500                     0.850091   \n",
              "max    2021.000000          67.390000                     0.952909   \n",
              "\n",
              "       ketersediaan_pkbm  ketersediaan_tbm  jumlah_angkatan_kerja  \\\n",
              "count          54.000000         54.000000           5.400000e+01   \n",
              "mean          202.444444        132.296296           1.029097e+06   \n",
              "std            83.807656         69.990196           6.029675e+05   \n",
              "min             0.000000          0.000000           9.437800e+04   \n",
              "25%           150.500000         98.250000           6.428000e+05   \n",
              "50%           210.000000        117.500000           9.384075e+05   \n",
              "75%           263.750000        179.500000           1.162275e+06   \n",
              "max           329.000000        298.000000           2.791651e+06   \n",
              "\n",
              "       kepadatan_penduduk    Jumlah SD  Jumlah SMP  Jumlah SMA  Jumlah SMK  \\\n",
              "count           54.000000    54.000000   54.000000   54.000000   54.000000   \n",
              "mean          1252.814815   936.185185  238.111111   65.592593  118.574074   \n",
              "std            563.052565   411.636727  156.336920   45.650237   68.953800   \n",
              "min            597.000000    86.000000   25.000000    5.000000   17.000000   \n",
              "25%            821.250000   672.250000  121.250000   28.250000   69.250000   \n",
              "50%           1082.500000   899.500000  191.000000   50.500000  109.000000   \n",
              "75%           1697.500000  1212.500000  336.750000   93.500000  154.750000   \n",
              "max           2468.000000  1850.000000  724.000000  192.000000  359.000000   \n",
              "\n",
              "       Jumlah Guru SD  Jumlah Guru SMP  Jumlah Guru SMA  Jumlah Guru SMK  \\\n",
              "count       54.000000        54.000000        54.000000        54.000000   \n",
              "mean      9254.962963      4127.500000      1536.925926      2454.518519   \n",
              "std       4246.606156      2016.836377       825.546265      1080.368835   \n",
              "min        955.000000       561.000000       192.000000       510.000000   \n",
              "25%       6707.250000      2735.750000      1014.750000      1653.500000   \n",
              "50%       8477.500000      3809.000000      1375.000000      2520.500000   \n",
              "75%      11521.500000      4988.000000      1646.250000      2975.000000   \n",
              "max      20859.000000      9639.000000      3707.000000      5746.000000   \n",
              "\n",
              "       waktu_tempuh_sd_terdekat  waktu_tempuh_smp_terdekat  \\\n",
              "count                 54.000000                  54.000000   \n",
              "mean                   6.001127                   9.858420   \n",
              "std                    1.300052                   1.881185   \n",
              "min                    1.812500                   3.312500   \n",
              "25%                    5.525919                   9.207364   \n",
              "50%                    6.023569                  10.112064   \n",
              "75%                    6.948090                  11.001058   \n",
              "max                    8.144444                  12.528090   \n",
              "\n",
              "       waktu_tempuh_sma_terdekat  \\\n",
              "count                  54.000000   \n",
              "mean                   11.638714   \n",
              "std                     2.401256   \n",
              "min                     3.875000   \n",
              "25%                    10.987987   \n",
              "50%                    12.442145   \n",
              "75%                    13.413754   \n",
              "max                    14.206349   \n",
              "\n",
              "       Garis Kemiskinan Menurut Kab/Kota (Rupiah/Perkapita/Perbulan)  \n",
              "count                                          54.000000              \n",
              "mean                                       383816.000000              \n",
              "std                                         57885.395357              \n",
              "min                                        301202.000000              \n",
              "25%                                        342661.250000              \n",
              "50%                                        367338.000000              \n",
              "75%                                        404195.500000              \n",
              "max                                        549875.000000              "
            ],
            "text/html": [
              "\n",
              "  <div id=\"df-5a575aa1-a0bb-4e58-8a57-7d015ebd51b7\">\n",
              "    <div class=\"colab-df-container\">\n",
              "      <div>\n",
              "<style scoped>\n",
              "    .dataframe tbody tr th:only-of-type {\n",
              "        vertical-align: middle;\n",
              "    }\n",
              "\n",
              "    .dataframe tbody tr th {\n",
              "        vertical-align: top;\n",
              "    }\n",
              "\n",
              "    .dataframe thead th {\n",
              "        text-align: right;\n",
              "    }\n",
              "</style>\n",
              "<table border=\"1\" class=\"dataframe\">\n",
              "  <thead>\n",
              "    <tr style=\"text-align: right;\">\n",
              "      <th></th>\n",
              "      <th>tahun</th>\n",
              "      <th>indeks_pendidikan</th>\n",
              "      <th>status_kegiatan_buta_aksara</th>\n",
              "      <th>ketersediaan_pkbm</th>\n",
              "      <th>ketersediaan_tbm</th>\n",
              "      <th>jumlah_angkatan_kerja</th>\n",
              "      <th>kepadatan_penduduk</th>\n",
              "      <th>Jumlah SD</th>\n",
              "      <th>Jumlah SMP</th>\n",
              "      <th>Jumlah SMA</th>\n",
              "      <th>Jumlah SMK</th>\n",
              "      <th>Jumlah Guru SD</th>\n",
              "      <th>Jumlah Guru SMP</th>\n",
              "      <th>Jumlah Guru SMA</th>\n",
              "      <th>Jumlah Guru SMK</th>\n",
              "      <th>waktu_tempuh_sd_terdekat</th>\n",
              "      <th>waktu_tempuh_smp_terdekat</th>\n",
              "      <th>waktu_tempuh_sma_terdekat</th>\n",
              "      <th>Garis Kemiskinan Menurut Kab/Kota (Rupiah/Perkapita/Perbulan)</th>\n",
              "    </tr>\n",
              "  </thead>\n",
              "  <tbody>\n",
              "    <tr>\n",
              "      <th>count</th>\n",
              "      <td>54.000000</td>\n",
              "      <td>54.000000</td>\n",
              "      <td>54.000000</td>\n",
              "      <td>54.000000</td>\n",
              "      <td>54.000000</td>\n",
              "      <td>5.400000e+01</td>\n",
              "      <td>54.000000</td>\n",
              "      <td>54.000000</td>\n",
              "      <td>54.000000</td>\n",
              "      <td>54.000000</td>\n",
              "      <td>54.000000</td>\n",
              "      <td>54.000000</td>\n",
              "      <td>54.000000</td>\n",
              "      <td>54.000000</td>\n",
              "      <td>54.000000</td>\n",
              "      <td>54.000000</td>\n",
              "      <td>54.000000</td>\n",
              "      <td>54.000000</td>\n",
              "      <td>54.000000</td>\n",
              "    </tr>\n",
              "    <tr>\n",
              "      <th>mean</th>\n",
              "      <td>2020.000000</td>\n",
              "      <td>60.317778</td>\n",
              "      <td>0.787740</td>\n",
              "      <td>202.444444</td>\n",
              "      <td>132.296296</td>\n",
              "      <td>1.029097e+06</td>\n",
              "      <td>1252.814815</td>\n",
              "      <td>936.185185</td>\n",
              "      <td>238.111111</td>\n",
              "      <td>65.592593</td>\n",
              "      <td>118.574074</td>\n",
              "      <td>9254.962963</td>\n",
              "      <td>4127.500000</td>\n",
              "      <td>1536.925926</td>\n",
              "      <td>2454.518519</td>\n",
              "      <td>6.001127</td>\n",
              "      <td>9.858420</td>\n",
              "      <td>11.638714</td>\n",
              "      <td>383816.000000</td>\n",
              "    </tr>\n",
              "    <tr>\n",
              "      <th>std</th>\n",
              "      <td>0.824163</td>\n",
              "      <td>3.566387</td>\n",
              "      <td>0.104981</td>\n",
              "      <td>83.807656</td>\n",
              "      <td>69.990196</td>\n",
              "      <td>6.029675e+05</td>\n",
              "      <td>563.052565</td>\n",
              "      <td>411.636727</td>\n",
              "      <td>156.336920</td>\n",
              "      <td>45.650237</td>\n",
              "      <td>68.953800</td>\n",
              "      <td>4246.606156</td>\n",
              "      <td>2016.836377</td>\n",
              "      <td>825.546265</td>\n",
              "      <td>1080.368835</td>\n",
              "      <td>1.300052</td>\n",
              "      <td>1.881185</td>\n",
              "      <td>2.401256</td>\n",
              "      <td>57885.395357</td>\n",
              "    </tr>\n",
              "    <tr>\n",
              "      <th>min</th>\n",
              "      <td>2019.000000</td>\n",
              "      <td>53.970000</td>\n",
              "      <td>0.437500</td>\n",
              "      <td>0.000000</td>\n",
              "      <td>0.000000</td>\n",
              "      <td>9.437800e+04</td>\n",
              "      <td>597.000000</td>\n",
              "      <td>86.000000</td>\n",
              "      <td>25.000000</td>\n",
              "      <td>5.000000</td>\n",
              "      <td>17.000000</td>\n",
              "      <td>955.000000</td>\n",
              "      <td>561.000000</td>\n",
              "      <td>192.000000</td>\n",
              "      <td>510.000000</td>\n",
              "      <td>1.812500</td>\n",
              "      <td>3.312500</td>\n",
              "      <td>3.875000</td>\n",
              "      <td>301202.000000</td>\n",
              "    </tr>\n",
              "    <tr>\n",
              "      <th>25%</th>\n",
              "      <td>2019.000000</td>\n",
              "      <td>57.580000</td>\n",
              "      <td>0.753998</td>\n",
              "      <td>150.500000</td>\n",
              "      <td>98.250000</td>\n",
              "      <td>6.428000e+05</td>\n",
              "      <td>821.250000</td>\n",
              "      <td>672.250000</td>\n",
              "      <td>121.250000</td>\n",
              "      <td>28.250000</td>\n",
              "      <td>69.250000</td>\n",
              "      <td>6707.250000</td>\n",
              "      <td>2735.750000</td>\n",
              "      <td>1014.750000</td>\n",
              "      <td>1653.500000</td>\n",
              "      <td>5.525919</td>\n",
              "      <td>9.207364</td>\n",
              "      <td>10.987987</td>\n",
              "      <td>342661.250000</td>\n",
              "    </tr>\n",
              "    <tr>\n",
              "      <th>50%</th>\n",
              "      <td>2020.000000</td>\n",
              "      <td>59.510000</td>\n",
              "      <td>0.796578</td>\n",
              "      <td>210.000000</td>\n",
              "      <td>117.500000</td>\n",
              "      <td>9.384075e+05</td>\n",
              "      <td>1082.500000</td>\n",
              "      <td>899.500000</td>\n",
              "      <td>191.000000</td>\n",
              "      <td>50.500000</td>\n",
              "      <td>109.000000</td>\n",
              "      <td>8477.500000</td>\n",
              "      <td>3809.000000</td>\n",
              "      <td>1375.000000</td>\n",
              "      <td>2520.500000</td>\n",
              "      <td>6.023569</td>\n",
              "      <td>10.112064</td>\n",
              "      <td>12.442145</td>\n",
              "      <td>367338.000000</td>\n",
              "    </tr>\n",
              "    <tr>\n",
              "      <th>75%</th>\n",
              "      <td>2021.000000</td>\n",
              "      <td>63.847500</td>\n",
              "      <td>0.850091</td>\n",
              "      <td>263.750000</td>\n",
              "      <td>179.500000</td>\n",
              "      <td>1.162275e+06</td>\n",
              "      <td>1697.500000</td>\n",
              "      <td>1212.500000</td>\n",
              "      <td>336.750000</td>\n",
              "      <td>93.500000</td>\n",
              "      <td>154.750000</td>\n",
              "      <td>11521.500000</td>\n",
              "      <td>4988.000000</td>\n",
              "      <td>1646.250000</td>\n",
              "      <td>2975.000000</td>\n",
              "      <td>6.948090</td>\n",
              "      <td>11.001058</td>\n",
              "      <td>13.413754</td>\n",
              "      <td>404195.500000</td>\n",
              "    </tr>\n",
              "    <tr>\n",
              "      <th>max</th>\n",
              "      <td>2021.000000</td>\n",
              "      <td>67.390000</td>\n",
              "      <td>0.952909</td>\n",
              "      <td>329.000000</td>\n",
              "      <td>298.000000</td>\n",
              "      <td>2.791651e+06</td>\n",
              "      <td>2468.000000</td>\n",
              "      <td>1850.000000</td>\n",
              "      <td>724.000000</td>\n",
              "      <td>192.000000</td>\n",
              "      <td>359.000000</td>\n",
              "      <td>20859.000000</td>\n",
              "      <td>9639.000000</td>\n",
              "      <td>3707.000000</td>\n",
              "      <td>5746.000000</td>\n",
              "      <td>8.144444</td>\n",
              "      <td>12.528090</td>\n",
              "      <td>14.206349</td>\n",
              "      <td>549875.000000</td>\n",
              "    </tr>\n",
              "  </tbody>\n",
              "</table>\n",
              "</div>\n",
              "      <button class=\"colab-df-convert\" onclick=\"convertToInteractive('df-5a575aa1-a0bb-4e58-8a57-7d015ebd51b7')\"\n",
              "              title=\"Convert this dataframe to an interactive table.\"\n",
              "              style=\"display:none;\">\n",
              "        \n",
              "  <svg xmlns=\"http://www.w3.org/2000/svg\" height=\"24px\"viewBox=\"0 0 24 24\"\n",
              "       width=\"24px\">\n",
              "    <path d=\"M0 0h24v24H0V0z\" fill=\"none\"/>\n",
              "    <path d=\"M18.56 5.44l.94 2.06.94-2.06 2.06-.94-2.06-.94-.94-2.06-.94 2.06-2.06.94zm-11 1L8.5 8.5l.94-2.06 2.06-.94-2.06-.94L8.5 2.5l-.94 2.06-2.06.94zm10 10l.94 2.06.94-2.06 2.06-.94-2.06-.94-.94-2.06-.94 2.06-2.06.94z\"/><path d=\"M17.41 7.96l-1.37-1.37c-.4-.4-.92-.59-1.43-.59-.52 0-1.04.2-1.43.59L10.3 9.45l-7.72 7.72c-.78.78-.78 2.05 0 2.83L4 21.41c.39.39.9.59 1.41.59.51 0 1.02-.2 1.41-.59l7.78-7.78 2.81-2.81c.8-.78.8-2.07 0-2.86zM5.41 20L4 18.59l7.72-7.72 1.47 1.35L5.41 20z\"/>\n",
              "  </svg>\n",
              "      </button>\n",
              "      \n",
              "  <style>\n",
              "    .colab-df-container {\n",
              "      display:flex;\n",
              "      flex-wrap:wrap;\n",
              "      gap: 12px;\n",
              "    }\n",
              "\n",
              "    .colab-df-convert {\n",
              "      background-color: #E8F0FE;\n",
              "      border: none;\n",
              "      border-radius: 50%;\n",
              "      cursor: pointer;\n",
              "      display: none;\n",
              "      fill: #1967D2;\n",
              "      height: 32px;\n",
              "      padding: 0 0 0 0;\n",
              "      width: 32px;\n",
              "    }\n",
              "\n",
              "    .colab-df-convert:hover {\n",
              "      background-color: #E2EBFA;\n",
              "      box-shadow: 0px 1px 2px rgba(60, 64, 67, 0.3), 0px 1px 3px 1px rgba(60, 64, 67, 0.15);\n",
              "      fill: #174EA6;\n",
              "    }\n",
              "\n",
              "    [theme=dark] .colab-df-convert {\n",
              "      background-color: #3B4455;\n",
              "      fill: #D2E3FC;\n",
              "    }\n",
              "\n",
              "    [theme=dark] .colab-df-convert:hover {\n",
              "      background-color: #434B5C;\n",
              "      box-shadow: 0px 1px 3px 1px rgba(0, 0, 0, 0.15);\n",
              "      filter: drop-shadow(0px 1px 2px rgba(0, 0, 0, 0.3));\n",
              "      fill: #FFFFFF;\n",
              "    }\n",
              "  </style>\n",
              "\n",
              "      <script>\n",
              "        const buttonEl =\n",
              "          document.querySelector('#df-5a575aa1-a0bb-4e58-8a57-7d015ebd51b7 button.colab-df-convert');\n",
              "        buttonEl.style.display =\n",
              "          google.colab.kernel.accessAllowed ? 'block' : 'none';\n",
              "\n",
              "        async function convertToInteractive(key) {\n",
              "          const element = document.querySelector('#df-5a575aa1-a0bb-4e58-8a57-7d015ebd51b7');\n",
              "          const dataTable =\n",
              "            await google.colab.kernel.invokeFunction('convertToInteractive',\n",
              "                                                     [key], {});\n",
              "          if (!dataTable) return;\n",
              "\n",
              "          const docLinkHtml = 'Like what you see? Visit the ' +\n",
              "            '<a target=\"_blank\" href=https://colab.research.google.com/notebooks/data_table.ipynb>data table notebook</a>'\n",
              "            + ' to learn more about interactive tables.';\n",
              "          element.innerHTML = '';\n",
              "          dataTable['output_type'] = 'display_data';\n",
              "          await google.colab.output.renderOutput(dataTable, element);\n",
              "          const docLink = document.createElement('div');\n",
              "          docLink.innerHTML = docLinkHtml;\n",
              "          element.appendChild(docLink);\n",
              "        }\n",
              "      </script>\n",
              "    </div>\n",
              "  </div>\n",
              "  "
            ]
          },
          "metadata": {},
          "execution_count": 7
        }
      ]
    },
    {
      "cell_type": "markdown",
      "source": [
        "**Cek distribusi Indeks Pendidikan**"
      ],
      "metadata": {
        "id": "RWAbv8roWXQy"
      }
    },
    {
      "cell_type": "markdown",
      "source": [
        "Dengan menggunakan Kernel density function (KDE) maupun distribution plot (distplot)"
      ],
      "metadata": {
        "id": "Pjv0xOSgWbC5"
      }
    },
    {
      "cell_type": "code",
      "source": [
        "df['indeks_pendidikan'].plot.kde()"
      ],
      "metadata": {
        "colab": {
          "base_uri": "https://localhost:8080/",
          "height": 283
        },
        "id": "MkgCUNVcVJ5g",
        "outputId": "555f7d07-e651-4542-d0a3-5228d8c155da"
      },
      "execution_count": 8,
      "outputs": [
        {
          "output_type": "execute_result",
          "data": {
            "text/plain": [
              "<matplotlib.axes._subplots.AxesSubplot at 0x7feea6d440d0>"
            ]
          },
          "metadata": {},
          "execution_count": 8
        },
        {
          "output_type": "display_data",
          "data": {
            "text/plain": [
              "<Figure size 432x288 with 1 Axes>"
            ],
            "image/png": "[encoded data removed]"
          },
          "metadata": {
            "needs_background": "light"
          }
        }
      ]
    },
    {
      "cell_type": "code",
      "source": [
        "sns.distplot(df['indeks_pendidikan'])"
      ],
      "metadata": {
        "colab": {
          "base_uri": "https://localhost:8080/",
          "height": 337
        },
        "id": "0NWki3JYWF3a",
        "outputId": "6191179f-4700-4d3d-fb1a-0a3848d221a7"
      },
      "execution_count": 9,
      "outputs": [
        {
          "output_type": "stream",
          "name": "stderr",
          "text": [
            "`distplot` is a deprecated function and will be removed in a future version. Please adapt your code to use either `displot` (a figure-level function with similar flexibility) or `histplot` (an axes-level function for histograms).\n"
          ]
        },
        {
          "output_type": "execute_result",
          "data": {
            "text/plain": [
              "<matplotlib.axes._subplots.AxesSubplot at 0x7feea6c1e6d0>"
            ]
          },
          "metadata": {},
          "execution_count": 9
        },
        {
          "output_type": "display_data",
          "data": {
            "text/plain": [
              "<Figure size 432x288 with 1 Axes>"
            ],
            "image/png": "[encoded data removed]"
          },
          "metadata": {
            "needs_background": "light"
          }
        }
      ]
    },
    {
      "cell_type": "markdown",
      "source": [
        "Dapat terlihat di awal bahwa indeks pendidikan paling banyak berada di antara 55 dan 60"
      ],
      "metadata": {
        "id": "eMxf99fEWI8o"
      }
    },
    {
      "cell_type": "markdown",
      "source": [
        "## Feature Engineering"
      ],
      "metadata": {
        "id": "Tw5zYBckIehK"
      }
    },
    {
      "cell_type": "markdown",
      "source": [
        "**Lakukan Standard Scaler pada fitur dan juga target**"
      ],
      "metadata": {
        "id": "7cztD6ooS7gt"
      }
    },
    {
      "cell_type": "code",
      "source": [
        "#Preprocessing Feature\n",
        "%time\n",
        "scaler_fitur = StandardScaler()\n",
        "columnscale= [\n",
        "       'status_kegiatan_buta_aksara', 'ketersediaan_pkbm', 'ketersediaan_tbm',\n",
        "       'jumlah_angkatan_kerja', 'kepadatan_penduduk', 'Jumlah SD',\n",
        "       'Jumlah SMP', 'Jumlah SMA', 'Jumlah SMK', 'Jumlah Guru SD',\n",
        "       'Jumlah Guru SMP', 'Jumlah Guru SMA', 'Jumlah Guru SMK',\n",
        "       'waktu_tempuh_sd_terdekat', 'waktu_tempuh_smp_terdekat',\n",
        "       'waktu_tempuh_sma_terdekat',\n",
        "       'Garis Kemiskinan Menurut Kab/Kota (Rupiah/Perkapita/Perbulan)']\n",
        "#scaler.fit(df[columnscale])\n",
        "#scaler.transform(df[columnscale])\n",
        "df_fitur = df[columnscale]\n",
        "df_scaled_fitur = pd.DataFrame(scaler_fitur.fit_transform(df_fitur),columns = df_fitur.columns)"
      ],
      "metadata": {
        "id": "f4JEwgWYeH7R",
        "colab": {
          "base_uri": "https://localhost:8080/"
        },
        "outputId": "54a9534f-cf62-488e-cb06-30600d6c867e"
      },
      "execution_count": 10,
      "outputs": [
        {
          "output_type": "stream",
          "name": "stdout",
          "text": [
            "CPU times: user 4 µs, sys: 0 ns, total: 4 µs\n",
            "Wall time: 8.34 µs\n"
          ]
        }
      ]
    },
    {
      "cell_type": "code",
      "source": [
        "df_scaled_fitur.head(5)"
      ],
      "metadata": {
        "colab": {
          "base_uri": "https://localhost:8080/",
          "height": 305
        },
        "id": "I6GfXARZepFC",
        "outputId": "d2d2d149-16a3-490c-aaa5-2b678300da1d"
      },
      "execution_count": 11,
      "outputs": [
        {
          "output_type": "execute_result",
          "data": {
            "text/plain": [
              "   status_kegiatan_buta_aksara  ketersediaan_pkbm  ketersediaan_tbm  \\\n",
              "0                    -0.871350           0.620942          2.389758   \n",
              "1                     0.198639           0.765471         -0.422508   \n",
              "2                     0.438382           0.596853          0.875461   \n",
              "3                    -0.416282          -0.499162         -0.307133   \n",
              "4                     0.670573           1.355633          1.452336   \n",
              "\n",
              "   jumlah_angkatan_kerja  kepadatan_penduduk  Jumlah SD  Jumlah SMP  \\\n",
              "0               2.950581            0.873382   2.174592    2.917622   \n",
              "1               0.153366           -1.134453   0.673884    0.593281   \n",
              "2               0.087194           -1.175686   0.784230    0.489977   \n",
              "3               1.267355            1.366377   1.152051    0.541629   \n",
              "4               0.210886           -0.913950   1.588531    0.922563   \n",
              "\n",
              "   Jumlah SMA  Jumlah SMK  Jumlah Guru SD  Jumlah Guru SMP  Jumlah Guru SMA  \\\n",
              "0    2.596040    0.606419        2.305396         2.725874         2.531066   \n",
              "1    0.274345    0.943108        0.016647         0.224466         0.196944   \n",
              "2    0.583904    0.299008        0.546941         0.426160         0.083234   \n",
              "3    0.937686    0.884553        1.310174         1.301503         1.489331   \n",
              "4    1.291469    0.255092        0.723072         0.902118         1.475881   \n",
              "\n",
              "   Jumlah Guru SMK  waktu_tempuh_sd_terdekat  waktu_tempuh_smp_terdekat  \\\n",
              "0         2.680026                  0.885665                   0.406165   \n",
              "1        -0.218177                  1.302698                   1.256424   \n",
              "2         0.665672                  1.024091                   1.293631   \n",
              "3         0.496564                  0.042420                   0.475415   \n",
              "4         1.068356                  1.256190                   0.977510   \n",
              "\n",
              "   waktu_tempuh_sma_terdekat  \\\n",
              "0                   0.065355   \n",
              "1                   1.079329   \n",
              "2                   0.748081   \n",
              "3                   0.994145   \n",
              "4                   0.354004   \n",
              "\n",
              "   Garis Kemiskinan Menurut Kab/Kota (Rupiah/Perkapita/Perbulan)  \n",
              "0                                          -0.174674              \n",
              "1                                          -1.292833              \n",
              "2                                          -0.576422              \n",
              "3                                          -0.673776              \n",
              "4                                          -1.440601              "
            ],
            "text/html": [
              "\n",
              "  <div id=\"df-17d4ac26-dc87-4546-a531-19fb898470c0\">\n",
              "    <div class=\"colab-df-container\">\n",
              "      <div>\n",
              "<style scoped>\n",
              "    .dataframe tbody tr th:only-of-type {\n",
              "        vertical-align: middle;\n",
              "    }\n",
              "\n",
              "    .dataframe tbody tr th {\n",
              "        vertical-align: top;\n",
              "    }\n",
              "\n",
              "    .dataframe thead th {\n",
              "        text-align: right;\n",
              "    }\n",
              "</style>\n",
              "<table border=\"1\" class=\"dataframe\">\n",
              "  <thead>\n",
              "    <tr style=\"text-align: right;\">\n",
              "      <th></th>\n",
              "      <th>status_kegiatan_buta_aksara</th>\n",
              "      <th>ketersediaan_pkbm</th>\n",
              "      <th>ketersediaan_tbm</th>\n",
              "      <th>jumlah_angkatan_kerja</th>\n",
              "      <th>kepadatan_penduduk</th>\n",
              "      <th>Jumlah SD</th>\n",
              "      <th>Jumlah SMP</th>\n",
              "      <th>Jumlah SMA</th>\n",
              "      <th>Jumlah SMK</th>\n",
              "      <th>Jumlah Guru SD</th>\n",
              "      <th>Jumlah Guru SMP</th>\n",
              "      <th>Jumlah Guru SMA</th>\n",
              "      <th>Jumlah Guru SMK</th>\n",
              "      <th>waktu_tempuh_sd_terdekat</th>\n",
              "      <th>waktu_tempuh_smp_terdekat</th>\n",
              "      <th>waktu_tempuh_sma_terdekat</th>\n",
              "      <th>Garis Kemiskinan Menurut Kab/Kota (Rupiah/Perkapita/Perbulan)</th>\n",
              "    </tr>\n",
              "  </thead>\n",
              "  <tbody>\n",
              "    <tr>\n",
              "      <th>0</th>\n",
              "      <td>-0.871350</td>\n",
              "      <td>0.620942</td>\n",
              "      <td>2.389758</td>\n",
              "      <td>2.950581</td>\n",
              "      <td>0.873382</td>\n",
              "      <td>2.174592</td>\n",
              "      <td>2.917622</td>\n",
              "      <td>2.596040</td>\n",
              "      <td>0.606419</td>\n",
              "      <td>2.305396</td>\n",
              "      <td>2.725874</td>\n",
              "      <td>2.531066</td>\n",
              "      <td>2.680026</td>\n",
              "      <td>0.885665</td>\n",
              "      <td>0.406165</td>\n",
              "      <td>0.065355</td>\n",
              "      <td>-0.174674</td>\n",
              "    </tr>\n",
              "    <tr>\n",
              "      <th>1</th>\n",
              "      <td>0.198639</td>\n",
              "      <td>0.765471</td>\n",
              "      <td>-0.422508</td>\n",
              "      <td>0.153366</td>\n",
              "      <td>-1.134453</td>\n",
              "      <td>0.673884</td>\n",
              "      <td>0.593281</td>\n",
              "      <td>0.274345</td>\n",
              "      <td>0.943108</td>\n",
              "      <td>0.016647</td>\n",
              "      <td>0.224466</td>\n",
              "      <td>0.196944</td>\n",
              "      <td>-0.218177</td>\n",
              "      <td>1.302698</td>\n",
              "      <td>1.256424</td>\n",
              "      <td>1.079329</td>\n",
              "      <td>-1.292833</td>\n",
              "    </tr>\n",
              "    <tr>\n",
              "      <th>2</th>\n",
              "      <td>0.438382</td>\n",
              "      <td>0.596853</td>\n",
              "      <td>0.875461</td>\n",
              "      <td>0.087194</td>\n",
              "      <td>-1.175686</td>\n",
              "      <td>0.784230</td>\n",
              "      <td>0.489977</td>\n",
              "      <td>0.583904</td>\n",
              "      <td>0.299008</td>\n",
              "      <td>0.546941</td>\n",
              "      <td>0.426160</td>\n",
              "      <td>0.083234</td>\n",
              "      <td>0.665672</td>\n",
              "      <td>1.024091</td>\n",
              "      <td>1.293631</td>\n",
              "      <td>0.748081</td>\n",
              "      <td>-0.576422</td>\n",
              "    </tr>\n",
              "    <tr>\n",
              "      <th>3</th>\n",
              "      <td>-0.416282</td>\n",
              "      <td>-0.499162</td>\n",
              "      <td>-0.307133</td>\n",
              "      <td>1.267355</td>\n",
              "      <td>1.366377</td>\n",
              "      <td>1.152051</td>\n",
              "      <td>0.541629</td>\n",
              "      <td>0.937686</td>\n",
              "      <td>0.884553</td>\n",
              "      <td>1.310174</td>\n",
              "      <td>1.301503</td>\n",
              "      <td>1.489331</td>\n",
              "      <td>0.496564</td>\n",
              "      <td>0.042420</td>\n",
              "      <td>0.475415</td>\n",
              "      <td>0.994145</td>\n",
              "      <td>-0.673776</td>\n",
              "    </tr>\n",
              "    <tr>\n",
              "      <th>4</th>\n",
              "      <td>0.670573</td>\n",
              "      <td>1.355633</td>\n",
              "      <td>1.452336</td>\n",
              "      <td>0.210886</td>\n",
              "      <td>-0.913950</td>\n",
              "      <td>1.588531</td>\n",
              "      <td>0.922563</td>\n",
              "      <td>1.291469</td>\n",
              "      <td>0.255092</td>\n",
              "      <td>0.723072</td>\n",
              "      <td>0.902118</td>\n",
              "      <td>1.475881</td>\n",
              "      <td>1.068356</td>\n",
              "      <td>1.256190</td>\n",
              "      <td>0.977510</td>\n",
              "      <td>0.354004</td>\n",
              "      <td>-1.440601</td>\n",
              "    </tr>\n",
              "  </tbody>\n",
              "</table>\n",
              "</div>\n",
              "      <button class=\"colab-df-convert\" onclick=\"convertToInteractive('df-17d4ac26-dc87-4546-a531-19fb898470c0')\"\n",
              "              title=\"Convert this dataframe to an interactive table.\"\n",
              "              style=\"display:none;\">\n",
              "        \n",
              "  <svg xmlns=\"http://www.w3.org/2000/svg\" height=\"24px\"viewBox=\"0 0 24 24\"\n",
              "       width=\"24px\">\n",
              "    <path d=\"M0 0h24v24H0V0z\" fill=\"none\"/>\n",
              "    <path d=\"M18.56 5.44l.94 2.06.94-2.06 2.06-.94-2.06-.94-.94-2.06-.94 2.06-2.06.94zm-11 1L8.5 8.5l.94-2.06 2.06-.94-2.06-.94L8.5 2.5l-.94 2.06-2.06.94zm10 10l.94 2.06.94-2.06 2.06-.94-2.06-.94-.94-2.06-.94 2.06-2.06.94z\"/><path d=\"M17.41 7.96l-1.37-1.37c-.4-.4-.92-.59-1.43-.59-.52 0-1.04.2-1.43.59L10.3 9.45l-7.72 7.72c-.78.78-.78 2.05 0 2.83L4 21.41c.39.39.9.59 1.41.59.51 0 1.02-.2 1.41-.59l7.78-7.78 2.81-2.81c.8-.78.8-2.07 0-2.86zM5.41 20L4 18.59l7.72-7.72 1.47 1.35L5.41 20z\"/>\n",
              "  </svg>\n",
              "      </button>\n",
              "      \n",
              "  <style>\n",
              "    .colab-df-container {\n",
              "      display:flex;\n",
              "      flex-wrap:wrap;\n",
              "      gap: 12px;\n",
              "    }\n",
              "\n",
              "    .colab-df-convert {\n",
              "      background-color: #E8F0FE;\n",
              "      border: none;\n",
              "      border-radius: 50%;\n",
              "      cursor: pointer;\n",
              "      display: none;\n",
              "      fill: #1967D2;\n",
              "      height: 32px;\n",
              "      padding: 0 0 0 0;\n",
              "      width: 32px;\n",
              "    }\n",
              "\n",
              "    .colab-df-convert:hover {\n",
              "      background-color: #E2EBFA;\n",
              "      box-shadow: 0px 1px 2px rgba(60, 64, 67, 0.3), 0px 1px 3px 1px rgba(60, 64, 67, 0.15);\n",
              "      fill: #174EA6;\n",
              "    }\n",
              "\n",
              "    [theme=dark] .colab-df-convert {\n",
              "      background-color: #3B4455;\n",
              "      fill: #D2E3FC;\n",
              "    }\n",
              "\n",
              "    [theme=dark] .colab-df-convert:hover {\n",
              "      background-color: #434B5C;\n",
              "      box-shadow: 0px 1px 3px 1px rgba(0, 0, 0, 0.15);\n",
              "      filter: drop-shadow(0px 1px 2px rgba(0, 0, 0, 0.3));\n",
              "      fill: #FFFFFF;\n",
              "    }\n",
              "  </style>\n",
              "\n",
              "      <script>\n",
              "        const buttonEl =\n",
              "          document.querySelector('#df-17d4ac26-dc87-4546-a531-19fb898470c0 button.colab-df-convert');\n",
              "        buttonEl.style.display =\n",
              "          google.colab.kernel.accessAllowed ? 'block' : 'none';\n",
              "\n",
              "        async function convertToInteractive(key) {\n",
              "          const element = document.querySelector('#df-17d4ac26-dc87-4546-a531-19fb898470c0');\n",
              "          const dataTable =\n",
              "            await google.colab.kernel.invokeFunction('convertToInteractive',\n",
              "                                                     [key], {});\n",
              "          if (!dataTable) return;\n",
              "\n",
              "          const docLinkHtml = 'Like what you see? Visit the ' +\n",
              "            '<a target=\"_blank\" href=https://colab.research.google.com/notebooks/data_table.ipynb>data table notebook</a>'\n",
              "            + ' to learn more about interactive tables.';\n",
              "          element.innerHTML = '';\n",
              "          dataTable['output_type'] = 'display_data';\n",
              "          await google.colab.output.renderOutput(dataTable, element);\n",
              "          const docLink = document.createElement('div');\n",
              "          docLink.innerHTML = docLinkHtml;\n",
              "          element.appendChild(docLink);\n",
              "        }\n",
              "      </script>\n",
              "    </div>\n",
              "  </div>\n",
              "  "
            ]
          },
          "metadata": {},
          "execution_count": 11
        }
      ]
    },
    {
      "cell_type": "code",
      "source": [
        "#Preprocessing target\n",
        "from sklearn.preprocessing import StandardScaler\n",
        "scaler_target = StandardScaler()\n",
        "columnscale= [ 'indeks_pendidikan']\n",
        "df_target = df[columnscale]\n",
        "df_scaled_target = pd.DataFrame(scaler_target.fit_transform(df_target),columns = df_target.columns)"
      ],
      "metadata": {
        "id": "Tdsz6Q-nchA4"
      },
      "execution_count": 12,
      "outputs": []
    },
    {
      "cell_type": "code",
      "source": [
        "df_scaled_target.head(5)"
      ],
      "metadata": {
        "colab": {
          "base_uri": "https://localhost:8080/",
          "height": 206
        },
        "id": "_QbZhitRegkQ",
        "outputId": "7c8dd9ee-dfcc-4163-d221-c3616d27f5d6"
      },
      "execution_count": 13,
      "outputs": [
        {
          "output_type": "execute_result",
          "data": {
            "text/plain": [
              "   indeks_pendidikan\n",
              "0           0.552535\n",
              "1          -0.842796\n",
              "2          -1.077710\n",
              "3           1.189349\n",
              "4          -0.692791"
            ],
            "text/html": [
              "\n",
              "  <div id=\"df-4f9a5f97-c6e4-4c44-a272-de21f1af3382\">\n",
              "    <div class=\"colab-df-container\">\n",
              "      <div>\n",
              "<style scoped>\n",
              "    .dataframe tbody tr th:only-of-type {\n",
              "        vertical-align: middle;\n",
              "    }\n",
              "\n",
              "    .dataframe tbody tr th {\n",
              "        vertical-align: top;\n",
              "    }\n",
              "\n",
              "    .dataframe thead th {\n",
              "        text-align: right;\n",
              "    }\n",
              "</style>\n",
              "<table border=\"1\" class=\"dataframe\">\n",
              "  <thead>\n",
              "    <tr style=\"text-align: right;\">\n",
              "      <th></th>\n",
              "      <th>indeks_pendidikan</th>\n",
              "    </tr>\n",
              "  </thead>\n",
              "  <tbody>\n",
              "    <tr>\n",
              "      <th>0</th>\n",
              "      <td>0.552535</td>\n",
              "    </tr>\n",
              "    <tr>\n",
              "      <th>1</th>\n",
              "      <td>-0.842796</td>\n",
              "    </tr>\n",
              "    <tr>\n",
              "      <th>2</th>\n",
              "      <td>-1.077710</td>\n",
              "    </tr>\n",
              "    <tr>\n",
              "      <th>3</th>\n",
              "      <td>1.189349</td>\n",
              "    </tr>\n",
              "    <tr>\n",
              "      <th>4</th>\n",
              "      <td>-0.692791</td>\n",
              "    </tr>\n",
              "  </tbody>\n",
              "</table>\n",
              "</div>\n",
              "      <button class=\"colab-df-convert\" onclick=\"convertToInteractive('df-4f9a5f97-c6e4-4c44-a272-de21f1af3382')\"\n",
              "              title=\"Convert this dataframe to an interactive table.\"\n",
              "              style=\"display:none;\">\n",
              "        \n",
              "  <svg xmlns=\"http://www.w3.org/2000/svg\" height=\"24px\"viewBox=\"0 0 24 24\"\n",
              "       width=\"24px\">\n",
              "    <path d=\"M0 0h24v24H0V0z\" fill=\"none\"/>\n",
              "    <path d=\"M18.56 5.44l.94 2.06.94-2.06 2.06-.94-2.06-.94-.94-2.06-.94 2.06-2.06.94zm-11 1L8.5 8.5l.94-2.06 2.06-.94-2.06-.94L8.5 2.5l-.94 2.06-2.06.94zm10 10l.94 2.06.94-2.06 2.06-.94-2.06-.94-.94-2.06-.94 2.06-2.06.94z\"/><path d=\"M17.41 7.96l-1.37-1.37c-.4-.4-.92-.59-1.43-.59-.52 0-1.04.2-1.43.59L10.3 9.45l-7.72 7.72c-.78.78-.78 2.05 0 2.83L4 21.41c.39.39.9.59 1.41.59.51 0 1.02-.2 1.41-.59l7.78-7.78 2.81-2.81c.8-.78.8-2.07 0-2.86zM5.41 20L4 18.59l7.72-7.72 1.47 1.35L5.41 20z\"/>\n",
              "  </svg>\n",
              "      </button>\n",
              "      \n",
              "  <style>\n",
              "    .colab-df-container {\n",
              "      display:flex;\n",
              "      flex-wrap:wrap;\n",
              "      gap: 12px;\n",
              "    }\n",
              "\n",
              "    .colab-df-convert {\n",
              "      background-color: #E8F0FE;\n",
              "      border: none;\n",
              "      border-radius: 50%;\n",
              "      cursor: pointer;\n",
              "      display: none;\n",
              "      fill: #1967D2;\n",
              "      height: 32px;\n",
              "      padding: 0 0 0 0;\n",
              "      width: 32px;\n",
              "    }\n",
              "\n",
              "    .colab-df-convert:hover {\n",
              "      background-color: #E2EBFA;\n",
              "      box-shadow: 0px 1px 2px rgba(60, 64, 67, 0.3), 0px 1px 3px 1px rgba(60, 64, 67, 0.15);\n",
              "      fill: #174EA6;\n",
              "    }\n",
              "\n",
              "    [theme=dark] .colab-df-convert {\n",
              "      background-color: #3B4455;\n",
              "      fill: #D2E3FC;\n",
              "    }\n",
              "\n",
              "    [theme=dark] .colab-df-convert:hover {\n",
              "      background-color: #434B5C;\n",
              "      box-shadow: 0px 1px 3px 1px rgba(0, 0, 0, 0.15);\n",
              "      filter: drop-shadow(0px 1px 2px rgba(0, 0, 0, 0.3));\n",
              "      fill: #FFFFFF;\n",
              "    }\n",
              "  </style>\n",
              "\n",
              "      <script>\n",
              "        const buttonEl =\n",
              "          document.querySelector('#df-4f9a5f97-c6e4-4c44-a272-de21f1af3382 button.colab-df-convert');\n",
              "        buttonEl.style.display =\n",
              "          google.colab.kernel.accessAllowed ? 'block' : 'none';\n",
              "\n",
              "        async function convertToInteractive(key) {\n",
              "          const element = document.querySelector('#df-4f9a5f97-c6e4-4c44-a272-de21f1af3382');\n",
              "          const dataTable =\n",
              "            await google.colab.kernel.invokeFunction('convertToInteractive',\n",
              "                                                     [key], {});\n",
              "          if (!dataTable) return;\n",
              "\n",
              "          const docLinkHtml = 'Like what you see? Visit the ' +\n",
              "            '<a target=\"_blank\" href=https://colab.research.google.com/notebooks/data_table.ipynb>data table notebook</a>'\n",
              "            + ' to learn more about interactive tables.';\n",
              "          element.innerHTML = '';\n",
              "          dataTable['output_type'] = 'display_data';\n",
              "          await google.colab.output.renderOutput(dataTable, element);\n",
              "          const docLink = document.createElement('div');\n",
              "          docLink.innerHTML = docLinkHtml;\n",
              "          element.appendChild(docLink);\n",
              "        }\n",
              "      </script>\n",
              "    </div>\n",
              "  </div>\n",
              "  "
            ]
          },
          "metadata": {},
          "execution_count": 13
        }
      ]
    },
    {
      "cell_type": "code",
      "source": [
        "df_scaled = df_scaled_target.join(df_scaled_fitur)\n",
        "df_scaled.head(10)"
      ],
      "metadata": {
        "colab": {
          "base_uri": "https://localhost:8080/",
          "height": 461
        },
        "id": "98EyOcA8k1PC",
        "outputId": "f5fa398f-48c8-460f-e66b-fc6758470e0c"
      },
      "execution_count": 14,
      "outputs": [
        {
          "output_type": "execute_result",
          "data": {
            "text/plain": [
              "   indeks_pendidikan  status_kegiatan_buta_aksara  ketersediaan_pkbm  \\\n",
              "0           0.552535                    -0.871350           0.620942   \n",
              "1          -0.842796                     0.198639           0.765471   \n",
              "2          -1.077710                     0.438382           0.596853   \n",
              "3           1.189349                    -0.416282          -0.499162   \n",
              "4          -0.692791                     0.670573           1.355633   \n",
              "5          -0.463538                     1.246479           0.825692   \n",
              "6           1.025193                     0.065709          -0.246235   \n",
              "7          -0.596562                     1.481559           1.451986   \n",
              "8          -1.117334                     0.593965           1.524251   \n",
              "9          -0.783360                     1.283335           1.030442   \n",
              "\n",
              "   ketersediaan_tbm  jumlah_angkatan_kerja  kepadatan_penduduk  Jumlah SD  \\\n",
              "0          2.389758               2.950581            0.873382   2.174592   \n",
              "1         -0.422508               0.153366           -1.134453   0.673884   \n",
              "2          0.875461               0.087194           -1.175686   0.784230   \n",
              "3         -0.307133               1.267355            1.366377   1.152051   \n",
              "4          1.452336               0.210886           -0.913950   1.588531   \n",
              "5          0.298586              -0.270346           -0.983866   0.367367   \n",
              "6         -0.364820              -0.676645           -0.657593  -0.468812   \n",
              "7          1.351383              -0.882294           -0.356417  -0.696861   \n",
              "8          1.668664               0.059983            1.741053  -0.037236   \n",
              "9          1.697508              -0.671662           -0.299051  -0.660079   \n",
              "\n",
              "   Jumlah SMP  Jumlah SMA  Jumlah SMK  Jumlah Guru SD  Jumlah Guru SMP  \\\n",
              "0    2.917622    2.596040    0.606419        2.305396         2.725874   \n",
              "1    0.593281    0.274345    0.943108        0.016647         0.224466   \n",
              "2    0.489977    0.583904    0.299008        0.546941         0.426160   \n",
              "3    0.541629    0.937686    0.884553        1.310174         1.301503   \n",
              "4    0.922563    1.291469    0.255092        0.723072         0.902118   \n",
              "5    0.134869    0.031120   -0.725697       -0.200129         0.137883   \n",
              "6   -0.756128   -0.853336   -1.091663       -0.683122        -0.652378   \n",
              "7   -0.872345   -0.831224   -0.154790       -0.671237        -0.606834   \n",
              "8   -0.329999   -0.411108   -0.915999       -0.009024         0.423658   \n",
              "9   -0.865889   -0.963893   -0.418286       -0.692867        -0.689414   \n",
              "\n",
              "   Jumlah Guru SMA  Jumlah Guru SMK  waktu_tempuh_sd_terdekat  \\\n",
              "0         2.531066         2.680026                  0.885665   \n",
              "1         0.196944        -0.218177                  1.302698   \n",
              "2         0.083234         0.665672                  1.024091   \n",
              "3         1.489331         0.496564                  0.042420   \n",
              "4         1.475881         1.068356                  1.256190   \n",
              "5        -0.152746         0.297558                  0.268992   \n",
              "6        -0.617370        -0.798378                 -0.206310   \n",
              "7        -0.364272        -0.506876                  0.295929   \n",
              "8        -0.106284         0.348010                  0.201752   \n",
              "9        -0.654050        -0.684393                 -0.824354   \n",
              "\n",
              "   waktu_tempuh_smp_terdekat  waktu_tempuh_sma_terdekat  \\\n",
              "0                   0.406165                   0.065355   \n",
              "1                   1.256424                   1.079329   \n",
              "2                   1.293631                   0.748081   \n",
              "3                   0.475415                   0.994145   \n",
              "4                   0.977510                   0.354004   \n",
              "5                   0.167689                   0.157892   \n",
              "6                  -0.354537                  -0.557997   \n",
              "7                   0.069989                   0.795253   \n",
              "8                  -0.265250                  -1.071365   \n",
              "9                  -0.607386                  -0.187503   \n",
              "\n",
              "   Garis Kemiskinan Menurut Kab/Kota (Rupiah/Perkapita/Perbulan)  \n",
              "0                                          -0.174674              \n",
              "1                                          -1.292833              \n",
              "2                                          -0.576422              \n",
              "3                                          -0.673776              \n",
              "4                                          -1.440601              \n",
              "5                                          -1.254959              \n",
              "6                                          -0.349905              \n",
              "7                                          -0.750537              \n",
              "8                                          -0.042618              \n",
              "9                                           1.070119              "
            ],
            "text/html": [
              "\n",
              "  <div id=\"df-1c235a08-07b2-46f3-930b-a12f80929fa5\">\n",
              "    <div class=\"colab-df-container\">\n",
              "      <div>\n",
              "<style scoped>\n",
              "    .dataframe tbody tr th:only-of-type {\n",
              "        vertical-align: middle;\n",
              "    }\n",
              "\n",
              "    .dataframe tbody tr th {\n",
              "        vertical-align: top;\n",
              "    }\n",
              "\n",
              "    .dataframe thead th {\n",
              "        text-align: right;\n",
              "    }\n",
              "</style>\n",
              "<table border=\"1\" class=\"dataframe\">\n",
              "  <thead>\n",
              "    <tr style=\"text-align: right;\">\n",
              "      <th></th>\n",
              "      <th>indeks_pendidikan</th>\n",
              "      <th>status_kegiatan_buta_aksara</th>\n",
              "      <th>ketersediaan_pkbm</th>\n",
              "      <th>ketersediaan_tbm</th>\n",
              "      <th>jumlah_angkatan_kerja</th>\n",
              "      <th>kepadatan_penduduk</th>\n",
              "      <th>Jumlah SD</th>\n",
              "      <th>Jumlah SMP</th>\n",
              "      <th>Jumlah SMA</th>\n",
              "      <th>Jumlah SMK</th>\n",
              "      <th>Jumlah Guru SD</th>\n",
              "      <th>Jumlah Guru SMP</th>\n",
              "      <th>Jumlah Guru SMA</th>\n",
              "      <th>Jumlah Guru SMK</th>\n",
              "      <th>waktu_tempuh_sd_terdekat</th>\n",
              "      <th>waktu_tempuh_smp_terdekat</th>\n",
              "      <th>waktu_tempuh_sma_terdekat</th>\n",
              "      <th>Garis Kemiskinan Menurut Kab/Kota (Rupiah/Perkapita/Perbulan)</th>\n",
              "    </tr>\n",
              "  </thead>\n",
              "  <tbody>\n",
              "    <tr>\n",
              "      <th>0</th>\n",
              "      <td>0.552535</td>\n",
              "      <td>-0.871350</td>\n",
              "      <td>0.620942</td>\n",
              "      <td>2.389758</td>\n",
              "      <td>2.950581</td>\n",
              "      <td>0.873382</td>\n",
              "      <td>2.174592</td>\n",
              "      <td>2.917622</td>\n",
              "      <td>2.596040</td>\n",
              "      <td>0.606419</td>\n",
              "      <td>2.305396</td>\n",
              "      <td>2.725874</td>\n",
              "      <td>2.531066</td>\n",
              "      <td>2.680026</td>\n",
              "      <td>0.885665</td>\n",
              "      <td>0.406165</td>\n",
              "      <td>0.065355</td>\n",
              "      <td>-0.174674</td>\n",
              "    </tr>\n",
              "    <tr>\n",
              "      <th>1</th>\n",
              "      <td>-0.842796</td>\n",
              "      <td>0.198639</td>\n",
              "      <td>0.765471</td>\n",
              "      <td>-0.422508</td>\n",
              "      <td>0.153366</td>\n",
              "      <td>-1.134453</td>\n",
              "      <td>0.673884</td>\n",
              "      <td>0.593281</td>\n",
              "      <td>0.274345</td>\n",
              "      <td>0.943108</td>\n",
              "      <td>0.016647</td>\n",
              "      <td>0.224466</td>\n",
              "      <td>0.196944</td>\n",
              "      <td>-0.218177</td>\n",
              "      <td>1.302698</td>\n",
              "      <td>1.256424</td>\n",
              "      <td>1.079329</td>\n",
              "      <td>-1.292833</td>\n",
              "    </tr>\n",
              "    <tr>\n",
              "      <th>2</th>\n",
              "      <td>-1.077710</td>\n",
              "      <td>0.438382</td>\n",
              "      <td>0.596853</td>\n",
              "      <td>0.875461</td>\n",
              "      <td>0.087194</td>\n",
              "      <td>-1.175686</td>\n",
              "      <td>0.784230</td>\n",
              "      <td>0.489977</td>\n",
              "      <td>0.583904</td>\n",
              "      <td>0.299008</td>\n",
              "      <td>0.546941</td>\n",
              "      <td>0.426160</td>\n",
              "      <td>0.083234</td>\n",
              "      <td>0.665672</td>\n",
              "      <td>1.024091</td>\n",
              "      <td>1.293631</td>\n",
              "      <td>0.748081</td>\n",
              "      <td>-0.576422</td>\n",
              "    </tr>\n",
              "    <tr>\n",
              "      <th>3</th>\n",
              "      <td>1.189349</td>\n",
              "      <td>-0.416282</td>\n",
              "      <td>-0.499162</td>\n",
              "      <td>-0.307133</td>\n",
              "      <td>1.267355</td>\n",
              "      <td>1.366377</td>\n",
              "      <td>1.152051</td>\n",
              "      <td>0.541629</td>\n",
              "      <td>0.937686</td>\n",
              "      <td>0.884553</td>\n",
              "      <td>1.310174</td>\n",
              "      <td>1.301503</td>\n",
              "      <td>1.489331</td>\n",
              "      <td>0.496564</td>\n",
              "      <td>0.042420</td>\n",
              "      <td>0.475415</td>\n",
              "      <td>0.994145</td>\n",
              "      <td>-0.673776</td>\n",
              "    </tr>\n",
              "    <tr>\n",
              "      <th>4</th>\n",
              "      <td>-0.692791</td>\n",
              "      <td>0.670573</td>\n",
              "      <td>1.355633</td>\n",
              "      <td>1.452336</td>\n",
              "      <td>0.210886</td>\n",
              "      <td>-0.913950</td>\n",
              "      <td>1.588531</td>\n",
              "      <td>0.922563</td>\n",
              "      <td>1.291469</td>\n",
              "      <td>0.255092</td>\n",
              "      <td>0.723072</td>\n",
              "      <td>0.902118</td>\n",
              "      <td>1.475881</td>\n",
              "      <td>1.068356</td>\n",
              "      <td>1.256190</td>\n",
              "      <td>0.977510</td>\n",
              "      <td>0.354004</td>\n",
              "      <td>-1.440601</td>\n",
              "    </tr>\n",
              "    <tr>\n",
              "      <th>5</th>\n",
              "      <td>-0.463538</td>\n",
              "      <td>1.246479</td>\n",
              "      <td>0.825692</td>\n",
              "      <td>0.298586</td>\n",
              "      <td>-0.270346</td>\n",
              "      <td>-0.983866</td>\n",
              "      <td>0.367367</td>\n",
              "      <td>0.134869</td>\n",
              "      <td>0.031120</td>\n",
              "      <td>-0.725697</td>\n",
              "      <td>-0.200129</td>\n",
              "      <td>0.137883</td>\n",
              "      <td>-0.152746</td>\n",
              "      <td>0.297558</td>\n",
              "      <td>0.268992</td>\n",
              "      <td>0.167689</td>\n",
              "      <td>0.157892</td>\n",
              "      <td>-1.254959</td>\n",
              "    </tr>\n",
              "    <tr>\n",
              "      <th>6</th>\n",
              "      <td>1.025193</td>\n",
              "      <td>0.065709</td>\n",
              "      <td>-0.246235</td>\n",
              "      <td>-0.364820</td>\n",
              "      <td>-0.676645</td>\n",
              "      <td>-0.657593</td>\n",
              "      <td>-0.468812</td>\n",
              "      <td>-0.756128</td>\n",
              "      <td>-0.853336</td>\n",
              "      <td>-1.091663</td>\n",
              "      <td>-0.683122</td>\n",
              "      <td>-0.652378</td>\n",
              "      <td>-0.617370</td>\n",
              "      <td>-0.798378</td>\n",
              "      <td>-0.206310</td>\n",
              "      <td>-0.354537</td>\n",
              "      <td>-0.557997</td>\n",
              "      <td>-0.349905</td>\n",
              "    </tr>\n",
              "    <tr>\n",
              "      <th>7</th>\n",
              "      <td>-0.596562</td>\n",
              "      <td>1.481559</td>\n",
              "      <td>1.451986</td>\n",
              "      <td>1.351383</td>\n",
              "      <td>-0.882294</td>\n",
              "      <td>-0.356417</td>\n",
              "      <td>-0.696861</td>\n",
              "      <td>-0.872345</td>\n",
              "      <td>-0.831224</td>\n",
              "      <td>-0.154790</td>\n",
              "      <td>-0.671237</td>\n",
              "      <td>-0.606834</td>\n",
              "      <td>-0.364272</td>\n",
              "      <td>-0.506876</td>\n",
              "      <td>0.295929</td>\n",
              "      <td>0.069989</td>\n",
              "      <td>0.795253</td>\n",
              "      <td>-0.750537</td>\n",
              "    </tr>\n",
              "    <tr>\n",
              "      <th>8</th>\n",
              "      <td>-1.117334</td>\n",
              "      <td>0.593965</td>\n",
              "      <td>1.524251</td>\n",
              "      <td>1.668664</td>\n",
              "      <td>0.059983</td>\n",
              "      <td>1.741053</td>\n",
              "      <td>-0.037236</td>\n",
              "      <td>-0.329999</td>\n",
              "      <td>-0.411108</td>\n",
              "      <td>-0.915999</td>\n",
              "      <td>-0.009024</td>\n",
              "      <td>0.423658</td>\n",
              "      <td>-0.106284</td>\n",
              "      <td>0.348010</td>\n",
              "      <td>0.201752</td>\n",
              "      <td>-0.265250</td>\n",
              "      <td>-1.071365</td>\n",
              "      <td>-0.042618</td>\n",
              "    </tr>\n",
              "    <tr>\n",
              "      <th>9</th>\n",
              "      <td>-0.783360</td>\n",
              "      <td>1.283335</td>\n",
              "      <td>1.030442</td>\n",
              "      <td>1.697508</td>\n",
              "      <td>-0.671662</td>\n",
              "      <td>-0.299051</td>\n",
              "      <td>-0.660079</td>\n",
              "      <td>-0.865889</td>\n",
              "      <td>-0.963893</td>\n",
              "      <td>-0.418286</td>\n",
              "      <td>-0.692867</td>\n",
              "      <td>-0.689414</td>\n",
              "      <td>-0.654050</td>\n",
              "      <td>-0.684393</td>\n",
              "      <td>-0.824354</td>\n",
              "      <td>-0.607386</td>\n",
              "      <td>-0.187503</td>\n",
              "      <td>1.070119</td>\n",
              "    </tr>\n",
              "  </tbody>\n",
              "</table>\n",
              "</div>\n",
              "      <button class=\"colab-df-convert\" onclick=\"convertToInteractive('df-1c235a08-07b2-46f3-930b-a12f80929fa5')\"\n",
              "              title=\"Convert this dataframe to an interactive table.\"\n",
              "              style=\"display:none;\">\n",
              "        \n",
              "  <svg xmlns=\"http://www.w3.org/2000/svg\" height=\"24px\"viewBox=\"0 0 24 24\"\n",
              "       width=\"24px\">\n",
              "    <path d=\"M0 0h24v24H0V0z\" fill=\"none\"/>\n",
              "    <path d=\"M18.56 5.44l.94 2.06.94-2.06 2.06-.94-2.06-.94-.94-2.06-.94 2.06-2.06.94zm-11 1L8.5 8.5l.94-2.06 2.06-.94-2.06-.94L8.5 2.5l-.94 2.06-2.06.94zm10 10l.94 2.06.94-2.06 2.06-.94-2.06-.94-.94-2.06-.94 2.06-2.06.94z\"/><path d=\"M17.41 7.96l-1.37-1.37c-.4-.4-.92-.59-1.43-.59-.52 0-1.04.2-1.43.59L10.3 9.45l-7.72 7.72c-.78.78-.78 2.05 0 2.83L4 21.41c.39.39.9.59 1.41.59.51 0 1.02-.2 1.41-.59l7.78-7.78 2.81-2.81c.8-.78.8-2.07 0-2.86zM5.41 20L4 18.59l7.72-7.72 1.47 1.35L5.41 20z\"/>\n",
              "  </svg>\n",
              "      </button>\n",
              "      \n",
              "  <style>\n",
              "    .colab-df-container {\n",
              "      display:flex;\n",
              "      flex-wrap:wrap;\n",
              "      gap: 12px;\n",
              "    }\n",
              "\n",
              "    .colab-df-convert {\n",
              "      background-color: #E8F0FE;\n",
              "      border: none;\n",
              "      border-radius: 50%;\n",
              "      cursor: pointer;\n",
              "      display: none;\n",
              "      fill: #1967D2;\n",
              "      height: 32px;\n",
              "      padding: 0 0 0 0;\n",
              "      width: 32px;\n",
              "    }\n",
              "\n",
              "    .colab-df-convert:hover {\n",
              "      background-color: #E2EBFA;\n",
              "      box-shadow: 0px 1px 2px rgba(60, 64, 67, 0.3), 0px 1px 3px 1px rgba(60, 64, 67, 0.15);\n",
              "      fill: #174EA6;\n",
              "    }\n",
              "\n",
              "    [theme=dark] .colab-df-convert {\n",
              "      background-color: #3B4455;\n",
              "      fill: #D2E3FC;\n",
              "    }\n",
              "\n",
              "    [theme=dark] .colab-df-convert:hover {\n",
              "      background-color: #434B5C;\n",
              "      box-shadow: 0px 1px 3px 1px rgba(0, 0, 0, 0.15);\n",
              "      filter: drop-shadow(0px 1px 2px rgba(0, 0, 0, 0.3));\n",
              "      fill: #FFFFFF;\n",
              "    }\n",
              "  </style>\n",
              "\n",
              "      <script>\n",
              "        const buttonEl =\n",
              "          document.querySelector('#df-1c235a08-07b2-46f3-930b-a12f80929fa5 button.colab-df-convert');\n",
              "        buttonEl.style.display =\n",
              "          google.colab.kernel.accessAllowed ? 'block' : 'none';\n",
              "\n",
              "        async function convertToInteractive(key) {\n",
              "          const element = document.querySelector('#df-1c235a08-07b2-46f3-930b-a12f80929fa5');\n",
              "          const dataTable =\n",
              "            await google.colab.kernel.invokeFunction('convertToInteractive',\n",
              "                                                     [key], {});\n",
              "          if (!dataTable) return;\n",
              "\n",
              "          const docLinkHtml = 'Like what you see? Visit the ' +\n",
              "            '<a target=\"_blank\" href=https://colab.research.google.com/notebooks/data_table.ipynb>data table notebook</a>'\n",
              "            + ' to learn more about interactive tables.';\n",
              "          element.innerHTML = '';\n",
              "          dataTable['output_type'] = 'display_data';\n",
              "          await google.colab.output.renderOutput(dataTable, element);\n",
              "          const docLink = document.createElement('div');\n",
              "          docLink.innerHTML = docLinkHtml;\n",
              "          element.appendChild(docLink);\n",
              "        }\n",
              "      </script>\n",
              "    </div>\n",
              "  </div>\n",
              "  "
            ]
          },
          "metadata": {},
          "execution_count": 14
        }
      ]
    },
    {
      "cell_type": "code",
      "source": [
        "df_ready =df_scaled.copy()\n",
        "df_ready.head(10)"
      ],
      "metadata": {
        "colab": {
          "base_uri": "https://localhost:8080/",
          "height": 461
        },
        "id": "Txa6XD73_rNs",
        "outputId": "02365ca5-f259-4431-b521-6c906ac1e0a9"
      },
      "execution_count": 15,
      "outputs": [
        {
          "output_type": "execute_result",
          "data": {
            "text/plain": [
              "   indeks_pendidikan  status_kegiatan_buta_aksara  ketersediaan_pkbm  \\\n",
              "0           0.552535                    -0.871350           0.620942   \n",
              "1          -0.842796                     0.198639           0.765471   \n",
              "2          -1.077710                     0.438382           0.596853   \n",
              "3           1.189349                    -0.416282          -0.499162   \n",
              "4          -0.692791                     0.670573           1.355633   \n",
              "5          -0.463538                     1.246479           0.825692   \n",
              "6           1.025193                     0.065709          -0.246235   \n",
              "7          -0.596562                     1.481559           1.451986   \n",
              "8          -1.117334                     0.593965           1.524251   \n",
              "9          -0.783360                     1.283335           1.030442   \n",
              "\n",
              "   ketersediaan_tbm  jumlah_angkatan_kerja  kepadatan_penduduk  Jumlah SD  \\\n",
              "0          2.389758               2.950581            0.873382   2.174592   \n",
              "1         -0.422508               0.153366           -1.134453   0.673884   \n",
              "2          0.875461               0.087194           -1.175686   0.784230   \n",
              "3         -0.307133               1.267355            1.366377   1.152051   \n",
              "4          1.452336               0.210886           -0.913950   1.588531   \n",
              "5          0.298586              -0.270346           -0.983866   0.367367   \n",
              "6         -0.364820              -0.676645           -0.657593  -0.468812   \n",
              "7          1.351383              -0.882294           -0.356417  -0.696861   \n",
              "8          1.668664               0.059983            1.741053  -0.037236   \n",
              "9          1.697508              -0.671662           -0.299051  -0.660079   \n",
              "\n",
              "   Jumlah SMP  Jumlah SMA  Jumlah SMK  Jumlah Guru SD  Jumlah Guru SMP  \\\n",
              "0    2.917622    2.596040    0.606419        2.305396         2.725874   \n",
              "1    0.593281    0.274345    0.943108        0.016647         0.224466   \n",
              "2    0.489977    0.583904    0.299008        0.546941         0.426160   \n",
              "3    0.541629    0.937686    0.884553        1.310174         1.301503   \n",
              "4    0.922563    1.291469    0.255092        0.723072         0.902118   \n",
              "5    0.134869    0.031120   -0.725697       -0.200129         0.137883   \n",
              "6   -0.756128   -0.853336   -1.091663       -0.683122        -0.652378   \n",
              "7   -0.872345   -0.831224   -0.154790       -0.671237        -0.606834   \n",
              "8   -0.329999   -0.411108   -0.915999       -0.009024         0.423658   \n",
              "9   -0.865889   -0.963893   -0.418286       -0.692867        -0.689414   \n",
              "\n",
              "   Jumlah Guru SMA  Jumlah Guru SMK  waktu_tempuh_sd_terdekat  \\\n",
              "0         2.531066         2.680026                  0.885665   \n",
              "1         0.196944        -0.218177                  1.302698   \n",
              "2         0.083234         0.665672                  1.024091   \n",
              "3         1.489331         0.496564                  0.042420   \n",
              "4         1.475881         1.068356                  1.256190   \n",
              "5        -0.152746         0.297558                  0.268992   \n",
              "6        -0.617370        -0.798378                 -0.206310   \n",
              "7        -0.364272        -0.506876                  0.295929   \n",
              "8        -0.106284         0.348010                  0.201752   \n",
              "9        -0.654050        -0.684393                 -0.824354   \n",
              "\n",
              "   waktu_tempuh_smp_terdekat  waktu_tempuh_sma_terdekat  \\\n",
              "0                   0.406165                   0.065355   \n",
              "1                   1.256424                   1.079329   \n",
              "2                   1.293631                   0.748081   \n",
              "3                   0.475415                   0.994145   \n",
              "4                   0.977510                   0.354004   \n",
              "5                   0.167689                   0.157892   \n",
              "6                  -0.354537                  -0.557997   \n",
              "7                   0.069989                   0.795253   \n",
              "8                  -0.265250                  -1.071365   \n",
              "9                  -0.607386                  -0.187503   \n",
              "\n",
              "   Garis Kemiskinan Menurut Kab/Kota (Rupiah/Perkapita/Perbulan)  \n",
              "0                                          -0.174674              \n",
              "1                                          -1.292833              \n",
              "2                                          -0.576422              \n",
              "3                                          -0.673776              \n",
              "4                                          -1.440601              \n",
              "5                                          -1.254959              \n",
              "6                                          -0.349905              \n",
              "7                                          -0.750537              \n",
              "8                                          -0.042618              \n",
              "9                                           1.070119              "
            ],
            "text/html": [
              "\n",
              "  <div id=\"df-7b0543cf-d341-418d-bfce-f41a8f132a07\">\n",
              "    <div class=\"colab-df-container\">\n",
              "      <div>\n",
              "<style scoped>\n",
              "    .dataframe tbody tr th:only-of-type {\n",
              "        vertical-align: middle;\n",
              "    }\n",
              "\n",
              "    .dataframe tbody tr th {\n",
              "        vertical-align: top;\n",
              "    }\n",
              "\n",
              "    .dataframe thead th {\n",
              "        text-align: right;\n",
              "    }\n",
              "</style>\n",
              "<table border=\"1\" class=\"dataframe\">\n",
              "  <thead>\n",
              "    <tr style=\"text-align: right;\">\n",
              "      <th></th>\n",
              "      <th>indeks_pendidikan</th>\n",
              "      <th>status_kegiatan_buta_aksara</th>\n",
              "      <th>ketersediaan_pkbm</th>\n",
              "      <th>ketersediaan_tbm</th>\n",
              "      <th>jumlah_angkatan_kerja</th>\n",
              "      <th>kepadatan_penduduk</th>\n",
              "      <th>Jumlah SD</th>\n",
              "      <th>Jumlah SMP</th>\n",
              "      <th>Jumlah SMA</th>\n",
              "      <th>Jumlah SMK</th>\n",
              "      <th>Jumlah Guru SD</th>\n",
              "      <th>Jumlah Guru SMP</th>\n",
              "      <th>Jumlah Guru SMA</th>\n",
              "      <th>Jumlah Guru SMK</th>\n",
              "      <th>waktu_tempuh_sd_terdekat</th>\n",
              "      <th>waktu_tempuh_smp_terdekat</th>\n",
              "      <th>waktu_tempuh_sma_terdekat</th>\n",
              "      <th>Garis Kemiskinan Menurut Kab/Kota (Rupiah/Perkapita/Perbulan)</th>\n",
              "    </tr>\n",
              "  </thead>\n",
              "  <tbody>\n",
              "    <tr>\n",
              "      <th>0</th>\n",
              "      <td>0.552535</td>\n",
              "      <td>-0.871350</td>\n",
              "      <td>0.620942</td>\n",
              "      <td>2.389758</td>\n",
              "      <td>2.950581</td>\n",
              "      <td>0.873382</td>\n",
              "      <td>2.174592</td>\n",
              "      <td>2.917622</td>\n",
              "      <td>2.596040</td>\n",
              "      <td>0.606419</td>\n",
              "      <td>2.305396</td>\n",
              "      <td>2.725874</td>\n",
              "      <td>2.531066</td>\n",
              "      <td>2.680026</td>\n",
              "      <td>0.885665</td>\n",
              "      <td>0.406165</td>\n",
              "      <td>0.065355</td>\n",
              "      <td>-0.174674</td>\n",
              "    </tr>\n",
              "    <tr>\n",
              "      <th>1</th>\n",
              "      <td>-0.842796</td>\n",
              "      <td>0.198639</td>\n",
              "      <td>0.765471</td>\n",
              "      <td>-0.422508</td>\n",
              "      <td>0.153366</td>\n",
              "      <td>-1.134453</td>\n",
              "      <td>0.673884</td>\n",
              "      <td>0.593281</td>\n",
              "      <td>0.274345</td>\n",
              "      <td>0.943108</td>\n",
              "      <td>0.016647</td>\n",
              "      <td>0.224466</td>\n",
              "      <td>0.196944</td>\n",
              "      <td>-0.218177</td>\n",
              "      <td>1.302698</td>\n",
              "      <td>1.256424</td>\n",
              "      <td>1.079329</td>\n",
              "      <td>-1.292833</td>\n",
              "    </tr>\n",
              "    <tr>\n",
              "      <th>2</th>\n",
              "      <td>-1.077710</td>\n",
              "      <td>0.438382</td>\n",
              "      <td>0.596853</td>\n",
              "      <td>0.875461</td>\n",
              "      <td>0.087194</td>\n",
              "      <td>-1.175686</td>\n",
              "      <td>0.784230</td>\n",
              "      <td>0.489977</td>\n",
              "      <td>0.583904</td>\n",
              "      <td>0.299008</td>\n",
              "      <td>0.546941</td>\n",
              "      <td>0.426160</td>\n",
              "      <td>0.083234</td>\n",
              "      <td>0.665672</td>\n",
              "      <td>1.024091</td>\n",
              "      <td>1.293631</td>\n",
              "      <td>0.748081</td>\n",
              "      <td>-0.576422</td>\n",
              "    </tr>\n",
              "    <tr>\n",
              "      <th>3</th>\n",
              "      <td>1.189349</td>\n",
              "      <td>-0.416282</td>\n",
              "      <td>-0.499162</td>\n",
              "      <td>-0.307133</td>\n",
              "      <td>1.267355</td>\n",
              "      <td>1.366377</td>\n",
              "      <td>1.152051</td>\n",
              "      <td>0.541629</td>\n",
              "      <td>0.937686</td>\n",
              "      <td>0.884553</td>\n",
              "      <td>1.310174</td>\n",
              "      <td>1.301503</td>\n",
              "      <td>1.489331</td>\n",
              "      <td>0.496564</td>\n",
              "      <td>0.042420</td>\n",
              "      <td>0.475415</td>\n",
              "      <td>0.994145</td>\n",
              "      <td>-0.673776</td>\n",
              "    </tr>\n",
              "    <tr>\n",
              "      <th>4</th>\n",
              "      <td>-0.692791</td>\n",
              "      <td>0.670573</td>\n",
              "      <td>1.355633</td>\n",
              "      <td>1.452336</td>\n",
              "      <td>0.210886</td>\n",
              "      <td>-0.913950</td>\n",
              "      <td>1.588531</td>\n",
              "      <td>0.922563</td>\n",
              "      <td>1.291469</td>\n",
              "      <td>0.255092</td>\n",
              "      <td>0.723072</td>\n",
              "      <td>0.902118</td>\n",
              "      <td>1.475881</td>\n",
              "      <td>1.068356</td>\n",
              "      <td>1.256190</td>\n",
              "      <td>0.977510</td>\n",
              "      <td>0.354004</td>\n",
              "      <td>-1.440601</td>\n",
              "    </tr>\n",
              "    <tr>\n",
              "      <th>5</th>\n",
              "      <td>-0.463538</td>\n",
              "      <td>1.246479</td>\n",
              "      <td>0.825692</td>\n",
              "      <td>0.298586</td>\n",
              "      <td>-0.270346</td>\n",
              "      <td>-0.983866</td>\n",
              "      <td>0.367367</td>\n",
              "      <td>0.134869</td>\n",
              "      <td>0.031120</td>\n",
              "      <td>-0.725697</td>\n",
              "      <td>-0.200129</td>\n",
              "      <td>0.137883</td>\n",
              "      <td>-0.152746</td>\n",
              "      <td>0.297558</td>\n",
              "      <td>0.268992</td>\n",
              "      <td>0.167689</td>\n",
              "      <td>0.157892</td>\n",
              "      <td>-1.254959</td>\n",
              "    </tr>\n",
              "    <tr>\n",
              "      <th>6</th>\n",
              "      <td>1.025193</td>\n",
              "      <td>0.065709</td>\n",
              "      <td>-0.246235</td>\n",
              "      <td>-0.364820</td>\n",
              "      <td>-0.676645</td>\n",
              "      <td>-0.657593</td>\n",
              "      <td>-0.468812</td>\n",
              "      <td>-0.756128</td>\n",
              "      <td>-0.853336</td>\n",
              "      <td>-1.091663</td>\n",
              "      <td>-0.683122</td>\n",
              "      <td>-0.652378</td>\n",
              "      <td>-0.617370</td>\n",
              "      <td>-0.798378</td>\n",
              "      <td>-0.206310</td>\n",
              "      <td>-0.354537</td>\n",
              "      <td>-0.557997</td>\n",
              "      <td>-0.349905</td>\n",
              "    </tr>\n",
              "    <tr>\n",
              "      <th>7</th>\n",
              "      <td>-0.596562</td>\n",
              "      <td>1.481559</td>\n",
              "      <td>1.451986</td>\n",
              "      <td>1.351383</td>\n",
              "      <td>-0.882294</td>\n",
              "      <td>-0.356417</td>\n",
              "      <td>-0.696861</td>\n",
              "      <td>-0.872345</td>\n",
              "      <td>-0.831224</td>\n",
              "      <td>-0.154790</td>\n",
              "      <td>-0.671237</td>\n",
              "      <td>-0.606834</td>\n",
              "      <td>-0.364272</td>\n",
              "      <td>-0.506876</td>\n",
              "      <td>0.295929</td>\n",
              "      <td>0.069989</td>\n",
              "      <td>0.795253</td>\n",
              "      <td>-0.750537</td>\n",
              "    </tr>\n",
              "    <tr>\n",
              "      <th>8</th>\n",
              "      <td>-1.117334</td>\n",
              "      <td>0.593965</td>\n",
              "      <td>1.524251</td>\n",
              "      <td>1.668664</td>\n",
              "      <td>0.059983</td>\n",
              "      <td>1.741053</td>\n",
              "      <td>-0.037236</td>\n",
              "      <td>-0.329999</td>\n",
              "      <td>-0.411108</td>\n",
              "      <td>-0.915999</td>\n",
              "      <td>-0.009024</td>\n",
              "      <td>0.423658</td>\n",
              "      <td>-0.106284</td>\n",
              "      <td>0.348010</td>\n",
              "      <td>0.201752</td>\n",
              "      <td>-0.265250</td>\n",
              "      <td>-1.071365</td>\n",
              "      <td>-0.042618</td>\n",
              "    </tr>\n",
              "    <tr>\n",
              "      <th>9</th>\n",
              "      <td>-0.783360</td>\n",
              "      <td>1.283335</td>\n",
              "      <td>1.030442</td>\n",
              "      <td>1.697508</td>\n",
              "      <td>-0.671662</td>\n",
              "      <td>-0.299051</td>\n",
              "      <td>-0.660079</td>\n",
              "      <td>-0.865889</td>\n",
              "      <td>-0.963893</td>\n",
              "      <td>-0.418286</td>\n",
              "      <td>-0.692867</td>\n",
              "      <td>-0.689414</td>\n",
              "      <td>-0.654050</td>\n",
              "      <td>-0.684393</td>\n",
              "      <td>-0.824354</td>\n",
              "      <td>-0.607386</td>\n",
              "      <td>-0.187503</td>\n",
              "      <td>1.070119</td>\n",
              "    </tr>\n",
              "  </tbody>\n",
              "</table>\n",
              "</div>\n",
              "      <button class=\"colab-df-convert\" onclick=\"convertToInteractive('df-7b0543cf-d341-418d-bfce-f41a8f132a07')\"\n",
              "              title=\"Convert this dataframe to an interactive table.\"\n",
              "              style=\"display:none;\">\n",
              "        \n",
              "  <svg xmlns=\"http://www.w3.org/2000/svg\" height=\"24px\"viewBox=\"0 0 24 24\"\n",
              "       width=\"24px\">\n",
              "    <path d=\"M0 0h24v24H0V0z\" fill=\"none\"/>\n",
              "    <path d=\"M18.56 5.44l.94 2.06.94-2.06 2.06-.94-2.06-.94-.94-2.06-.94 2.06-2.06.94zm-11 1L8.5 8.5l.94-2.06 2.06-.94-2.06-.94L8.5 2.5l-.94 2.06-2.06.94zm10 10l.94 2.06.94-2.06 2.06-.94-2.06-.94-.94-2.06-.94 2.06-2.06.94z\"/><path d=\"M17.41 7.96l-1.37-1.37c-.4-.4-.92-.59-1.43-.59-.52 0-1.04.2-1.43.59L10.3 9.45l-7.72 7.72c-.78.78-.78 2.05 0 2.83L4 21.41c.39.39.9.59 1.41.59.51 0 1.02-.2 1.41-.59l7.78-7.78 2.81-2.81c.8-.78.8-2.07 0-2.86zM5.41 20L4 18.59l7.72-7.72 1.47 1.35L5.41 20z\"/>\n",
              "  </svg>\n",
              "      </button>\n",
              "      \n",
              "  <style>\n",
              "    .colab-df-container {\n",
              "      display:flex;\n",
              "      flex-wrap:wrap;\n",
              "      gap: 12px;\n",
              "    }\n",
              "\n",
              "    .colab-df-convert {\n",
              "      background-color: #E8F0FE;\n",
              "      border: none;\n",
              "      border-radius: 50%;\n",
              "      cursor: pointer;\n",
              "      display: none;\n",
              "      fill: #1967D2;\n",
              "      height: 32px;\n",
              "      padding: 0 0 0 0;\n",
              "      width: 32px;\n",
              "    }\n",
              "\n",
              "    .colab-df-convert:hover {\n",
              "      background-color: #E2EBFA;\n",
              "      box-shadow: 0px 1px 2px rgba(60, 64, 67, 0.3), 0px 1px 3px 1px rgba(60, 64, 67, 0.15);\n",
              "      fill: #174EA6;\n",
              "    }\n",
              "\n",
              "    [theme=dark] .colab-df-convert {\n",
              "      background-color: #3B4455;\n",
              "      fill: #D2E3FC;\n",
              "    }\n",
              "\n",
              "    [theme=dark] .colab-df-convert:hover {\n",
              "      background-color: #434B5C;\n",
              "      box-shadow: 0px 1px 3px 1px rgba(0, 0, 0, 0.15);\n",
              "      filter: drop-shadow(0px 1px 2px rgba(0, 0, 0, 0.3));\n",
              "      fill: #FFFFFF;\n",
              "    }\n",
              "  </style>\n",
              "\n",
              "      <script>\n",
              "        const buttonEl =\n",
              "          document.querySelector('#df-7b0543cf-d341-418d-bfce-f41a8f132a07 button.colab-df-convert');\n",
              "        buttonEl.style.display =\n",
              "          google.colab.kernel.accessAllowed ? 'block' : 'none';\n",
              "\n",
              "        async function convertToInteractive(key) {\n",
              "          const element = document.querySelector('#df-7b0543cf-d341-418d-bfce-f41a8f132a07');\n",
              "          const dataTable =\n",
              "            await google.colab.kernel.invokeFunction('convertToInteractive',\n",
              "                                                     [key], {});\n",
              "          if (!dataTable) return;\n",
              "\n",
              "          const docLinkHtml = 'Like what you see? Visit the ' +\n",
              "            '<a target=\"_blank\" href=https://colab.research.google.com/notebooks/data_table.ipynb>data table notebook</a>'\n",
              "            + ' to learn more about interactive tables.';\n",
              "          element.innerHTML = '';\n",
              "          dataTable['output_type'] = 'display_data';\n",
              "          await google.colab.output.renderOutput(dataTable, element);\n",
              "          const docLink = document.createElement('div');\n",
              "          docLink.innerHTML = docLinkHtml;\n",
              "          element.appendChild(docLink);\n",
              "        }\n",
              "      </script>\n",
              "    </div>\n",
              "  </div>\n",
              "  "
            ]
          },
          "metadata": {},
          "execution_count": 15
        }
      ]
    },
    {
      "cell_type": "markdown",
      "source": [
        "## Cek untuk tipe data dan data kosong"
      ],
      "metadata": {
        "id": "nYiBeB62izjm"
      }
    },
    {
      "cell_type": "markdown",
      "source": [
        "**Cek ulang data type, pastikan semua sudah numerik**"
      ],
      "metadata": {
        "id": "ezqoDbtIh9Kf"
      }
    },
    {
      "cell_type": "code",
      "source": [
        "df_ready.info()"
      ],
      "metadata": {
        "colab": {
          "base_uri": "https://localhost:8080/"
        },
        "id": "vEYYYHkMh6_-",
        "outputId": "6c268c4a-a6a1-4d51-fbae-19a93ba680ce"
      },
      "execution_count": 16,
      "outputs": [
        {
          "output_type": "stream",
          "name": "stdout",
          "text": [
            "<class 'pandas.core.frame.DataFrame'>\n",
            "RangeIndex: 54 entries, 0 to 53\n",
            "Data columns (total 18 columns):\n",
            " #   Column                                                         Non-Null Count  Dtype  \n",
            "---  ------                                                         --------------  -----  \n",
            " 0   indeks_pendidikan                                              54 non-null     float64\n",
            " 1   status_kegiatan_buta_aksara                                    54 non-null     float64\n",
            " 2   ketersediaan_pkbm                                              54 non-null     float64\n",
            " 3   ketersediaan_tbm                                               54 non-null     float64\n",
            " 4   jumlah_angkatan_kerja                                          54 non-null     float64\n",
            " 5   kepadatan_penduduk                                             54 non-null     float64\n",
            " 6   Jumlah SD                                                      54 non-null     float64\n",
            " 7   Jumlah SMP                                                     54 non-null     float64\n",
            " 8   Jumlah SMA                                                     54 non-null     float64\n",
            " 9   Jumlah SMK                                                     54 non-null     float64\n",
            " 10  Jumlah Guru SD                                                 54 non-null     float64\n",
            " 11  Jumlah Guru SMP                                                54 non-null     float64\n",
            " 12  Jumlah Guru SMA                                                54 non-null     float64\n",
            " 13  Jumlah Guru SMK                                                54 non-null     float64\n",
            " 14  waktu_tempuh_sd_terdekat                                       54 non-null     float64\n",
            " 15  waktu_tempuh_smp_terdekat                                      54 non-null     float64\n",
            " 16  waktu_tempuh_sma_terdekat                                      54 non-null     float64\n",
            " 17  Garis Kemiskinan Menurut Kab/Kota (Rupiah/Perkapita/Perbulan)  54 non-null     float64\n",
            "dtypes: float64(18)\n",
            "memory usage: 7.7 KB\n"
          ]
        }
      ]
    },
    {
      "cell_type": "markdown",
      "source": [
        "**Cek ulang juga agar tidak ada data yang kosong**"
      ],
      "metadata": {
        "id": "r2fmljWJh8ob"
      }
    },
    {
      "cell_type": "code",
      "source": [
        "df_ready.isna().sum()"
      ],
      "metadata": {
        "colab": {
          "base_uri": "https://localhost:8080/"
        },
        "id": "8eJbq9cIiJOM",
        "outputId": "332e0e1e-02fa-412f-9132-52c60feeee4e"
      },
      "execution_count": 17,
      "outputs": [
        {
          "output_type": "execute_result",
          "data": {
            "text/plain": [
              "indeks_pendidikan                                                0\n",
              "status_kegiatan_buta_aksara                                      0\n",
              "ketersediaan_pkbm                                                0\n",
              "ketersediaan_tbm                                                 0\n",
              "jumlah_angkatan_kerja                                            0\n",
              "kepadatan_penduduk                                               0\n",
              "Jumlah SD                                                        0\n",
              "Jumlah SMP                                                       0\n",
              "Jumlah SMA                                                       0\n",
              "Jumlah SMK                                                       0\n",
              "Jumlah Guru SD                                                   0\n",
              "Jumlah Guru SMP                                                  0\n",
              "Jumlah Guru SMA                                                  0\n",
              "Jumlah Guru SMK                                                  0\n",
              "waktu_tempuh_sd_terdekat                                         0\n",
              "waktu_tempuh_smp_terdekat                                        0\n",
              "waktu_tempuh_sma_terdekat                                        0\n",
              "Garis Kemiskinan Menurut Kab/Kota (Rupiah/Perkapita/Perbulan)    0\n",
              "dtype: int64"
            ]
          },
          "metadata": {},
          "execution_count": 17
        }
      ]
    },
    {
      "cell_type": "markdown",
      "source": [
        "## Hipotesis testing"
      ],
      "metadata": {
        "id": "7Uk8XvX8k80C"
      }
    },
    {
      "cell_type": "markdown",
      "source": [
        "Lakukan random cek tambahan dengan uji multikolinearitas antar variabel yaitu antara **Ketersediaan pusat kegiatan belajar** (ketersediaan_pkbm) terhadap **Jumlah perpustakaan** (ketersediaan_tbm)\n",
        "\n",
        "Gunakan VIF indicator (Variation Inflation Factor). Asumsi jika VIF>10, maka dianggap terdapat multikolinearitas antara variable\n",
        "\n",
        "H0: ketersediaan pusat kegiatan belajar dan Jumlah Perpustakaan itu independen.\n",
        "\n",
        "H1: ketersediaan pusat kegiatan belajar dan Jumlah Perpustakaan itu dependen."
      ],
      "metadata": {
        "id": "OPoayHMFldxQ"
      }
    },
    {
      "cell_type": "code",
      "source": [
        "from scipy import stats\n",
        "from scipy.stats import chi2_contingency\n",
        "from scipy.stats import chi2"
      ],
      "metadata": {
        "id": "-91Nuuy5k8NU"
      },
      "execution_count": 18,
      "outputs": []
    },
    {
      "cell_type": "code",
      "source": [
        "data_crosstab = pd.crosstab(df_ready['ketersediaan_pkbm'],\n",
        "                            df_ready['ketersediaan_tbm'],\n",
        "                           margins=True, margins_name=\"Total\")\n",
        "stat, p, dof, expected = chi2_contingency(data_crosstab)"
      ],
      "metadata": {
        "id": "5erfHlHTlaKI"
      },
      "execution_count": 19,
      "outputs": []
    },
    {
      "cell_type": "code",
      "source": [
        "print('P-Val, Attribute_0: ',p)"
      ],
      "metadata": {
        "colab": {
          "base_uri": "https://localhost:8080/"
        },
        "id": "VVP30IrzmBez",
        "outputId": "3b1d823a-07cd-4310-b9ca-edac5ace6576"
      },
      "execution_count": 20,
      "outputs": [
        {
          "output_type": "stream",
          "name": "stdout",
          "text": [
            "P-Val, Attribute_0:  0.8849445045321574\n"
          ]
        }
      ]
    },
    {
      "cell_type": "code",
      "source": [
        "prob = 0.95\n",
        "critical = chi2.ppf(0.95, dof)\n",
        "print('probability=%.3f, critical=%.3f, stat=%.3f' % (prob, critical, stat))"
      ],
      "metadata": {
        "colab": {
          "base_uri": "https://localhost:8080/"
        },
        "id": "L2cHOGB-mLIW",
        "outputId": "4c64cf88-2fb2-4cf4-aa23-13e4e2cd84d8"
      },
      "execution_count": 21,
      "outputs": [
        {
          "output_type": "stream",
          "name": "stdout",
          "text": [
            "probability=0.950, critical=2407.563, stat=2214.000\n"
          ]
        }
      ]
    },
    {
      "cell_type": "code",
      "source": [
        "# interpret test-statistic\n",
        "if abs(stat) >= critical:\n",
        "    print('The variables are dependent (We reject H0)')\n",
        "else:\n",
        "    print('The variables are independent (We fail to reject H0)')"
      ],
      "metadata": {
        "colab": {
          "base_uri": "https://localhost:8080/"
        },
        "id": "5_kUg3pjmR2M",
        "outputId": "567352fd-f7bc-4720-9e56-9983ec2650b9"
      },
      "execution_count": 22,
      "outputs": [
        {
          "output_type": "stream",
          "name": "stdout",
          "text": [
            "The variables are independent (We fail to reject H0)\n"
          ]
        }
      ]
    },
    {
      "cell_type": "code",
      "source": [
        "# interpret p-value\n",
        "alpha = 1.0 - prob\n",
        "print('Significance = %.3f, p = %.3f' % (alpha, p))\n",
        "if p <= alpha:\n",
        "    print('The variables are dependent (We reject H0)')\n",
        "else:\n",
        "    print('The variables are independent (We fail to reject H0)')"
      ],
      "metadata": {
        "colab": {
          "base_uri": "https://localhost:8080/"
        },
        "id": "eQUTkK7QmULp",
        "outputId": "c54a2d85-2ef5-4df1-d4e2-cc44f67a4bf5"
      },
      "execution_count": 23,
      "outputs": [
        {
          "output_type": "stream",
          "name": "stdout",
          "text": [
            "Significance = 0.050, p = 0.885\n",
            "The variables are independent (We fail to reject H0)\n"
          ]
        }
      ]
    },
    {
      "cell_type": "markdown",
      "source": [
        "Menunjukkan bahwa tidak ada multikolinearitas antara Ketersediaan pusat kegiatan belajar (ketersediaan_pkbm) terhadap Jumlah perpustakaan  (ketersediaan_tbm)"
      ],
      "metadata": {
        "id": "RLKyaLWNbz_H"
      }
    },
    {
      "cell_type": "markdown",
      "source": [
        "# Modelling"
      ],
      "metadata": {
        "id": "KojnYjwmx_Ee"
      }
    },
    {
      "cell_type": "markdown",
      "source": [
        "## Read & Splitting Data"
      ],
      "metadata": {
        "id": "MJaVlwCwALML"
      }
    },
    {
      "cell_type": "code",
      "source": [
        "def read_data(df):\n",
        "    trainFeat= [\n",
        "       'status_kegiatan_buta_aksara', 'ketersediaan_pkbm', 'ketersediaan_tbm',\n",
        "       'jumlah_angkatan_kerja', 'kepadatan_penduduk', 'Jumlah SD',\n",
        "       'Jumlah SMP', 'Jumlah SMA', 'Jumlah SMK', 'Jumlah Guru SD',\n",
        "       'Jumlah Guru SMP', 'Jumlah Guru SMA', 'Jumlah Guru SMK',\n",
        "       'waktu_tempuh_sd_terdekat', 'waktu_tempuh_smp_terdekat',\n",
        "       'waktu_tempuh_sma_terdekat',\n",
        "       'Garis Kemiskinan Menurut Kab/Kota (Rupiah/Perkapita/Perbulan)']\n",
        "\n",
        "    y = df['indeks_pendidikan'] #Target\n",
        "    X = df[trainFeat] #Features\n",
        "    x_train, x_test, y_train, y_test = train_test_split(X, y, test_size=0.2, random_state=42)\n",
        "    x_train, x_valid, y_train, y_valid = train_test_split(x_train, y_train, test_size=0.2, random_state=420)\n",
        "\n",
        "    return x_train, y_train, x_valid, y_valid, x_test, y_test\n"
      ],
      "metadata": {
        "id": "mHPLr_S00lYx"
      },
      "execution_count": 24,
      "outputs": []
    },
    {
      "cell_type": "code",
      "source": [
        "x_train, y_train, x_valid, y_valid, x_test, y_test = read_data(df_ready)"
      ],
      "metadata": {
        "id": "ax-ytBPl1Mwm"
      },
      "execution_count": 25,
      "outputs": []
    },
    {
      "cell_type": "code",
      "source": [
        "x_train.head(10)"
      ],
      "metadata": {
        "colab": {
          "base_uri": "https://localhost:8080/",
          "height": 461
        },
        "id": "Vi2zFYE02kuz",
        "outputId": "0f93e129-1d6c-4aa4-dafa-8809400e3af2"
      },
      "execution_count": 26,
      "outputs": [
        {
          "output_type": "execute_result",
          "data": {
            "text/plain": [
              "    status_kegiatan_buta_aksara  ketersediaan_pkbm  ketersediaan_tbm  \\\n",
              "53                    -3.367546          -2.438266         -1.907961   \n",
              "11                    -0.075039           0.416191         -0.235023   \n",
              "10                    -0.131394          -0.101706         -0.220601   \n",
              "47                    -0.479552          -0.029441         -0.422508   \n",
              "20                     0.601348           0.524589          0.558180   \n",
              "50                     0.066085           0.127132          0.486071   \n",
              "23                     1.356051           0.645030         -0.119648   \n",
              "0                     -0.871350           0.620942          2.389758   \n",
              "21                    -1.021670          -0.667780         -0.581148   \n",
              "39                    -1.128503          -0.860486         -0.840742   \n",
              "\n",
              "    jumlah_angkatan_kerja  kepadatan_penduduk  Jumlah SD  Jumlah SMP  \\\n",
              "53              -1.564754            0.568621  -2.084771   -1.369496   \n",
              "11              -0.228902           -0.610982  -0.100992   -0.194412   \n",
              "10              -0.769087           -0.883474  -0.826824   -0.820693   \n",
              "47              -0.124843           -0.589470  -0.100992   -0.155673   \n",
              "20               0.261984           -1.139831   0.747448    0.722411   \n",
              "50               0.221149            0.366045   0.006902   -0.278347   \n",
              "23              -0.141273           -0.978488   0.372271    0.192978   \n",
              "0                2.950581            0.873382   2.174592    2.917622   \n",
              "21               1.152205            1.387889   1.159407    0.632020   \n",
              "39               1.332249            1.438085   1.164311    0.644933   \n",
              "\n",
              "    Jumlah SMA  Jumlah SMK  Jumlah Guru SD  Jumlah Guru SMP  Jumlah Guru SMA  \\\n",
              "53   -1.339786   -1.486906       -1.958822        -1.781965        -1.643209   \n",
              "11   -0.278440   -0.169429       -0.395751         0.064312        -0.090389   \n",
              "10   -0.875447    0.269731       -0.609199        -0.590819        -0.567239   \n",
              "47   -0.300551    0.269731       -0.355580        -0.194437        -0.523222   \n",
              "20    0.628127    0.987024        0.718793         0.475708         0.026990   \n",
              "50   -0.366885   -0.052320        0.135969        -0.156901        -0.054931   \n",
              "23    0.053231    0.255092       -0.016867         0.004755        -0.215103   \n",
              "0     2.596040    0.606419        2.305396         2.725874         2.531066   \n",
              "21    0.959798    0.284369        1.547630         1.299501         1.310818   \n",
              "39    0.959798    0.299008        1.368172         1.165872         1.170208   \n",
              "\n",
              "    Jumlah Guru SMK  waktu_tempuh_sd_terdekat  waktu_tempuh_smp_terdekat  \\\n",
              "53        -1.816766                 -3.252145                  -3.512353   \n",
              "11         0.455455                 -1.033593                  -1.394828   \n",
              "10        -0.419986                  0.355704                   0.996948   \n",
              "47         0.337733                 -1.086359                  -1.127411   \n",
              "20         0.742285                  1.065881                   1.126310   \n",
              "50         0.316244                 -0.068845                   0.019962   \n",
              "23         0.369499                 -0.034056                   0.126414   \n",
              "0          2.680026                  0.885665                   0.406165   \n",
              "21         0.583454                 -0.259683                   0.350215   \n",
              "39         0.428360                 -0.311444                   0.145782   \n",
              "\n",
              "    waktu_tempuh_sma_terdekat  \\\n",
              "53                  -3.263548   \n",
              "11                  -1.843471   \n",
              "10                   1.009842   \n",
              "47                  -1.379924   \n",
              "20                   0.529115   \n",
              "50                   0.718503   \n",
              "23                   0.065396   \n",
              "0                    0.065355   \n",
              "21                   0.586241   \n",
              "39                   0.451903   \n",
              "\n",
              "    Garis Kemiskinan Menurut Kab/Kota (Rupiah/Perkapita/Perbulan)  \n",
              "53                                          -0.463948              \n",
              "11                                           1.297786              \n",
              "10                                          -0.727903              \n",
              "47                                           1.707816              \n",
              "20                                          -0.211293              \n",
              "50                                           1.924864              \n",
              "23                                          -1.045148              \n",
              "0                                           -0.174674              \n",
              "21                                          -0.286205              \n",
              "39                                          -0.087136              "
            ],
            "text/html": [
              "\n",
              "  <div id=\"df-fcfb52a1-882e-4bff-8f46-0d5bfe614b35\">\n",
              "    <div class=\"colab-df-container\">\n",
              "      <div>\n",
              "<style scoped>\n",
              "    .dataframe tbody tr th:only-of-type {\n",
              "        vertical-align: middle;\n",
              "    }\n",
              "\n",
              "    .dataframe tbody tr th {\n",
              "        vertical-align: top;\n",
              "    }\n",
              "\n",
              "    .dataframe thead th {\n",
              "        text-align: right;\n",
              "    }\n",
              "</style>\n",
              "<table border=\"1\" class=\"dataframe\">\n",
              "  <thead>\n",
              "    <tr style=\"text-align: right;\">\n",
              "      <th></th>\n",
              "      <th>status_kegiatan_buta_aksara</th>\n",
              "      <th>ketersediaan_pkbm</th>\n",
              "      <th>ketersediaan_tbm</th>\n",
              "      <th>jumlah_angkatan_kerja</th>\n",
              "      <th>kepadatan_penduduk</th>\n",
              "      <th>Jumlah SD</th>\n",
              "      <th>Jumlah SMP</th>\n",
              "      <th>Jumlah SMA</th>\n",
              "      <th>Jumlah SMK</th>\n",
              "      <th>Jumlah Guru SD</th>\n",
              "      <th>Jumlah Guru SMP</th>\n",
              "      <th>Jumlah Guru SMA</th>\n",
              "      <th>Jumlah Guru SMK</th>\n",
              "      <th>waktu_tempuh_sd_terdekat</th>\n",
              "      <th>waktu_tempuh_smp_terdekat</th>\n",
              "      <th>waktu_tempuh_sma_terdekat</th>\n",
              "      <th>Garis Kemiskinan Menurut Kab/Kota (Rupiah/Perkapita/Perbulan)</th>\n",
              "    </tr>\n",
              "  </thead>\n",
              "  <tbody>\n",
              "    <tr>\n",
              "      <th>53</th>\n",
              "      <td>-3.367546</td>\n",
              "      <td>-2.438266</td>\n",
              "      <td>-1.907961</td>\n",
              "      <td>-1.564754</td>\n",
              "      <td>0.568621</td>\n",
              "      <td>-2.084771</td>\n",
              "      <td>-1.369496</td>\n",
              "      <td>-1.339786</td>\n",
              "      <td>-1.486906</td>\n",
              "      <td>-1.958822</td>\n",
              "      <td>-1.781965</td>\n",
              "      <td>-1.643209</td>\n",
              "      <td>-1.816766</td>\n",
              "      <td>-3.252145</td>\n",
              "      <td>-3.512353</td>\n",
              "      <td>-3.263548</td>\n",
              "      <td>-0.463948</td>\n",
              "    </tr>\n",
              "    <tr>\n",
              "      <th>11</th>\n",
              "      <td>-0.075039</td>\n",
              "      <td>0.416191</td>\n",
              "      <td>-0.235023</td>\n",
              "      <td>-0.228902</td>\n",
              "      <td>-0.610982</td>\n",
              "      <td>-0.100992</td>\n",
              "      <td>-0.194412</td>\n",
              "      <td>-0.278440</td>\n",
              "      <td>-0.169429</td>\n",
              "      <td>-0.395751</td>\n",
              "      <td>0.064312</td>\n",
              "      <td>-0.090389</td>\n",
              "      <td>0.455455</td>\n",
              "      <td>-1.033593</td>\n",
              "      <td>-1.394828</td>\n",
              "      <td>-1.843471</td>\n",
              "      <td>1.297786</td>\n",
              "    </tr>\n",
              "    <tr>\n",
              "      <th>10</th>\n",
              "      <td>-0.131394</td>\n",
              "      <td>-0.101706</td>\n",
              "      <td>-0.220601</td>\n",
              "      <td>-0.769087</td>\n",
              "      <td>-0.883474</td>\n",
              "      <td>-0.826824</td>\n",
              "      <td>-0.820693</td>\n",
              "      <td>-0.875447</td>\n",
              "      <td>0.269731</td>\n",
              "      <td>-0.609199</td>\n",
              "      <td>-0.590819</td>\n",
              "      <td>-0.567239</td>\n",
              "      <td>-0.419986</td>\n",
              "      <td>0.355704</td>\n",
              "      <td>0.996948</td>\n",
              "      <td>1.009842</td>\n",
              "      <td>-0.727903</td>\n",
              "    </tr>\n",
              "    <tr>\n",
              "      <th>47</th>\n",
              "      <td>-0.479552</td>\n",
              "      <td>-0.029441</td>\n",
              "      <td>-0.422508</td>\n",
              "      <td>-0.124843</td>\n",
              "      <td>-0.589470</td>\n",
              "      <td>-0.100992</td>\n",
              "      <td>-0.155673</td>\n",
              "      <td>-0.300551</td>\n",
              "      <td>0.269731</td>\n",
              "      <td>-0.355580</td>\n",
              "      <td>-0.194437</td>\n",
              "      <td>-0.523222</td>\n",
              "      <td>0.337733</td>\n",
              "      <td>-1.086359</td>\n",
              "      <td>-1.127411</td>\n",
              "      <td>-1.379924</td>\n",
              "      <td>1.707816</td>\n",
              "    </tr>\n",
              "    <tr>\n",
              "      <th>20</th>\n",
              "      <td>0.601348</td>\n",
              "      <td>0.524589</td>\n",
              "      <td>0.558180</td>\n",
              "      <td>0.261984</td>\n",
              "      <td>-1.139831</td>\n",
              "      <td>0.747448</td>\n",
              "      <td>0.722411</td>\n",
              "      <td>0.628127</td>\n",
              "      <td>0.987024</td>\n",
              "      <td>0.718793</td>\n",
              "      <td>0.475708</td>\n",
              "      <td>0.026990</td>\n",
              "      <td>0.742285</td>\n",
              "      <td>1.065881</td>\n",
              "      <td>1.126310</td>\n",
              "      <td>0.529115</td>\n",
              "      <td>-0.211293</td>\n",
              "    </tr>\n",
              "    <tr>\n",
              "      <th>50</th>\n",
              "      <td>0.066085</td>\n",
              "      <td>0.127132</td>\n",
              "      <td>0.486071</td>\n",
              "      <td>0.221149</td>\n",
              "      <td>0.366045</td>\n",
              "      <td>0.006902</td>\n",
              "      <td>-0.278347</td>\n",
              "      <td>-0.366885</td>\n",
              "      <td>-0.052320</td>\n",
              "      <td>0.135969</td>\n",
              "      <td>-0.156901</td>\n",
              "      <td>-0.054931</td>\n",
              "      <td>0.316244</td>\n",
              "      <td>-0.068845</td>\n",
              "      <td>0.019962</td>\n",
              "      <td>0.718503</td>\n",
              "      <td>1.924864</td>\n",
              "    </tr>\n",
              "    <tr>\n",
              "      <th>23</th>\n",
              "      <td>1.356051</td>\n",
              "      <td>0.645030</td>\n",
              "      <td>-0.119648</td>\n",
              "      <td>-0.141273</td>\n",
              "      <td>-0.978488</td>\n",
              "      <td>0.372271</td>\n",
              "      <td>0.192978</td>\n",
              "      <td>0.053231</td>\n",
              "      <td>0.255092</td>\n",
              "      <td>-0.016867</td>\n",
              "      <td>0.004755</td>\n",
              "      <td>-0.215103</td>\n",
              "      <td>0.369499</td>\n",
              "      <td>-0.034056</td>\n",
              "      <td>0.126414</td>\n",
              "      <td>0.065396</td>\n",
              "      <td>-1.045148</td>\n",
              "    </tr>\n",
              "    <tr>\n",
              "      <th>0</th>\n",
              "      <td>-0.871350</td>\n",
              "      <td>0.620942</td>\n",
              "      <td>2.389758</td>\n",
              "      <td>2.950581</td>\n",
              "      <td>0.873382</td>\n",
              "      <td>2.174592</td>\n",
              "      <td>2.917622</td>\n",
              "      <td>2.596040</td>\n",
              "      <td>0.606419</td>\n",
              "      <td>2.305396</td>\n",
              "      <td>2.725874</td>\n",
              "      <td>2.531066</td>\n",
              "      <td>2.680026</td>\n",
              "      <td>0.885665</td>\n",
              "      <td>0.406165</td>\n",
              "      <td>0.065355</td>\n",
              "      <td>-0.174674</td>\n",
              "    </tr>\n",
              "    <tr>\n",
              "      <th>21</th>\n",
              "      <td>-1.021670</td>\n",
              "      <td>-0.667780</td>\n",
              "      <td>-0.581148</td>\n",
              "      <td>1.152205</td>\n",
              "      <td>1.387889</td>\n",
              "      <td>1.159407</td>\n",
              "      <td>0.632020</td>\n",
              "      <td>0.959798</td>\n",
              "      <td>0.284369</td>\n",
              "      <td>1.547630</td>\n",
              "      <td>1.299501</td>\n",
              "      <td>1.310818</td>\n",
              "      <td>0.583454</td>\n",
              "      <td>-0.259683</td>\n",
              "      <td>0.350215</td>\n",
              "      <td>0.586241</td>\n",
              "      <td>-0.286205</td>\n",
              "    </tr>\n",
              "    <tr>\n",
              "      <th>39</th>\n",
              "      <td>-1.128503</td>\n",
              "      <td>-0.860486</td>\n",
              "      <td>-0.840742</td>\n",
              "      <td>1.332249</td>\n",
              "      <td>1.438085</td>\n",
              "      <td>1.164311</td>\n",
              "      <td>0.644933</td>\n",
              "      <td>0.959798</td>\n",
              "      <td>0.299008</td>\n",
              "      <td>1.368172</td>\n",
              "      <td>1.165872</td>\n",
              "      <td>1.170208</td>\n",
              "      <td>0.428360</td>\n",
              "      <td>-0.311444</td>\n",
              "      <td>0.145782</td>\n",
              "      <td>0.451903</td>\n",
              "      <td>-0.087136</td>\n",
              "    </tr>\n",
              "  </tbody>\n",
              "</table>\n",
              "</div>\n",
              "      <button class=\"colab-df-convert\" onclick=\"convertToInteractive('df-fcfb52a1-882e-4bff-8f46-0d5bfe614b35')\"\n",
              "              title=\"Convert this dataframe to an interactive table.\"\n",
              "              style=\"display:none;\">\n",
              "        \n",
              "  <svg xmlns=\"http://www.w3.org/2000/svg\" height=\"24px\"viewBox=\"0 0 24 24\"\n",
              "       width=\"24px\">\n",
              "    <path d=\"M0 0h24v24H0V0z\" fill=\"none\"/>\n",
              "    <path d=\"M18.56 5.44l.94 2.06.94-2.06 2.06-.94-2.06-.94-.94-2.06-.94 2.06-2.06.94zm-11 1L8.5 8.5l.94-2.06 2.06-.94-2.06-.94L8.5 2.5l-.94 2.06-2.06.94zm10 10l.94 2.06.94-2.06 2.06-.94-2.06-.94-.94-2.06-.94 2.06-2.06.94z\"/><path d=\"M17.41 7.96l-1.37-1.37c-.4-.4-.92-.59-1.43-.59-.52 0-1.04.2-1.43.59L10.3 9.45l-7.72 7.72c-.78.78-.78 2.05 0 2.83L4 21.41c.39.39.9.59 1.41.59.51 0 1.02-.2 1.41-.59l7.78-7.78 2.81-2.81c.8-.78.8-2.07 0-2.86zM5.41 20L4 18.59l7.72-7.72 1.47 1.35L5.41 20z\"/>\n",
              "  </svg>\n",
              "      </button>\n",
              "      \n",
              "  <style>\n",
              "    .colab-df-container {\n",
              "      display:flex;\n",
              "      flex-wrap:wrap;\n",
              "      gap: 12px;\n",
              "    }\n",
              "\n",
              "    .colab-df-convert {\n",
              "      background-color: #E8F0FE;\n",
              "      border: none;\n",
              "      border-radius: 50%;\n",
              "      cursor: pointer;\n",
              "      display: none;\n",
              "      fill: #1967D2;\n",
              "      height: 32px;\n",
              "      padding: 0 0 0 0;\n",
              "      width: 32px;\n",
              "    }\n",
              "\n",
              "    .colab-df-convert:hover {\n",
              "      background-color: #E2EBFA;\n",
              "      box-shadow: 0px 1px 2px rgba(60, 64, 67, 0.3), 0px 1px 3px 1px rgba(60, 64, 67, 0.15);\n",
              "      fill: #174EA6;\n",
              "    }\n",
              "\n",
              "    [theme=dark] .colab-df-convert {\n",
              "      background-color: #3B4455;\n",
              "      fill: #D2E3FC;\n",
              "    }\n",
              "\n",
              "    [theme=dark] .colab-df-convert:hover {\n",
              "      background-color: #434B5C;\n",
              "      box-shadow: 0px 1px 3px 1px rgba(0, 0, 0, 0.15);\n",
              "      filter: drop-shadow(0px 1px 2px rgba(0, 0, 0, 0.3));\n",
              "      fill: #FFFFFF;\n",
              "    }\n",
              "  </style>\n",
              "\n",
              "      <script>\n",
              "        const buttonEl =\n",
              "          document.querySelector('#df-fcfb52a1-882e-4bff-8f46-0d5bfe614b35 button.colab-df-convert');\n",
              "        buttonEl.style.display =\n",
              "          google.colab.kernel.accessAllowed ? 'block' : 'none';\n",
              "\n",
              "        async function convertToInteractive(key) {\n",
              "          const element = document.querySelector('#df-fcfb52a1-882e-4bff-8f46-0d5bfe614b35');\n",
              "          const dataTable =\n",
              "            await google.colab.kernel.invokeFunction('convertToInteractive',\n",
              "                                                     [key], {});\n",
              "          if (!dataTable) return;\n",
              "\n",
              "          const docLinkHtml = 'Like what you see? Visit the ' +\n",
              "            '<a target=\"_blank\" href=https://colab.research.google.com/notebooks/data_table.ipynb>data table notebook</a>'\n",
              "            + ' to learn more about interactive tables.';\n",
              "          element.innerHTML = '';\n",
              "          dataTable['output_type'] = 'display_data';\n",
              "          await google.colab.output.renderOutput(dataTable, element);\n",
              "          const docLink = document.createElement('div');\n",
              "          docLink.innerHTML = docLinkHtml;\n",
              "          element.appendChild(docLink);\n",
              "        }\n",
              "      </script>\n",
              "    </div>\n",
              "  </div>\n",
              "  "
            ]
          },
          "metadata": {},
          "execution_count": 26
        }
      ]
    },
    {
      "cell_type": "code",
      "source": [
        "y_train.head(10)"
      ],
      "metadata": {
        "colab": {
          "base_uri": "https://localhost:8080/"
        },
        "id": "cbIjxje8210K",
        "outputId": "a1d4aa9e-a827-4eeb-9c62-e063034ebd42"
      },
      "execution_count": 27,
      "outputs": [
        {
          "output_type": "execute_result",
          "data": {
            "text/plain": [
              "53    1.611062\n",
              "11   -1.796603\n",
              "10    0.920472\n",
              "47   -1.281491\n",
              "20   -0.871099\n",
              "50   -0.220133\n",
              "23   -0.285230\n",
              "0     0.552535\n",
              "21    1.359167\n",
              "39    1.469548\n",
              "Name: indeks_pendidikan, dtype: float64"
            ]
          },
          "metadata": {},
          "execution_count": 27
        }
      ]
    },
    {
      "cell_type": "code",
      "source": [
        "def evaluate(true, predicted):\n",
        "    mae = metrics.mean_absolute_error(true, predicted)\n",
        "    mse = metrics.mean_squared_error(true, predicted)\n",
        "    rmse = np.sqrt(metrics.mean_squared_error(true, predicted))\n",
        "    r2_square = metrics.r2_score(true, predicted)\n",
        "    mape = metrics.mean_absolute_percentage_error(true, predicted)\n",
        "    exp_var = metrics.explained_variance_score(true, predicted)\n",
        "    Data_perbandingan= pd.DataFrame ({'Root Mean Squared Error': [rmse],\n",
        "                                  'R2(Coef of determination)': [r2_square],\n",
        "                                  'Mean Absolut Error': [mae],\n",
        "                                  'Mean Squared Error': [mse],\n",
        "                                  'Mean Absolute Percentage Error': [exp_var],\n",
        "                                  'Variance Score' : [exp_var]})\n",
        "    return mae, mse, rmse, r2_square, mape, exp_var, Data_perbandingan"
      ],
      "metadata": {
        "id": "NKK7htbgVH9s"
      },
      "execution_count": 28,
      "outputs": []
    },
    {
      "cell_type": "markdown",
      "source": [
        "## Model Linear Regression"
      ],
      "metadata": {
        "id": "Ve2FDCowOapY"
      }
    },
    {
      "cell_type": "code",
      "source": [
        "%%time\n",
        "LinearReg = LinearRegression()\n",
        "\n",
        "param_linear = {'fit_intercept': ['True','False']}\n",
        "\n",
        "LinearRegression_cv = RandomizedSearchCV(LinearReg ,\n",
        "                        param_distributions = param_linear,\n",
        "                        scoring='neg_mean_squared_error',\n",
        "                        cv=5\n",
        "                        )\n",
        "LinearRegression_cv.fit(x_train,y_train)"
      ],
      "metadata": {
        "colab": {
          "base_uri": "https://localhost:8080/"
        },
        "id": "FH6b_iNzP9Xz",
        "outputId": "2041d496-36d1-4cff-c405-f45dee060e10"
      },
      "execution_count": 29,
      "outputs": [
        {
          "output_type": "stream",
          "name": "stdout",
          "text": [
            "CPU times: user 106 ms, sys: 0 ns, total: 106 ms\n",
            "Wall time: 130 ms\n"
          ]
        },
        {
          "output_type": "stream",
          "name": "stderr",
          "text": [
            "The total space of parameters 2 is smaller than n_iter=10. Running 2 iterations. For exhaustive searches, use GridSearchCV.\n"
          ]
        },
        {
          "output_type": "execute_result",
          "data": {
            "text/plain": [
              "RandomizedSearchCV(cv=5, estimator=LinearRegression(),\n",
              "                   param_distributions={'fit_intercept': ['True', 'False']},\n",
              "                   scoring='neg_mean_squared_error')"
            ]
          },
          "metadata": {},
          "execution_count": 29
        }
      ]
    },
    {
      "cell_type": "code",
      "source": [
        "print(\"Tuned hyperparameters : {}\".format(LinearRegression_cv.best_params_))\n",
        "print(\"Best rmse: {}\".format(LinearRegression_cv.best_score_))\n",
        "print(\"Best Estimator: {}\".format(LinearRegression_cv.best_estimator_))"
      ],
      "metadata": {
        "colab": {
          "base_uri": "https://localhost:8080/"
        },
        "id": "Rs4dzNRRP-GK",
        "outputId": "c000efe6-e460-4b83-af6d-f83d080871d7"
      },
      "execution_count": 30,
      "outputs": [
        {
          "output_type": "stream",
          "name": "stdout",
          "text": [
            "Tuned hyperparameters : {'fit_intercept': 'True'}\n",
            "Best rmse: -6.0575483358390745\n",
            "Best Estimator: LinearRegression(fit_intercept='True')\n"
          ]
        }
      ]
    },
    {
      "cell_type": "code",
      "source": [
        "metrics_linear = evaluate(y_valid, LinearRegression_cv.predict(x_valid))\n",
        "print(\"metrics score untuk Linear Regression: \")\n",
        "print(metrics_linear[6])"
      ],
      "metadata": {
        "colab": {
          "base_uri": "https://localhost:8080/"
        },
        "id": "jTPVlJK7P-56",
        "outputId": "458f0a41-b5db-49f4-da50-0f082d1efeed"
      },
      "execution_count": 31,
      "outputs": [
        {
          "output_type": "stream",
          "name": "stdout",
          "text": [
            "metrics score untuk Linear Regression: \n",
            "   Root Mean Squared Error  R2(Coef of determination)  Mean Absolut Error  \\\n",
            "0                 0.630759                   0.657277            0.492805   \n",
            "\n",
            "   Mean Squared Error  Mean Absolute Percentage Error  Variance Score  \n",
            "0            0.397858                        0.685558        0.685558  \n"
          ]
        }
      ]
    },
    {
      "cell_type": "markdown",
      "source": [
        "## Model Lasso"
      ],
      "metadata": {
        "id": "qr9eoz1nAODx"
      }
    },
    {
      "cell_type": "code",
      "source": [
        "%%time\n",
        "lasso = Lasso(random_state=42, selection='random')\n",
        "\n",
        "param_lasso = {'alpha': np.random.uniform(0.01,1,10),\n",
        "                'selection': ['cyclic','random']}\n",
        "\n",
        "lasso_cv = RandomizedSearchCV(lasso,\n",
        "                        param_distributions = param_lasso,\n",
        "                        scoring='neg_mean_squared_error',\n",
        "                        cv=5\n",
        "                        )\n",
        "lasso_cv.fit(x_train,y_train)"
      ],
      "metadata": {
        "colab": {
          "base_uri": "https://localhost:8080/"
        },
        "id": "CHSd3Fcx04Iy",
        "outputId": "0e829774-99ab-46a2-ae88-166833d71893"
      },
      "execution_count": 32,
      "outputs": [
        {
          "output_type": "stream",
          "name": "stdout",
          "text": [
            "CPU times: user 311 ms, sys: 12.5 ms, total: 323 ms\n",
            "Wall time: 329 ms\n"
          ]
        },
        {
          "output_type": "execute_result",
          "data": {
            "text/plain": [
              "RandomizedSearchCV(cv=5, estimator=Lasso(random_state=42, selection='random'),\n",
              "                   param_distributions={'alpha': array([0.25279454, 0.73461976, 0.01314273, 0.04476953, 0.57038242,\n",
              "       0.13793723, 0.45550603, 0.50252726, 0.10720825, 0.65951012]),\n",
              "                                        'selection': ['cyclic', 'random']},\n",
              "                   scoring='neg_mean_squared_error')"
            ]
          },
          "metadata": {},
          "execution_count": 32
        }
      ]
    },
    {
      "cell_type": "code",
      "source": [
        "print(\"Tuned hyperparameters : {}\".format(lasso_cv.best_params_))\n",
        "print(\"Best rmse: {}\".format(lasso_cv.best_score_))\n",
        "print(\"Best Estimator: {}\".format(lasso_cv.best_estimator_))"
      ],
      "metadata": {
        "colab": {
          "base_uri": "https://localhost:8080/"
        },
        "id": "oqKmfJoq02ao",
        "outputId": "8e0326bc-e7fa-4e09-96c9-0a3f45b65af4"
      },
      "execution_count": 33,
      "outputs": [
        {
          "output_type": "stream",
          "name": "stdout",
          "text": [
            "Tuned hyperparameters : {'selection': 'cyclic', 'alpha': 0.04476952763186859}\n",
            "Best rmse: -0.6073997070673961\n",
            "Best Estimator: Lasso(alpha=0.04476952763186859, random_state=42)\n"
          ]
        }
      ]
    },
    {
      "cell_type": "code",
      "source": [
        "metrics_lasso = evaluate(y_valid, lasso_cv.predict(x_valid))\n",
        "print(\"metrics score untuk lasso: \")\n",
        "print(metrics_lasso[6])"
      ],
      "metadata": {
        "colab": {
          "base_uri": "https://localhost:8080/"
        },
        "id": "z5gUm8p4ERwi",
        "outputId": "e7f58f0d-9e06-4920-e42d-64c0c2684dbb"
      },
      "execution_count": 34,
      "outputs": [
        {
          "output_type": "stream",
          "name": "stdout",
          "text": [
            "metrics score untuk lasso: \n",
            "   Root Mean Squared Error  R2(Coef of determination)  Mean Absolut Error  \\\n",
            "0                 0.839908                   0.392314            0.670084   \n",
            "\n",
            "   Mean Squared Error  Mean Absolute Percentage Error  Variance Score  \n",
            "0            0.705445                        0.435142        0.435142  \n"
          ]
        }
      ]
    },
    {
      "cell_type": "markdown",
      "source": [
        "## Model Ridge"
      ],
      "metadata": {
        "id": "vLSzncJhOasm"
      }
    },
    {
      "cell_type": "code",
      "source": [
        "%%time\n",
        "RidgeModel = Ridge()\n",
        "\n",
        "param_Ridge = {'alpha': np.random.uniform(0.01,1,10),\n",
        "               'solver': ['auto', 'svd', 'lsqr', 'sparse_cg', 'saga'],\n",
        "               'tol': np.random.uniform(0.001,0.1,10)}\n",
        "\n",
        "Ridge_cv = RandomizedSearchCV(RidgeModel ,\n",
        "                        param_distributions = param_Ridge,\n",
        "                        scoring='neg_mean_squared_error',\n",
        "                        cv=5\n",
        "                        )\n",
        "Ridge_cv.fit(x_train,y_train)"
      ],
      "metadata": {
        "colab": {
          "base_uri": "https://localhost:8080/"
        },
        "id": "5FXrCZtfRdYk",
        "outputId": "7e4972d6-5af2-4875-a75f-aebb3c4180ad"
      },
      "execution_count": 35,
      "outputs": [
        {
          "output_type": "stream",
          "name": "stdout",
          "text": [
            "CPU times: user 302 ms, sys: 4.3 ms, total: 306 ms\n",
            "Wall time: 308 ms\n"
          ]
        },
        {
          "output_type": "execute_result",
          "data": {
            "text/plain": [
              "RandomizedSearchCV(cv=5, estimator=Ridge(),\n",
              "                   param_distributions={'alpha': array([0.49899412, 0.95876904, 0.12298175, 0.95864581, 0.32894523,\n",
              "       0.02955692, 0.54513935, 0.17985415, 0.39955071, 0.44037966]),\n",
              "                                        'solver': ['auto', 'svd', 'lsqr',\n",
              "                                                   'sparse_cg', 'saga'],\n",
              "                                        'tol': array([0.08598318, 0.05398049, 0.04304987, 0.0501303 , 0.00303773,\n",
              "       0.0732297 , 0.09891862, 0.09812542, 0.09112164, 0.08260953])},\n",
              "                   scoring='neg_mean_squared_error')"
            ]
          },
          "metadata": {},
          "execution_count": 35
        }
      ]
    },
    {
      "cell_type": "code",
      "source": [
        "print(\"Tuned hyperparameters : {}\".format(Ridge_cv.best_params_))\n",
        "print(\"Best rmse: {}\".format(Ridge_cv.best_score_))\n",
        "print(\"Best Estimator: {}\".format(Ridge_cv.best_estimator_))"
      ],
      "metadata": {
        "colab": {
          "base_uri": "https://localhost:8080/"
        },
        "id": "gogDm3tXR06S",
        "outputId": "b092d3c8-f8cd-4545-9eb0-3edeb6721eb5"
      },
      "execution_count": 36,
      "outputs": [
        {
          "output_type": "stream",
          "name": "stdout",
          "text": [
            "Tuned hyperparameters : {'tol': 0.09812542297989714, 'solver': 'sparse_cg', 'alpha': 0.3995507142235352}\n",
            "Best rmse: -0.6485899569582818\n",
            "Best Estimator: Ridge(alpha=0.3995507142235352, solver='sparse_cg', tol=0.09812542297989714)\n"
          ]
        }
      ]
    },
    {
      "cell_type": "code",
      "source": [
        "metrics_ridge = evaluate(y_valid, Ridge_cv.predict(x_valid))\n",
        "print(\"metrics score untuk Ridge: \")\n",
        "print(metrics_ridge[6])"
      ],
      "metadata": {
        "colab": {
          "base_uri": "https://localhost:8080/"
        },
        "id": "7qgbn-bZR1qJ",
        "outputId": "34f3e15b-9b74-413f-adbf-2b95498c2f9f"
      },
      "execution_count": 37,
      "outputs": [
        {
          "output_type": "stream",
          "name": "stdout",
          "text": [
            "metrics score untuk Ridge: \n",
            "   Root Mean Squared Error  R2(Coef of determination)  Mean Absolut Error  \\\n",
            "0                 0.860564                   0.362057            0.685772   \n",
            "\n",
            "   Mean Squared Error  Mean Absolute Percentage Error  Variance Score  \n",
            "0             0.74057                        0.384547        0.384547  \n"
          ]
        }
      ]
    },
    {
      "cell_type": "markdown",
      "source": [
        "## Model Bayesian Ridge"
      ],
      "metadata": {
        "id": "x0sFv3WHPR96"
      }
    },
    {
      "cell_type": "code",
      "source": [
        "%%time\n",
        "BayesReg = BayesianRidge()\n",
        "\n",
        "param_bayesreg = {'alpha_1': np.random.uniform(0.000001,0.00001,10)}\n",
        "\n",
        "bayesreg_cv = RandomizedSearchCV(BayesReg,\n",
        "                        param_distributions = param_bayesreg,\n",
        "                        scoring='neg_mean_squared_error',\n",
        "                        cv=5\n",
        "                        )\n",
        "bayesreg_cv.fit(x_train,y_train)"
      ],
      "metadata": {
        "colab": {
          "base_uri": "https://localhost:8080/"
        },
        "id": "VnJzCoulRd1O",
        "outputId": "b3ae9a7c-5c37-47a3-dcfa-cbf801032d2a"
      },
      "execution_count": 38,
      "outputs": [
        {
          "output_type": "stream",
          "name": "stdout",
          "text": [
            "CPU times: user 388 ms, sys: 10.3 ms, total: 398 ms\n",
            "Wall time: 407 ms\n"
          ]
        },
        {
          "output_type": "execute_result",
          "data": {
            "text/plain": [
              "RandomizedSearchCV(cv=5, estimator=BayesianRidge(),\n",
              "                   param_distributions={'alpha_1': array([2.37142664e-06, 2.24719306e-06, 4.88803064e-06, 1.63224979e-06,\n",
              "       1.53006632e-06, 8.28806291e-06, 2.96793137e-06, 3.06280961e-06,\n",
              "       6.57035892e-06, 8.69742627e-06])},\n",
              "                   scoring='neg_mean_squared_error')"
            ]
          },
          "metadata": {},
          "execution_count": 38
        }
      ]
    },
    {
      "cell_type": "code",
      "source": [
        "print(\"Tuned hyperparameters : {}\".format(bayesreg_cv.best_params_))\n",
        "print(\"Best rmse: {}\".format(bayesreg_cv.best_score_))\n",
        "print(\"Best Estimator: {}\".format(bayesreg_cv.best_estimator_))"
      ],
      "metadata": {
        "colab": {
          "base_uri": "https://localhost:8080/"
        },
        "id": "pnMT7Yx9k2tS",
        "outputId": "36554917-4dd9-4d11-aa6a-ddbf2cd4351f"
      },
      "execution_count": 39,
      "outputs": [
        {
          "output_type": "stream",
          "name": "stdout",
          "text": [
            "Tuned hyperparameters : {'alpha_1': 8.697426267414705e-06}\n",
            "Best rmse: -0.7416834249146451\n",
            "Best Estimator: BayesianRidge(alpha_1=8.697426267414705e-06)\n"
          ]
        }
      ]
    },
    {
      "cell_type": "code",
      "source": [
        "metrics_bayesreg = evaluate(y_valid, bayesreg_cv.predict(x_valid))\n",
        "print(\"metrics score untuk Bayesian Ridge: \")\n",
        "print(metrics_bayesreg[6])"
      ],
      "metadata": {
        "colab": {
          "base_uri": "https://localhost:8080/"
        },
        "id": "KRr79chkk3YG",
        "outputId": "3522e37a-9ee5-4003-b8cb-513ef2233207"
      },
      "execution_count": 40,
      "outputs": [
        {
          "output_type": "stream",
          "name": "stdout",
          "text": [
            "metrics score untuk Bayesian Ridge: \n",
            "   Root Mean Squared Error  R2(Coef of determination)  Mean Absolut Error  \\\n",
            "0                 0.802067                   0.445838            0.625387   \n",
            "\n",
            "   Mean Squared Error  Mean Absolute Percentage Error  Variance Score  \n",
            "0            0.643311                        0.484352        0.484352  \n"
          ]
        }
      ]
    },
    {
      "cell_type": "markdown",
      "source": [
        "## Model Elastic Net\n"
      ],
      "metadata": {
        "id": "QSdnKDxnPv-W"
      }
    },
    {
      "cell_type": "code",
      "source": [
        "%%time\n",
        "elasticnetreg = ElasticNet(max_iter=10000)\n",
        "\n",
        "param_elasticnetreg = {'alpha': np.random.uniform(0.01,1,10),\n",
        "                       'l1_ratio': [0.5],\n",
        "                       'tol': np.random.uniform(0.001,0.1,10)}\n",
        "\n",
        "elasticnet_cv = RandomizedSearchCV(elasticnetreg,\n",
        "                        param_distributions = param_elasticnetreg,\n",
        "                        scoring='neg_mean_squared_error',\n",
        "                        cv=5\n",
        "                        )\n",
        "elasticnet_cv.fit(x_train,y_train)"
      ],
      "metadata": {
        "colab": {
          "base_uri": "https://localhost:8080/"
        },
        "id": "Trsv0KR6ReSe",
        "outputId": "057ef350-8ffd-4d11-ce29-e472798520d6"
      },
      "execution_count": 41,
      "outputs": [
        {
          "output_type": "stream",
          "name": "stdout",
          "text": [
            "CPU times: user 379 ms, sys: 21.1 ms, total: 401 ms\n",
            "Wall time: 408 ms\n"
          ]
        },
        {
          "output_type": "execute_result",
          "data": {
            "text/plain": [
              "RandomizedSearchCV(cv=5, estimator=ElasticNet(max_iter=10000),\n",
              "                   param_distributions={'alpha': array([0.12763477, 0.29388877, 0.02674276, 0.57709855, 0.54261708,\n",
              "       0.20581994, 0.47667222, 0.4433038 , 0.91719671, 0.61251172]),\n",
              "                                        'l1_ratio': [0.5],\n",
              "                                        'tol': array([0.05282519, 0.05717789, 0.02315443, 0.06655695, 0.08618791,\n",
              "       0.03304623, 0.02440378, 0.07899151, 0.04917273, 0.08053879])},\n",
              "                   scoring='neg_mean_squared_error')"
            ]
          },
          "metadata": {},
          "execution_count": 41
        }
      ]
    },
    {
      "cell_type": "code",
      "source": [
        "print(\"Tuned hyperparameters : {}\".format(elasticnet_cv.best_params_))\n",
        "print(\"Best rmse: {}\".format(elasticnet_cv.best_score_))\n",
        "print(\"Best Estimator: {}\".format(elasticnet_cv.best_estimator_))"
      ],
      "metadata": {
        "colab": {
          "base_uri": "https://localhost:8080/"
        },
        "id": "EgIU3Kj2lSVR",
        "outputId": "13acfaf8-705d-4678-83b9-e0e593785459"
      },
      "execution_count": 42,
      "outputs": [
        {
          "output_type": "stream",
          "name": "stdout",
          "text": [
            "Tuned hyperparameters : {'tol': 0.033046225730102685, 'l1_ratio': 0.5, 'alpha': 0.12763477210445956}\n",
            "Best rmse: -0.6399231880885191\n",
            "Best Estimator: ElasticNet(alpha=0.12763477210445956, max_iter=10000, tol=0.033046225730102685)\n"
          ]
        }
      ]
    },
    {
      "cell_type": "code",
      "source": [
        "metrics_elasticnet = evaluate(y_valid, elasticnet_cv.predict(x_valid))\n",
        "print(\"metrics score untuk Elastic Net: \")\n",
        "print(metrics_elasticnet[6])"
      ],
      "metadata": {
        "colab": {
          "base_uri": "https://localhost:8080/"
        },
        "id": "hvM91FCGlTId",
        "outputId": "b9c33a13-df68-4a8d-a036-9bee1b00312e"
      },
      "execution_count": 43,
      "outputs": [
        {
          "output_type": "stream",
          "name": "stdout",
          "text": [
            "metrics score untuk Elastic Net: \n",
            "   Root Mean Squared Error  R2(Coef of determination)  Mean Absolut Error  \\\n",
            "0                 0.826174                   0.412025            0.651681   \n",
            "\n",
            "   Mean Squared Error  Mean Absolute Percentage Error  Variance Score  \n",
            "0            0.682564                        0.460968        0.460968  \n"
          ]
        }
      ]
    },
    {
      "cell_type": "markdown",
      "source": [
        "## Model Huber Regression"
      ],
      "metadata": {
        "id": "VUZY5RDqPXfB"
      }
    },
    {
      "cell_type": "code",
      "source": [
        "%%time\n",
        "HuberReg = HuberRegressor(max_iter=10000)\n",
        "\n",
        "param_huber = {'alpha': np.random.uniform(0.01,1,10),\n",
        "                       'epsilon': np.random.uniform(1.01,10,10)}\n",
        "\n",
        "huber_cv = RandomizedSearchCV(HuberReg,\n",
        "                        param_distributions = param_huber,\n",
        "                        scoring='neg_mean_squared_error',\n",
        "                        cv=5\n",
        "                        )\n",
        "huber_cv.fit(x_train,y_train)"
      ],
      "metadata": {
        "colab": {
          "base_uri": "https://localhost:8080/"
        },
        "id": "xlDqbIF7Rexg",
        "outputId": "0b849642-ecdd-4550-804a-301290a20475"
      },
      "execution_count": 44,
      "outputs": [
        {
          "output_type": "stream",
          "name": "stdout",
          "text": [
            "CPU times: user 1.62 s, sys: 45.8 ms, total: 1.67 s\n",
            "Wall time: 1.71 s\n"
          ]
        },
        {
          "output_type": "execute_result",
          "data": {
            "text/plain": [
              "RandomizedSearchCV(cv=5, estimator=HuberRegressor(max_iter=10000),\n",
              "                   param_distributions={'alpha': array([0.87821577, 0.61504128, 0.17939618, 0.5754898 , 0.49558625,\n",
              "       0.20180755, 0.50616757, 0.62251365, 0.25009555, 0.80716313]),\n",
              "                                        'epsilon': array([3.23302195, 2.86417254, 7.83672348, 1.92614004, 5.72330914,\n",
              "       5.20861464, 4.63170035, 3.42129858, 3.51863685, 1.24205278])},\n",
              "                   scoring='neg_mean_squared_error')"
            ]
          },
          "metadata": {},
          "execution_count": 44
        }
      ]
    },
    {
      "cell_type": "code",
      "source": [
        "print(\"Tuned hyperparameters : {}\".format(huber_cv.best_params_))\n",
        "print(\"Best rmse: {}\".format(huber_cv.best_score_))\n",
        "print(\"Best Estimator: {}\".format(huber_cv.best_estimator_))"
      ],
      "metadata": {
        "colab": {
          "base_uri": "https://localhost:8080/"
        },
        "id": "ash18QeLmMmi",
        "outputId": "6f3042f6-d023-4d03-c6b8-333def665fa6"
      },
      "execution_count": 45,
      "outputs": [
        {
          "output_type": "stream",
          "name": "stdout",
          "text": [
            "Tuned hyperparameters : {'epsilon': 7.836723481044431, 'alpha': 0.8071631254686303}\n",
            "Best rmse: -1.2508565854177869\n",
            "Best Estimator: HuberRegressor(alpha=0.8071631254686303, epsilon=7.836723481044431,\n",
            "               max_iter=10000)\n"
          ]
        }
      ]
    },
    {
      "cell_type": "code",
      "source": [
        "metrics_huber = evaluate(y_valid, huber_cv.predict(x_valid))\n",
        "print(\"metrics score untuk Huber: \")\n",
        "print(metrics_huber[6])"
      ],
      "metadata": {
        "colab": {
          "base_uri": "https://localhost:8080/"
        },
        "id": "RLXoosWwmNMm",
        "outputId": "a3d5926b-3834-4481-fbdb-92d98ec0034a"
      },
      "execution_count": 46,
      "outputs": [
        {
          "output_type": "stream",
          "name": "stdout",
          "text": [
            "metrics score untuk Huber: \n",
            "   Root Mean Squared Error  R2(Coef of determination)  Mean Absolut Error  \\\n",
            "0                 0.710944                   0.564602             0.55861   \n",
            "\n",
            "   Mean Squared Error  Mean Absolute Percentage Error  Variance Score  \n",
            "0            0.505442                        0.620131        0.620131  \n"
          ]
        }
      ]
    },
    {
      "cell_type": "markdown",
      "source": [
        "## Model Random Forest Regression"
      ],
      "metadata": {
        "id": "OcTtUfLFAQvL"
      }
    },
    {
      "cell_type": "code",
      "source": [
        "%%time\n",
        "rf = RandomForestRegressor(random_state=0, n_jobs=-1)\n",
        "\n",
        "param_rf = {\"n_estimators\": [100, 250, 500, 1000]}\n",
        "\n",
        "rf_cv = RandomizedSearchCV(rf,\n",
        "                        param_distributions = param_rf,\n",
        "                        scoring='neg_mean_squared_error',\n",
        "                        cv=5\n",
        "                        )\n",
        "rf_cv.fit(x_train,y_train)"
      ],
      "metadata": {
        "colab": {
          "base_uri": "https://localhost:8080/"
        },
        "id": "beq-UJ_S586X",
        "outputId": "a179e334-8446-4c17-87a6-3b78341b8e66"
      },
      "execution_count": 47,
      "outputs": [
        {
          "output_type": "stream",
          "name": "stderr",
          "text": [
            "The total space of parameters 4 is smaller than n_iter=10. Running 4 iterations. For exhaustive searches, use GridSearchCV.\n"
          ]
        },
        {
          "output_type": "stream",
          "name": "stdout",
          "text": [
            "CPU times: user 10.2 s, sys: 520 ms, total: 10.7 s\n",
            "Wall time: 24.4 s\n"
          ]
        },
        {
          "output_type": "execute_result",
          "data": {
            "text/plain": [
              "RandomizedSearchCV(cv=5,\n",
              "                   estimator=RandomForestRegressor(n_jobs=-1, random_state=0),\n",
              "                   param_distributions={'n_estimators': [100, 250, 500, 1000]},\n",
              "                   scoring='neg_mean_squared_error')"
            ]
          },
          "metadata": {},
          "execution_count": 47
        }
      ]
    },
    {
      "cell_type": "code",
      "source": [
        "print(\"Tuned hyperparameters : {}\".format(rf_cv.best_params_))\n",
        "print(\"Best rmse: {}\".format(rf_cv.best_score_))\n",
        "print(\"Best Estimator: {}\".format(rf_cv.best_estimator_))"
      ],
      "metadata": {
        "colab": {
          "base_uri": "https://localhost:8080/"
        },
        "id": "9PQ1J6fZ6ODT",
        "outputId": "8191c405-48dd-481c-f865-4400bbdf3b76"
      },
      "execution_count": 48,
      "outputs": [
        {
          "output_type": "stream",
          "name": "stdout",
          "text": [
            "Tuned hyperparameters : {'n_estimators': 500}\n",
            "Best rmse: -0.6250165481036596\n",
            "Best Estimator: RandomForestRegressor(n_estimators=500, n_jobs=-1, random_state=0)\n"
          ]
        }
      ]
    },
    {
      "cell_type": "code",
      "source": [
        "metrics_rf = evaluate(y_valid, rf_cv.predict(x_valid))\n",
        "print( \"metrics score untuk random forest Regression: \")\n",
        "print(metrics_rf[6])"
      ],
      "metadata": {
        "colab": {
          "base_uri": "https://localhost:8080/"
        },
        "id": "59eRjlzVA752",
        "outputId": "525aba6e-c363-46b0-e771-18bd2ae5ed16"
      },
      "execution_count": 49,
      "outputs": [
        {
          "output_type": "stream",
          "name": "stdout",
          "text": [
            "metrics score untuk random forest Regression: \n",
            "   Root Mean Squared Error  R2(Coef of determination)  Mean Absolut Error  \\\n",
            "0                 0.530128                    0.75791            0.414744   \n",
            "\n",
            "   Mean Squared Error  Mean Absolute Percentage Error  Variance Score  \n",
            "0            0.281036                         0.77577         0.77577  \n"
          ]
        }
      ]
    },
    {
      "cell_type": "markdown",
      "source": [
        "## Model Decision Tree Regression"
      ],
      "metadata": {
        "id": "Kn9iKgK3OacV"
      }
    },
    {
      "cell_type": "code",
      "source": [
        "%%time\n",
        "DecisionTree = DecisionTreeRegressor()\n",
        "\n",
        "param_decisiontree = {'criterion': ['squared_error','friedman_mse','absolute_error'],\n",
        "                      'splitter':['best','random']}\n",
        "\n",
        "decisiontree_cv = RandomizedSearchCV(DecisionTree ,\n",
        "                        param_distributions = param_decisiontree,\n",
        "                        scoring='neg_mean_squared_error',\n",
        "                        cv=5\n",
        "                        )\n",
        "decisiontree_cv.fit(x_train,y_train)"
      ],
      "metadata": {
        "colab": {
          "base_uri": "https://localhost:8080/"
        },
        "id": "gishrL3pRhp5",
        "outputId": "c7048de9-4efb-4003-d09e-58efea0e6028"
      },
      "execution_count": 50,
      "outputs": [
        {
          "output_type": "stream",
          "name": "stderr",
          "text": [
            "The total space of parameters 6 is smaller than n_iter=10. Running 6 iterations. For exhaustive searches, use GridSearchCV.\n"
          ]
        },
        {
          "output_type": "stream",
          "name": "stdout",
          "text": [
            "CPU times: user 200 ms, sys: 4.78 ms, total: 205 ms\n",
            "Wall time: 254 ms\n"
          ]
        },
        {
          "output_type": "execute_result",
          "data": {
            "text/plain": [
              "RandomizedSearchCV(cv=5, estimator=DecisionTreeRegressor(),\n",
              "                   param_distributions={'criterion': ['squared_error',\n",
              "                                                      'friedman_mse',\n",
              "                                                      'absolute_error'],\n",
              "                                        'splitter': ['best', 'random']},\n",
              "                   scoring='neg_mean_squared_error')"
            ]
          },
          "metadata": {},
          "execution_count": 50
        }
      ]
    },
    {
      "cell_type": "code",
      "source": [
        "print(\"Tuned hyperparameters : {}\".format(decisiontree_cv.best_params_))\n",
        "print(\"Best rmse: {}\".format(decisiontree_cv.best_score_))\n",
        "print(\"Best Estimator: {}\".format(decisiontree_cv.best_estimator_))"
      ],
      "metadata": {
        "colab": {
          "base_uri": "https://localhost:8080/"
        },
        "id": "g54aeI27pBtX",
        "outputId": "16e34d64-b6a1-41d5-d3a8-bd3379f93c89"
      },
      "execution_count": 51,
      "outputs": [
        {
          "output_type": "stream",
          "name": "stdout",
          "text": [
            "Tuned hyperparameters : {'splitter': 'random', 'criterion': 'squared_error'}\n",
            "Best rmse: -0.44144303275272395\n",
            "Best Estimator: DecisionTreeRegressor(splitter='random')\n"
          ]
        }
      ]
    },
    {
      "cell_type": "code",
      "source": [
        "metrics_decision = evaluate(y_valid, decisiontree_cv.predict(x_valid))\n",
        "print(\"metrics score untuk Decision Tree: \")\n",
        "print(metrics_decision[6])"
      ],
      "metadata": {
        "colab": {
          "base_uri": "https://localhost:8080/"
        },
        "id": "pPCGpK9jpDDp",
        "outputId": "4607120f-9d3e-4964-a5fe-ab9d53bfd0ae"
      },
      "execution_count": 52,
      "outputs": [
        {
          "output_type": "stream",
          "name": "stdout",
          "text": [
            "metrics score untuk Decision Tree: \n",
            "   Root Mean Squared Error  R2(Coef of determination)  Mean Absolut Error  \\\n",
            "0                  0.79075                   0.461365            0.389007   \n",
            "\n",
            "   Mean Squared Error  Mean Absolute Percentage Error  Variance Score  \n",
            "0            0.625286                         0.55799         0.55799  \n"
          ]
        }
      ]
    },
    {
      "cell_type": "markdown",
      "source": [
        "## Model Support Vector Regression"
      ],
      "metadata": {
        "id": "iLtmVhE8ATks"
      }
    },
    {
      "cell_type": "code",
      "source": [
        "%%time\n",
        "svr = LinearSVR(loss = 'squared_epsilon_insensitive', dual=False, max_iter=10000)\n",
        "\n",
        "param_svr = {'tol':[0.001, 0.01, 0.1, 1],\n",
        "             'C': [0.1, 0.25, 0.5, 1, 1.25]}\n",
        "\n",
        "svr_cv = RandomizedSearchCV(svr,\n",
        "                        param_distributions = param_svr,\n",
        "                        scoring='neg_mean_squared_error',\n",
        "                        cv=5\n",
        "                        )\n",
        "svr_cv.fit(x_train,y_train)"
      ],
      "metadata": {
        "colab": {
          "base_uri": "https://localhost:8080/"
        },
        "id": "q_KqGRo_6SIV",
        "outputId": "d196cdf0-67c8-408f-c4d8-3f9dca7d6ddc"
      },
      "execution_count": 53,
      "outputs": [
        {
          "output_type": "stream",
          "name": "stdout",
          "text": [
            "CPU times: user 334 ms, sys: 3.11 ms, total: 337 ms\n",
            "Wall time: 522 ms\n"
          ]
        },
        {
          "output_type": "execute_result",
          "data": {
            "text/plain": [
              "RandomizedSearchCV(cv=5,\n",
              "                   estimator=LinearSVR(dual=False,\n",
              "                                       loss='squared_epsilon_insensitive',\n",
              "                                       max_iter=10000),\n",
              "                   param_distributions={'C': [0.1, 0.25, 0.5, 1, 1.25],\n",
              "                                        'tol': [0.001, 0.01, 0.1, 1]},\n",
              "                   scoring='neg_mean_squared_error')"
            ]
          },
          "metadata": {},
          "execution_count": 53
        }
      ]
    },
    {
      "cell_type": "code",
      "source": [
        "print(\"Tuned hyperparameters : {}\".format(svr_cv.best_params_))\n",
        "print(\"Best rmse: {}\".format(svr_cv.best_score_))\n",
        "print(\"Best Estimator: {}\".format(svr_cv.best_estimator_))"
      ],
      "metadata": {
        "colab": {
          "base_uri": "https://localhost:8080/"
        },
        "id": "RMJWwf4R6c6f",
        "outputId": "218331d4-3dcd-48fc-c600-69574f942903"
      },
      "execution_count": 54,
      "outputs": [
        {
          "output_type": "stream",
          "name": "stdout",
          "text": [
            "Tuned hyperparameters : {'tol': 0.1, 'C': 0.1}\n",
            "Best rmse: -0.6529152474901176\n",
            "Best Estimator: LinearSVR(C=0.1, dual=False, loss='squared_epsilon_insensitive', max_iter=10000,\n",
            "          tol=0.1)\n"
          ]
        }
      ]
    },
    {
      "cell_type": "code",
      "source": [
        "metrics_svr = evaluate(y_valid, svr_cv.predict(x_valid))\n",
        "print( \"metrics score untuk Support Vector Regression: \")\n",
        "print(metrics_svr[6])"
      ],
      "metadata": {
        "colab": {
          "base_uri": "https://localhost:8080/"
        },
        "id": "X9JukSNYFyVp",
        "outputId": "8d91c970-dce4-41d0-db3b-d6c76a40b71a"
      },
      "execution_count": 55,
      "outputs": [
        {
          "output_type": "stream",
          "name": "stdout",
          "text": [
            "metrics score untuk Support Vector Regression: \n",
            "   Root Mean Squared Error  R2(Coef of determination)  Mean Absolut Error  \\\n",
            "0                 0.826761                    0.41119            0.641033   \n",
            "\n",
            "   Mean Squared Error  Mean Absolute Percentage Error  Variance Score  \n",
            "0            0.683533                        0.435662        0.435662  \n"
          ]
        }
      ]
    },
    {
      "cell_type": "markdown",
      "source": [
        "## Model Stochastic Gradient Descent (SGD) Regression"
      ],
      "metadata": {
        "id": "8ydIAJYJPjED"
      }
    },
    {
      "cell_type": "code",
      "source": [
        "%%time\n",
        "SGDReg = SGDRegressor()\n",
        "\n",
        "param_SGDReg = {'alpha': np.random.uniform(0.01,1,10),\n",
        "                'penalty': ['l2','l1']}\n",
        "\n",
        "gradientdescent_cv = RandomizedSearchCV(SGDReg,\n",
        "                        param_distributions = param_SGDReg ,\n",
        "                        scoring='neg_mean_squared_error',\n",
        "                        cv=5\n",
        "                        )\n",
        "gradientdescent_cv.fit(x_train,y_train)"
      ],
      "metadata": {
        "colab": {
          "base_uri": "https://localhost:8080/"
        },
        "id": "d1_IXn5eRjr6",
        "outputId": "82e3d0f4-2584-4ca4-da7a-8e01cfdf33a3"
      },
      "execution_count": 56,
      "outputs": [
        {
          "output_type": "stream",
          "name": "stdout",
          "text": [
            "CPU times: user 446 ms, sys: 3.3 ms, total: 449 ms\n",
            "Wall time: 584 ms\n"
          ]
        },
        {
          "output_type": "execute_result",
          "data": {
            "text/plain": [
              "RandomizedSearchCV(cv=5, estimator=SGDRegressor(),\n",
              "                   param_distributions={'alpha': array([0.5489367 , 0.03929027, 0.83372149, 0.76032499, 0.15192472,\n",
              "       0.31246452, 0.8640783 , 0.86989289, 0.58443009, 0.68065975]),\n",
              "                                        'penalty': ['l2', 'l1']},\n",
              "                   scoring='neg_mean_squared_error')"
            ]
          },
          "metadata": {},
          "execution_count": 56
        }
      ]
    },
    {
      "cell_type": "code",
      "source": [
        "print(\"Tuned hyperparameters : {}\".format(gradientdescent_cv.best_params_))\n",
        "print(\"Best rmse: {}\".format(gradientdescent_cv.best_score_))\n",
        "print(\"Best Estimator: {}\".format(gradientdescent_cv.best_estimator_))"
      ],
      "metadata": {
        "colab": {
          "base_uri": "https://localhost:8080/"
        },
        "id": "_4TAJz4Dp6md",
        "outputId": "32bc80ed-3452-45b5-b3bd-bf63dbe8085a"
      },
      "execution_count": 57,
      "outputs": [
        {
          "output_type": "stream",
          "name": "stdout",
          "text": [
            "Tuned hyperparameters : {'penalty': 'l2', 'alpha': 0.548936700391362}\n",
            "Best rmse: -0.7104596513654514\n",
            "Best Estimator: SGDRegressor(alpha=0.548936700391362)\n"
          ]
        }
      ]
    },
    {
      "cell_type": "code",
      "source": [
        "metrics_sgd = evaluate(y_valid, gradientdescent_cv.predict(x_valid))\n",
        "print(\"metrics score untuk Stochastic Gradient Descent: \")\n",
        "print(metrics_sgd[6])"
      ],
      "metadata": {
        "colab": {
          "base_uri": "https://localhost:8080/"
        },
        "id": "eBzVmSGhp8Xz",
        "outputId": "7ea03bd3-7426-40b3-a479-f2c4b0a034cb"
      },
      "execution_count": 58,
      "outputs": [
        {
          "output_type": "stream",
          "name": "stdout",
          "text": [
            "metrics score untuk Stochastic Gradient Descent: \n",
            "   Root Mean Squared Error  R2(Coef of determination)  Mean Absolut Error  \\\n",
            "0                 0.826035                   0.412222             0.66132   \n",
            "\n",
            "   Mean Squared Error  Mean Absolute Percentage Error  Variance Score  \n",
            "0            0.682334                        0.461742        0.461742  \n"
          ]
        }
      ]
    },
    {
      "cell_type": "markdown",
      "source": [
        "## Model Gradient Boosting Regression"
      ],
      "metadata": {
        "id": "qGmmlWdEAWr5"
      }
    },
    {
      "cell_type": "code",
      "source": [
        "%%time\n",
        "GBR = GradientBoostingRegressor(min_samples_leaf = 4,\n",
        "                                     min_samples_split = 10,\n",
        "                                     max_features = 7,\n",
        "                                     max_depth = 50,\n",
        "                                     n_estimators = 500,\n",
        "                                     subsample = 0.2,\n",
        "                                     random_state = 0)\n",
        "\n",
        "param_GBR = {'loss': ['squared_error', 'absolute_error', 'huber', 'quantile']}\n",
        "\n",
        "GBR_cv = RandomizedSearchCV(GBR,\n",
        "                        param_distributions = param_GBR,\n",
        "                        scoring='neg_mean_squared_error',\n",
        "                        cv=5\n",
        "                        )\n",
        "GBR_cv.fit(x_train,y_train)"
      ],
      "metadata": {
        "colab": {
          "base_uri": "https://localhost:8080/"
        },
        "id": "JyYrHPg29XbP",
        "outputId": "255913ef-1176-4779-f1f5-a5ac8d4f37fd"
      },
      "execution_count": 59,
      "outputs": [
        {
          "output_type": "stream",
          "name": "stderr",
          "text": [
            "The total space of parameters 4 is smaller than n_iter=10. Running 4 iterations. For exhaustive searches, use GridSearchCV.\n"
          ]
        },
        {
          "output_type": "stream",
          "name": "stdout",
          "text": [
            "CPU times: user 12.8 s, sys: 86.7 ms, total: 12.9 s\n",
            "Wall time: 25.1 s\n"
          ]
        },
        {
          "output_type": "execute_result",
          "data": {
            "text/plain": [
              "RandomizedSearchCV(cv=5,\n",
              "                   estimator=GradientBoostingRegressor(max_depth=50,\n",
              "                                                       max_features=7,\n",
              "                                                       min_samples_leaf=4,\n",
              "                                                       min_samples_split=10,\n",
              "                                                       n_estimators=500,\n",
              "                                                       random_state=0,\n",
              "                                                       subsample=0.2),\n",
              "                   param_distributions={'loss': ['squared_error',\n",
              "                                                 'absolute_error', 'huber',\n",
              "                                                 'quantile']},\n",
              "                   scoring='neg_mean_squared_error')"
            ]
          },
          "metadata": {},
          "execution_count": 59
        }
      ]
    },
    {
      "cell_type": "code",
      "source": [
        "print(\"Tuned hyperparameters : {}\".format(GBR_cv.best_params_))\n",
        "print(\"Best rmse: {}\".format(GBR_cv.best_score_))\n",
        "print(\"Best Estimator: {}\".format(GBR_cv.best_estimator_))"
      ],
      "metadata": {
        "colab": {
          "base_uri": "https://localhost:8080/"
        },
        "id": "oI4ZDkYt606k",
        "outputId": "c38c1667-e094-4dee-a692-e8a72a086acb"
      },
      "execution_count": 60,
      "outputs": [
        {
          "output_type": "stream",
          "name": "stdout",
          "text": [
            "Tuned hyperparameters : {'loss': 'squared_error'}\n",
            "Best rmse: -1.1083415736005624\n",
            "Best Estimator: GradientBoostingRegressor(max_depth=50, max_features=7, min_samples_leaf=4,\n",
            "                          min_samples_split=10, n_estimators=500,\n",
            "                          random_state=0, subsample=0.2)\n"
          ]
        }
      ]
    },
    {
      "cell_type": "code",
      "source": [
        "metrics_GBR = evaluate(y_valid, GBR_cv.predict(x_valid))\n",
        "print( \"metrics score untuk Gradient Boosting Regression: \")\n",
        "print(metrics_GBR[6])"
      ],
      "metadata": {
        "colab": {
          "base_uri": "https://localhost:8080/"
        },
        "id": "m1ecdPzOF4pP",
        "outputId": "b740b045-88ca-41ed-83c6-90b4db576140"
      },
      "execution_count": 61,
      "outputs": [
        {
          "output_type": "stream",
          "name": "stdout",
          "text": [
            "metrics score untuk Gradient Boosting Regression: \n",
            "   Root Mean Squared Error  R2(Coef of determination)  Mean Absolut Error  \\\n",
            "0                 1.158814                  -0.156761            0.988032   \n",
            "\n",
            "   Mean Squared Error  Mean Absolute Percentage Error  Variance Score  \n",
            "0            1.342851                             0.0             0.0  \n"
          ]
        }
      ]
    },
    {
      "cell_type": "markdown",
      "source": [
        "## Model KNeighbors Regression"
      ],
      "metadata": {
        "id": "pbdQXqGaOal1"
      }
    },
    {
      "cell_type": "code",
      "source": [
        "%%time\n",
        "knnreg = KNeighborsRegressor()\n",
        "\n",
        "param_knnreg = {'n_neighbors': [3,5,10,20]}\n",
        "\n",
        "knnreg_cv = RandomizedSearchCV(knnreg ,\n",
        "                        param_distributions = param_knnreg,\n",
        "                        scoring='neg_mean_squared_error',\n",
        "                        cv=5\n",
        "                        )\n",
        "\n",
        "knnreg_cv.fit(x_train,y_train)"
      ],
      "metadata": {
        "colab": {
          "base_uri": "https://localhost:8080/"
        },
        "id": "sVRVJ36gRob-",
        "outputId": "067060ec-e46d-4b57-9ac3-354c08f68e5a"
      },
      "execution_count": 62,
      "outputs": [
        {
          "output_type": "stream",
          "name": "stderr",
          "text": [
            "The total space of parameters 4 is smaller than n_iter=10. Running 4 iterations. For exhaustive searches, use GridSearchCV.\n"
          ]
        },
        {
          "output_type": "stream",
          "name": "stdout",
          "text": [
            "CPU times: user 192 ms, sys: 1.97 ms, total: 194 ms\n",
            "Wall time: 446 ms\n"
          ]
        },
        {
          "output_type": "execute_result",
          "data": {
            "text/plain": [
              "RandomizedSearchCV(cv=5, estimator=KNeighborsRegressor(),\n",
              "                   param_distributions={'n_neighbors': [3, 5, 10, 20]},\n",
              "                   scoring='neg_mean_squared_error')"
            ]
          },
          "metadata": {},
          "execution_count": 62
        }
      ]
    },
    {
      "cell_type": "code",
      "source": [
        "print(\"Tuned hyperparameters : {}\".format(knnreg_cv.best_params_))\n",
        "print(\"Best rmse: {}\".format(knnreg_cv.best_score_))\n",
        "print(\"Best Estimator: {}\".format(knnreg_cv.best_estimator_))"
      ],
      "metadata": {
        "colab": {
          "base_uri": "https://localhost:8080/"
        },
        "id": "BjborGVAqmtv",
        "outputId": "e693b42e-60cf-44ed-a897-7a2c78dc303e"
      },
      "execution_count": 63,
      "outputs": [
        {
          "output_type": "stream",
          "name": "stdout",
          "text": [
            "Tuned hyperparameters : {'n_neighbors': 3}\n",
            "Best rmse: -0.6103379522165977\n",
            "Best Estimator: KNeighborsRegressor(n_neighbors=3)\n"
          ]
        }
      ]
    },
    {
      "cell_type": "code",
      "source": [
        "metrics_knnreg = evaluate(y_valid, knnreg_cv.predict(x_valid))\n",
        "print(\"metrics score untuk KNeighbors Regression: \")\n",
        "print(metrics_knnreg[6])"
      ],
      "metadata": {
        "colab": {
          "base_uri": "https://localhost:8080/"
        },
        "id": "mqOtU_CDqoZq",
        "outputId": "9f6e851c-fc46-4860-e0e6-5f64f1ed1544"
      },
      "execution_count": 64,
      "outputs": [
        {
          "output_type": "stream",
          "name": "stdout",
          "text": [
            "metrics score untuk KNeighbors Regression: \n",
            "   Root Mean Squared Error  R2(Coef of determination)  Mean Absolut Error  \\\n",
            "0                 0.677372                   0.604751            0.622034   \n",
            "\n",
            "   Mean Squared Error  Mean Absolute Percentage Error  Variance Score  \n",
            "0            0.458833                        0.605115        0.605115  \n"
          ]
        }
      ]
    },
    {
      "cell_type": "markdown",
      "source": [
        "## Model Adaboost"
      ],
      "metadata": {
        "id": "rqXr0sskRr-F"
      }
    },
    {
      "cell_type": "code",
      "source": [
        "%%time\n",
        "Adaboost = AdaBoostRegressor()\n",
        "\n",
        "param_adaboost = {'loss': ['linear','square','exponential']}\n",
        "\n",
        "adaboost_cv = RandomizedSearchCV(Adaboost ,\n",
        "                        param_distributions = param_adaboost,\n",
        "                        scoring='neg_mean_squared_error',\n",
        "                        cv=5\n",
        "                        )\n",
        "adaboost_cv.fit(x_train,y_train)"
      ],
      "metadata": {
        "colab": {
          "base_uri": "https://localhost:8080/"
        },
        "id": "f92UgzvCrkFo",
        "outputId": "c30ff26a-e6c5-4493-e771-d9585ef18ce8"
      },
      "execution_count": 65,
      "outputs": [
        {
          "output_type": "stream",
          "name": "stderr",
          "text": [
            "The total space of parameters 3 is smaller than n_iter=10. Running 3 iterations. For exhaustive searches, use GridSearchCV.\n"
          ]
        },
        {
          "output_type": "stream",
          "name": "stdout",
          "text": [
            "CPU times: user 2.3 s, sys: 31 ms, total: 2.33 s\n",
            "Wall time: 4.99 s\n"
          ]
        },
        {
          "output_type": "execute_result",
          "data": {
            "text/plain": [
              "RandomizedSearchCV(cv=5, estimator=AdaBoostRegressor(),\n",
              "                   param_distributions={'loss': ['linear', 'square',\n",
              "                                                 'exponential']},\n",
              "                   scoring='neg_mean_squared_error')"
            ]
          },
          "metadata": {},
          "execution_count": 65
        }
      ]
    },
    {
      "cell_type": "code",
      "source": [
        "print(\"Tuned hyperparameters : {}\".format(adaboost_cv.best_params_))\n",
        "print(\"Best rmse: {}\".format(adaboost_cv.best_score_))\n",
        "print(\"Best Estimator: {}\".format(adaboost_cv.best_estimator_))"
      ],
      "metadata": {
        "colab": {
          "base_uri": "https://localhost:8080/"
        },
        "id": "jbipditirzfD",
        "outputId": "1fa201f0-12c8-4d90-f589-4112082900cc"
      },
      "execution_count": 66,
      "outputs": [
        {
          "output_type": "stream",
          "name": "stdout",
          "text": [
            "Tuned hyperparameters : {'loss': 'square'}\n",
            "Best rmse: -0.5838675629191188\n",
            "Best Estimator: AdaBoostRegressor(loss='square')\n"
          ]
        }
      ]
    },
    {
      "cell_type": "code",
      "source": [
        "metrics_adaboost = evaluate(y_valid, adaboost_cv.predict(x_valid))\n",
        "print(\"metrics score untuk Adaboost: \")\n",
        "print(metrics_adaboost[6])"
      ],
      "metadata": {
        "colab": {
          "base_uri": "https://localhost:8080/"
        },
        "id": "kxXmsPmzr0iM",
        "outputId": "57900c16-9c5b-47e9-ca18-66995fa92edc"
      },
      "execution_count": 67,
      "outputs": [
        {
          "output_type": "stream",
          "name": "stdout",
          "text": [
            "metrics score untuk Adaboost: \n",
            "   Root Mean Squared Error  R2(Coef of determination)  Mean Absolut Error  \\\n",
            "0                 0.415979                   0.850941            0.351979   \n",
            "\n",
            "   Mean Squared Error  Mean Absolute Percentage Error  Variance Score  \n",
            "0            0.173038                        0.860492        0.860492  \n"
          ]
        }
      ]
    },
    {
      "cell_type": "markdown",
      "source": [
        "## Model XGB Regression"
      ],
      "metadata": {
        "id": "WD3D4JqBOUDB"
      }
    },
    {
      "cell_type": "code",
      "source": [
        "%%time\n",
        "xgbreg = XGBRegressor (\n",
        "                      objective ='reg:squarederror',\n",
        "                      # booster= 'gblinear',\n",
        "                      max_depth = 10,\n",
        "                      min_child_weight = 5, \n",
        "                      eta = 0.1, \n",
        "                     seed = 42\n",
        "                       )\n",
        "\n",
        "param_xgbreg = {'n_estimators': [k for k in range(300,1000,100)],\n",
        "              'learning_rate': np.linspace(0.01,0.2,5),\n",
        "              'subsample': np.linspace(0.1,1,5),\n",
        "              'max_depth': np.arange(3,10,2),\n",
        "              'colsample_bytree': np.linspace(0.1,1,10)\n",
        "             }\n",
        "\n",
        "xgb_cv = RandomizedSearchCV(xgbreg ,\n",
        "                        param_distributions = param_xgbreg,\n",
        "                        scoring='neg_mean_squared_error',\n",
        "                        cv=5\n",
        "                        )\n",
        "xgb_cv.fit(x_train,y_train)"
      ],
      "metadata": {
        "colab": {
          "base_uri": "https://localhost:8080/"
        },
        "id": "HV6PevgVRkhb",
        "outputId": "5b5e33e5-1322-4dc1-eb13-19a4a3afd755"
      },
      "execution_count": 68,
      "outputs": [
        {
          "output_type": "stream",
          "name": "stdout",
          "text": [
            "CPU times: user 3.32 s, sys: 212 ms, total: 3.53 s\n",
            "Wall time: 5.55 s\n"
          ]
        },
        {
          "output_type": "execute_result",
          "data": {
            "text/plain": [
              "RandomizedSearchCV(cv=5,\n",
              "                   estimator=XGBRegressor(eta=0.1, max_depth=10,\n",
              "                                          min_child_weight=5,\n",
              "                                          objective='reg:squarederror',\n",
              "                                          seed=42),\n",
              "                   param_distributions={'colsample_bytree': array([0.1, 0.2, 0.3, 0.4, 0.5, 0.6, 0.7, 0.8, 0.9, 1. ]),\n",
              "                                        'learning_rate': array([0.01  , 0.0575, 0.105 , 0.1525, 0.2   ]),\n",
              "                                        'max_depth': array([3, 5, 7, 9]),\n",
              "                                        'n_estimators': [300, 400, 500, 600,\n",
              "                                                         700, 800, 900],\n",
              "                                        'subsample': array([0.1  , 0.325, 0.55 , 0.775, 1.   ])},\n",
              "                   scoring='neg_mean_squared_error')"
            ]
          },
          "metadata": {},
          "execution_count": 68
        }
      ]
    },
    {
      "cell_type": "code",
      "source": [
        "print(\"Tuned hyperparameters : {}\".format(xgb_cv.best_params_))\n",
        "print(\"Best rmse: {}\".format(xgb_cv.best_score_))\n",
        "print(\"Best Estimator: {}\".format(xgb_cv.best_estimator_))"
      ],
      "metadata": {
        "colab": {
          "base_uri": "https://localhost:8080/"
        },
        "id": "eS314m8Tsqb8",
        "outputId": "60fe9f13-d81b-4721-b190-216d4d18d4ee"
      },
      "execution_count": 69,
      "outputs": [
        {
          "output_type": "stream",
          "name": "stdout",
          "text": [
            "Tuned hyperparameters : {'subsample': 0.55, 'n_estimators': 700, 'max_depth': 7, 'learning_rate': 0.15250000000000002, 'colsample_bytree': 0.1}\n",
            "Best rmse: -0.43016487263545466\n",
            "Best Estimator: XGBRegressor(colsample_bytree=0.1, eta=0.1, learning_rate=0.15250000000000002,\n",
            "             max_depth=7, min_child_weight=5, n_estimators=700,\n",
            "             objective='reg:squarederror', seed=42, subsample=0.55)\n"
          ]
        }
      ]
    },
    {
      "cell_type": "code",
      "source": [
        "metrics_xgb = evaluate(y_valid, xgb_cv.predict(x_valid))\n",
        "print(\"metrics score untuk XGBoost: \")\n",
        "print(metrics_xgb[6])"
      ],
      "metadata": {
        "colab": {
          "base_uri": "https://localhost:8080/"
        },
        "id": "HbU67lOlsreH",
        "outputId": "86741266-2939-4e92-8de0-e1448d1d070e"
      },
      "execution_count": 70,
      "outputs": [
        {
          "output_type": "stream",
          "name": "stdout",
          "text": [
            "metrics score untuk XGBoost: \n",
            "   Root Mean Squared Error  R2(Coef of determination)  Mean Absolut Error  \\\n",
            "0                 0.254453                   0.944226            0.221934   \n",
            "\n",
            "   Mean Squared Error  Mean Absolute Percentage Error  Variance Score  \n",
            "0            0.064746                         0.94626         0.94626  \n"
          ]
        }
      ]
    },
    {
      "cell_type": "markdown",
      "source": [
        "# Perbandingan Semua Model"
      ],
      "metadata": {
        "id": "VpzncZjCAyCN"
      }
    },
    {
      "cell_type": "code",
      "source": [
        "Perbandingan_model= pd.DataFrame ({'Root Mean Squared Error': [metrics_linear[2], metrics_lasso[2], metrics_ridge[2], metrics_bayesreg[2], metrics_elasticnet[2],\n",
        "                                                              metrics_huber[2], metrics_rf[2], metrics_decision[2], metrics_svr[2], metrics_sgd[2], metrics_GBR[2],\n",
        "                                                              metrics_knnreg[2],metrics_adaboost[2],metrics_xgb[2]],\n",
        "                                  \n",
        "                                  \n",
        "                                  'R2(Coef of determination)': [metrics_linear[3], metrics_lasso[3],metrics_ridge[3],metrics_bayesreg[3],metrics_elasticnet[3],\n",
        "                                                              metrics_huber[3], metrics_rf[3],metrics_decision[3], metrics_svr[3],metrics_sgd[3], metrics_GBR[3],\n",
        "                                                              metrics_knnreg[3],metrics_adaboost[3],metrics_xgb[3]],\n",
        "\n",
        "                                  'Mean Absolut Error': [metrics_linear[0], metrics_lasso[0],metrics_ridge[0],metrics_bayesreg[0],metrics_elasticnet[0],\n",
        "                                                              metrics_huber[0], metrics_rf[0],metrics_decision[0], metrics_svr[0],metrics_sgd[0], metrics_GBR[0],\n",
        "                                                              metrics_knnreg[0],metrics_adaboost[0],metrics_xgb[0]],\n",
        "\n",
        "                                  'Mean Squared Error': [metrics_linear[1], metrics_lasso[1], metrics_ridge[1], metrics_bayesreg[1], metrics_elasticnet[1],\n",
        "                                                              metrics_huber[1], metrics_rf[1], metrics_decision[1], metrics_svr[1], metrics_sgd[1], metrics_GBR[1],\n",
        "                                                              metrics_knnreg[1],metrics_adaboost[1],metrics_xgb[1]],\n",
        "\n",
        "                                  'Mean Absolute Percentage Error': [metrics_linear[4], metrics_lasso[4], metrics_ridge[4], metrics_bayesreg[4], metrics_elasticnet[4],\n",
        "                                                                    metrics_huber[4], metrics_rf[4], metrics_decision[4], metrics_svr[4], metrics_sgd[4], metrics_GBR[4],\n",
        "                                                                    metrics_knnreg[4],metrics_adaboost[4],metrics_xgb[4]],\n",
        "\n",
        "                                  'Variance Score' : [metrics_linear[5], metrics_lasso[5], metrics_ridge[5], metrics_bayesreg[5], metrics_elasticnet[5],\n",
        "                                                                    metrics_huber[5], metrics_rf[5], metrics_decision[5], metrics_svr[5], metrics_sgd[5], metrics_GBR[5],\n",
        "                                                                    metrics_knnreg[5],metrics_adaboost[5],metrics_xgb[5]]\n",
        "\n",
        "                            }, index=['Model Linear', 'Model Lasso', 'Model Ridge','Model Bayesian Regression','Model Elastic Net',\n",
        "                                      'Model Huber Regression','Model Random Forest Regression','Model Decision Tree Regression',\n",
        "                                      'Model Support Vector Regression','Model Stochastic Gradient Descent Regression',\n",
        "                                      'Model Gradient Boosting Regression','Model KNeighbors Regression',\n",
        "                                      'Model Adaboost','Model XGBoost Regression' \n",
        "                                      ])"
      ],
      "metadata": {
        "id": "As64fiQmAztV"
      },
      "execution_count": 71,
      "outputs": []
    },
    {
      "cell_type": "code",
      "source": [
        "Perbandingan_model.head(5)"
      ],
      "metadata": {
        "colab": {
          "base_uri": "https://localhost:8080/",
          "height": 206
        },
        "id": "E5UBB3WtyISf",
        "outputId": "5b390b66-053e-4810-a1ab-4d327cfba338"
      },
      "execution_count": 72,
      "outputs": [
        {
          "output_type": "execute_result",
          "data": {
            "text/plain": [
              "                           Root Mean Squared Error  R2(Coef of determination)  \\\n",
              "Model Linear                              0.630759                   0.657277   \n",
              "Model Lasso                               0.839908                   0.392314   \n",
              "Model Ridge                               0.860564                   0.362057   \n",
              "Model Bayesian Regression                 0.802067                   0.445838   \n",
              "Model Elastic Net                         0.826174                   0.412025   \n",
              "\n",
              "                           Mean Absolut Error  Mean Squared Error  \\\n",
              "Model Linear                         0.492805            0.397858   \n",
              "Model Lasso                          0.670084            0.705445   \n",
              "Model Ridge                          0.685772            0.740570   \n",
              "Model Bayesian Regression            0.625387            0.643311   \n",
              "Model Elastic Net                    0.651681            0.682564   \n",
              "\n",
              "                           Mean Absolute Percentage Error  Variance Score  \n",
              "Model Linear                                     7.684037        0.685558  \n",
              "Model Lasso                                     10.774086        0.435142  \n",
              "Model Ridge                                     10.648896        0.384547  \n",
              "Model Bayesian Regression                        9.658969        0.484352  \n",
              "Model Elastic Net                                9.146665        0.460968  "
            ],
            "text/html": [
              "\n",
              "  <div id=\"df-3f674bd9-c2e0-435c-af03-61b5d2df3091\">\n",
              "    <div class=\"colab-df-container\">\n",
              "      <div>\n",
              "<style scoped>\n",
              "    .dataframe tbody tr th:only-of-type {\n",
              "        vertical-align: middle;\n",
              "    }\n",
              "\n",
              "    .dataframe tbody tr th {\n",
              "        vertical-align: top;\n",
              "    }\n",
              "\n",
              "    .dataframe thead th {\n",
              "        text-align: right;\n",
              "    }\n",
              "</style>\n",
              "<table border=\"1\" class=\"dataframe\">\n",
              "  <thead>\n",
              "    <tr style=\"text-align: right;\">\n",
              "      <th></th>\n",
              "      <th>Root Mean Squared Error</th>\n",
              "      <th>R2(Coef of determination)</th>\n",
              "      <th>Mean Absolut Error</th>\n",
              "      <th>Mean Squared Error</th>\n",
              "      <th>Mean Absolute Percentage Error</th>\n",
              "      <th>Variance Score</th>\n",
              "    </tr>\n",
              "  </thead>\n",
              "  <tbody>\n",
              "    <tr>\n",
              "      <th>Model Linear</th>\n",
              "      <td>0.630759</td>\n",
              "      <td>0.657277</td>\n",
              "      <td>0.492805</td>\n",
              "      <td>0.397858</td>\n",
              "      <td>7.684037</td>\n",
              "      <td>0.685558</td>\n",
              "    </tr>\n",
              "    <tr>\n",
              "      <th>Model Lasso</th>\n",
              "      <td>0.839908</td>\n",
              "      <td>0.392314</td>\n",
              "      <td>0.670084</td>\n",
              "      <td>0.705445</td>\n",
              "      <td>10.774086</td>\n",
              "      <td>0.435142</td>\n",
              "    </tr>\n",
              "    <tr>\n",
              "      <th>Model Ridge</th>\n",
              "      <td>0.860564</td>\n",
              "      <td>0.362057</td>\n",
              "      <td>0.685772</td>\n",
              "      <td>0.740570</td>\n",
              "      <td>10.648896</td>\n",
              "      <td>0.384547</td>\n",
              "    </tr>\n",
              "    <tr>\n",
              "      <th>Model Bayesian Regression</th>\n",
              "      <td>0.802067</td>\n",
              "      <td>0.445838</td>\n",
              "      <td>0.625387</td>\n",
              "      <td>0.643311</td>\n",
              "      <td>9.658969</td>\n",
              "      <td>0.484352</td>\n",
              "    </tr>\n",
              "    <tr>\n",
              "      <th>Model Elastic Net</th>\n",
              "      <td>0.826174</td>\n",
              "      <td>0.412025</td>\n",
              "      <td>0.651681</td>\n",
              "      <td>0.682564</td>\n",
              "      <td>9.146665</td>\n",
              "      <td>0.460968</td>\n",
              "    </tr>\n",
              "  </tbody>\n",
              "</table>\n",
              "</div>\n",
              "      <button class=\"colab-df-convert\" onclick=\"convertToInteractive('df-3f674bd9-c2e0-435c-af03-61b5d2df3091')\"\n",
              "              title=\"Convert this dataframe to an interactive table.\"\n",
              "              style=\"display:none;\">\n",
              "        \n",
              "  <svg xmlns=\"http://www.w3.org/2000/svg\" height=\"24px\"viewBox=\"0 0 24 24\"\n",
              "       width=\"24px\">\n",
              "    <path d=\"M0 0h24v24H0V0z\" fill=\"none\"/>\n",
              "    <path d=\"M18.56 5.44l.94 2.06.94-2.06 2.06-.94-2.06-.94-.94-2.06-.94 2.06-2.06.94zm-11 1L8.5 8.5l.94-2.06 2.06-.94-2.06-.94L8.5 2.5l-.94 2.06-2.06.94zm10 10l.94 2.06.94-2.06 2.06-.94-2.06-.94-.94-2.06-.94 2.06-2.06.94z\"/><path d=\"M17.41 7.96l-1.37-1.37c-.4-.4-.92-.59-1.43-.59-.52 0-1.04.2-1.43.59L10.3 9.45l-7.72 7.72c-.78.78-.78 2.05 0 2.83L4 21.41c.39.39.9.59 1.41.59.51 0 1.02-.2 1.41-.59l7.78-7.78 2.81-2.81c.8-.78.8-2.07 0-2.86zM5.41 20L4 18.59l7.72-7.72 1.47 1.35L5.41 20z\"/>\n",
              "  </svg>\n",
              "      </button>\n",
              "      \n",
              "  <style>\n",
              "    .colab-df-container {\n",
              "      display:flex;\n",
              "      flex-wrap:wrap;\n",
              "      gap: 12px;\n",
              "    }\n",
              "\n",
              "    .colab-df-convert {\n",
              "      background-color: #E8F0FE;\n",
              "      border: none;\n",
              "      border-radius: 50%;\n",
              "      cursor: pointer;\n",
              "      display: none;\n",
              "      fill: #1967D2;\n",
              "      height: 32px;\n",
              "      padding: 0 0 0 0;\n",
              "      width: 32px;\n",
              "    }\n",
              "\n",
              "    .colab-df-convert:hover {\n",
              "      background-color: #E2EBFA;\n",
              "      box-shadow: 0px 1px 2px rgba(60, 64, 67, 0.3), 0px 1px 3px 1px rgba(60, 64, 67, 0.15);\n",
              "      fill: #174EA6;\n",
              "    }\n",
              "\n",
              "    [theme=dark] .colab-df-convert {\n",
              "      background-color: #3B4455;\n",
              "      fill: #D2E3FC;\n",
              "    }\n",
              "\n",
              "    [theme=dark] .colab-df-convert:hover {\n",
              "      background-color: #434B5C;\n",
              "      box-shadow: 0px 1px 3px 1px rgba(0, 0, 0, 0.15);\n",
              "      filter: drop-shadow(0px 1px 2px rgba(0, 0, 0, 0.3));\n",
              "      fill: #FFFFFF;\n",
              "    }\n",
              "  </style>\n",
              "\n",
              "      <script>\n",
              "        const buttonEl =\n",
              "          document.querySelector('#df-3f674bd9-c2e0-435c-af03-61b5d2df3091 button.colab-df-convert');\n",
              "        buttonEl.style.display =\n",
              "          google.colab.kernel.accessAllowed ? 'block' : 'none';\n",
              "\n",
              "        async function convertToInteractive(key) {\n",
              "          const element = document.querySelector('#df-3f674bd9-c2e0-435c-af03-61b5d2df3091');\n",
              "          const dataTable =\n",
              "            await google.colab.kernel.invokeFunction('convertToInteractive',\n",
              "                                                     [key], {});\n",
              "          if (!dataTable) return;\n",
              "\n",
              "          const docLinkHtml = 'Like what you see? Visit the ' +\n",
              "            '<a target=\"_blank\" href=https://colab.research.google.com/notebooks/data_table.ipynb>data table notebook</a>'\n",
              "            + ' to learn more about interactive tables.';\n",
              "          element.innerHTML = '';\n",
              "          dataTable['output_type'] = 'display_data';\n",
              "          await google.colab.output.renderOutput(dataTable, element);\n",
              "          const docLink = document.createElement('div');\n",
              "          docLink.innerHTML = docLinkHtml;\n",
              "          element.appendChild(docLink);\n",
              "        }\n",
              "      </script>\n",
              "    </div>\n",
              "  </div>\n",
              "  "
            ]
          },
          "metadata": {},
          "execution_count": 72
        }
      ]
    },
    {
      "cell_type": "code",
      "source": [
        "Perbandingan_model.sort_values(['Root Mean Squared Error'])"
      ],
      "metadata": {
        "colab": {
          "base_uri": "https://localhost:8080/",
          "height": 488
        },
        "id": "MDs9tSZyyNxd",
        "outputId": "c67f03e8-4bd9-48a2-d23c-8eb5ac4a3a48"
      },
      "execution_count": 73,
      "outputs": [
        {
          "output_type": "execute_result",
          "data": {
            "text/plain": [
              "                                              Root Mean Squared Error  \\\n",
              "Model XGBoost Regression                                     0.254453   \n",
              "Model Adaboost                                               0.415979   \n",
              "Model Random Forest Regression                               0.530128   \n",
              "Model Linear                                                 0.630759   \n",
              "Model KNeighbors Regression                                  0.677372   \n",
              "Model Huber Regression                                       0.710944   \n",
              "Model Decision Tree Regression                               0.790750   \n",
              "Model Bayesian Regression                                    0.802067   \n",
              "Model Stochastic Gradient Descent Regression                 0.826035   \n",
              "Model Elastic Net                                            0.826174   \n",
              "Model Support Vector Regression                              0.826761   \n",
              "Model Lasso                                                  0.839908   \n",
              "Model Ridge                                                  0.860564   \n",
              "Model Gradient Boosting Regression                           1.158814   \n",
              "\n",
              "                                              R2(Coef of determination)  \\\n",
              "Model XGBoost Regression                                       0.944226   \n",
              "Model Adaboost                                                 0.850941   \n",
              "Model Random Forest Regression                                 0.757910   \n",
              "Model Linear                                                   0.657277   \n",
              "Model KNeighbors Regression                                    0.604751   \n",
              "Model Huber Regression                                         0.564602   \n",
              "Model Decision Tree Regression                                 0.461365   \n",
              "Model Bayesian Regression                                      0.445838   \n",
              "Model Stochastic Gradient Descent Regression                   0.412222   \n",
              "Model Elastic Net                                              0.412025   \n",
              "Model Support Vector Regression                                0.411190   \n",
              "Model Lasso                                                    0.392314   \n",
              "Model Ridge                                                    0.362057   \n",
              "Model Gradient Boosting Regression                            -0.156761   \n",
              "\n",
              "                                              Mean Absolut Error  \\\n",
              "Model XGBoost Regression                                0.221934   \n",
              "Model Adaboost                                          0.351979   \n",
              "Model Random Forest Regression                          0.414744   \n",
              "Model Linear                                            0.492805   \n",
              "Model KNeighbors Regression                             0.622034   \n",
              "Model Huber Regression                                  0.558610   \n",
              "Model Decision Tree Regression                          0.389007   \n",
              "Model Bayesian Regression                               0.625387   \n",
              "Model Stochastic Gradient Descent Regression            0.661320   \n",
              "Model Elastic Net                                       0.651681   \n",
              "Model Support Vector Regression                         0.641033   \n",
              "Model Lasso                                             0.670084   \n",
              "Model Ridge                                             0.685772   \n",
              "Model Gradient Boosting Regression                      0.988032   \n",
              "\n",
              "                                              Mean Squared Error  \\\n",
              "Model XGBoost Regression                                0.064746   \n",
              "Model Adaboost                                          0.173038   \n",
              "Model Random Forest Regression                          0.281036   \n",
              "Model Linear                                            0.397858   \n",
              "Model KNeighbors Regression                             0.458833   \n",
              "Model Huber Regression                                  0.505442   \n",
              "Model Decision Tree Regression                          0.625286   \n",
              "Model Bayesian Regression                               0.643311   \n",
              "Model Stochastic Gradient Descent Regression            0.682334   \n",
              "Model Elastic Net                                       0.682564   \n",
              "Model Support Vector Regression                         0.683533   \n",
              "Model Lasso                                             0.705445   \n",
              "Model Ridge                                             0.740570   \n",
              "Model Gradient Boosting Regression                      1.342851   \n",
              "\n",
              "                                              Mean Absolute Percentage Error  \\\n",
              "Model XGBoost Regression                                            2.466531   \n",
              "Model Adaboost                                                      6.565490   \n",
              "Model Random Forest Regression                                      8.089772   \n",
              "Model Linear                                                        7.684037   \n",
              "Model KNeighbors Regression                                         6.860443   \n",
              "Model Huber Regression                                              9.396398   \n",
              "Model Decision Tree Regression                                      0.460465   \n",
              "Model Bayesian Regression                                           9.658969   \n",
              "Model Stochastic Gradient Descent Regression                        7.988334   \n",
              "Model Elastic Net                                                   9.146665   \n",
              "Model Support Vector Regression                                    10.051853   \n",
              "Model Lasso                                                        10.774086   \n",
              "Model Ridge                                                        10.648896   \n",
              "Model Gradient Boosting Regression                                  1.101649   \n",
              "\n",
              "                                              Variance Score  \n",
              "Model XGBoost Regression                            0.946260  \n",
              "Model Adaboost                                      0.860492  \n",
              "Model Random Forest Regression                      0.775770  \n",
              "Model Linear                                        0.685558  \n",
              "Model KNeighbors Regression                         0.605115  \n",
              "Model Huber Regression                              0.620131  \n",
              "Model Decision Tree Regression                      0.557990  \n",
              "Model Bayesian Regression                           0.484352  \n",
              "Model Stochastic Gradient Descent Regression        0.461742  \n",
              "Model Elastic Net                                   0.460968  \n",
              "Model Support Vector Regression                     0.435662  \n",
              "Model Lasso                                         0.435142  \n",
              "Model Ridge                                         0.384547  \n",
              "Model Gradient Boosting Regression                  0.000000  "
            ],
            "text/html": [
              "\n",
              "  <div id=\"df-e912fde2-2d21-4a47-896d-ef174eef03cf\">\n",
              "    <div class=\"colab-df-container\">\n",
              "      <div>\n",
              "<style scoped>\n",
              "    .dataframe tbody tr th:only-of-type {\n",
              "        vertical-align: middle;\n",
              "    }\n",
              "\n",
              "    .dataframe tbody tr th {\n",
              "        vertical-align: top;\n",
              "    }\n",
              "\n",
              "    .dataframe thead th {\n",
              "        text-align: right;\n",
              "    }\n",
              "</style>\n",
              "<table border=\"1\" class=\"dataframe\">\n",
              "  <thead>\n",
              "    <tr style=\"text-align: right;\">\n",
              "      <th></th>\n",
              "      <th>Root Mean Squared Error</th>\n",
              "      <th>R2(Coef of determination)</th>\n",
              "      <th>Mean Absolut Error</th>\n",
              "      <th>Mean Squared Error</th>\n",
              "      <th>Mean Absolute Percentage Error</th>\n",
              "      <th>Variance Score</th>\n",
              "    </tr>\n",
              "  </thead>\n",
              "  <tbody>\n",
              "    <tr>\n",
              "      <th>Model XGBoost Regression</th>\n",
              "      <td>0.254453</td>\n",
              "      <td>0.944226</td>\n",
              "      <td>0.221934</td>\n",
              "      <td>0.064746</td>\n",
              "      <td>2.466531</td>\n",
              "      <td>0.946260</td>\n",
              "    </tr>\n",
              "    <tr>\n",
              "      <th>Model Adaboost</th>\n",
              "      <td>0.415979</td>\n",
              "      <td>0.850941</td>\n",
              "      <td>0.351979</td>\n",
              "      <td>0.173038</td>\n",
              "      <td>6.565490</td>\n",
              "      <td>0.860492</td>\n",
              "    </tr>\n",
              "    <tr>\n",
              "      <th>Model Random Forest Regression</th>\n",
              "      <td>0.530128</td>\n",
              "      <td>0.757910</td>\n",
              "      <td>0.414744</td>\n",
              "      <td>0.281036</td>\n",
              "      <td>8.089772</td>\n",
              "      <td>0.775770</td>\n",
              "    </tr>\n",
              "    <tr>\n",
              "      <th>Model Linear</th>\n",
              "      <td>0.630759</td>\n",
              "      <td>0.657277</td>\n",
              "      <td>0.492805</td>\n",
              "      <td>0.397858</td>\n",
              "      <td>7.684037</td>\n",
              "      <td>0.685558</td>\n",
              "    </tr>\n",
              "    <tr>\n",
              "      <th>Model KNeighbors Regression</th>\n",
              "      <td>0.677372</td>\n",
              "      <td>0.604751</td>\n",
              "      <td>0.622034</td>\n",
              "      <td>0.458833</td>\n",
              "      <td>6.860443</td>\n",
              "      <td>0.605115</td>\n",
              "    </tr>\n",
              "    <tr>\n",
              "      <th>Model Huber Regression</th>\n",
              "      <td>0.710944</td>\n",
              "      <td>0.564602</td>\n",
              "      <td>0.558610</td>\n",
              "      <td>0.505442</td>\n",
              "      <td>9.396398</td>\n",
              "      <td>0.620131</td>\n",
              "    </tr>\n",
              "    <tr>\n",
              "      <th>Model Decision Tree Regression</th>\n",
              "      <td>0.790750</td>\n",
              "      <td>0.461365</td>\n",
              "      <td>0.389007</td>\n",
              "      <td>0.625286</td>\n",
              "      <td>0.460465</td>\n",
              "      <td>0.557990</td>\n",
              "    </tr>\n",
              "    <tr>\n",
              "      <th>Model Bayesian Regression</th>\n",
              "      <td>0.802067</td>\n",
              "      <td>0.445838</td>\n",
              "      <td>0.625387</td>\n",
              "      <td>0.643311</td>\n",
              "      <td>9.658969</td>\n",
              "      <td>0.484352</td>\n",
              "    </tr>\n",
              "    <tr>\n",
              "      <th>Model Stochastic Gradient Descent Regression</th>\n",
              "      <td>0.826035</td>\n",
              "      <td>0.412222</td>\n",
              "      <td>0.661320</td>\n",
              "      <td>0.682334</td>\n",
              "      <td>7.988334</td>\n",
              "      <td>0.461742</td>\n",
              "    </tr>\n",
              "    <tr>\n",
              "      <th>Model Elastic Net</th>\n",
              "      <td>0.826174</td>\n",
              "      <td>0.412025</td>\n",
              "      <td>0.651681</td>\n",
              "      <td>0.682564</td>\n",
              "      <td>9.146665</td>\n",
              "      <td>0.460968</td>\n",
              "    </tr>\n",
              "    <tr>\n",
              "      <th>Model Support Vector Regression</th>\n",
              "      <td>0.826761</td>\n",
              "      <td>0.411190</td>\n",
              "      <td>0.641033</td>\n",
              "      <td>0.683533</td>\n",
              "      <td>10.051853</td>\n",
              "      <td>0.435662</td>\n",
              "    </tr>\n",
              "    <tr>\n",
              "      <th>Model Lasso</th>\n",
              "      <td>0.839908</td>\n",
              "      <td>0.392314</td>\n",
              "      <td>0.670084</td>\n",
              "      <td>0.705445</td>\n",
              "      <td>10.774086</td>\n",
              "      <td>0.435142</td>\n",
              "    </tr>\n",
              "    <tr>\n",
              "      <th>Model Ridge</th>\n",
              "      <td>0.860564</td>\n",
              "      <td>0.362057</td>\n",
              "      <td>0.685772</td>\n",
              "      <td>0.740570</td>\n",
              "      <td>10.648896</td>\n",
              "      <td>0.384547</td>\n",
              "    </tr>\n",
              "    <tr>\n",
              "      <th>Model Gradient Boosting Regression</th>\n",
              "      <td>1.158814</td>\n",
              "      <td>-0.156761</td>\n",
              "      <td>0.988032</td>\n",
              "      <td>1.342851</td>\n",
              "      <td>1.101649</td>\n",
              "      <td>0.000000</td>\n",
              "    </tr>\n",
              "  </tbody>\n",
              "</table>\n",
              "</div>\n",
              "      <button class=\"colab-df-convert\" onclick=\"convertToInteractive('df-e912fde2-2d21-4a47-896d-ef174eef03cf')\"\n",
              "              title=\"Convert this dataframe to an interactive table.\"\n",
              "              style=\"display:none;\">\n",
              "        \n",
              "  <svg xmlns=\"http://www.w3.org/2000/svg\" height=\"24px\"viewBox=\"0 0 24 24\"\n",
              "       width=\"24px\">\n",
              "    <path d=\"M0 0h24v24H0V0z\" fill=\"none\"/>\n",
              "    <path d=\"M18.56 5.44l.94 2.06.94-2.06 2.06-.94-2.06-.94-.94-2.06-.94 2.06-2.06.94zm-11 1L8.5 8.5l.94-2.06 2.06-.94-2.06-.94L8.5 2.5l-.94 2.06-2.06.94zm10 10l.94 2.06.94-2.06 2.06-.94-2.06-.94-.94-2.06-.94 2.06-2.06.94z\"/><path d=\"M17.41 7.96l-1.37-1.37c-.4-.4-.92-.59-1.43-.59-.52 0-1.04.2-1.43.59L10.3 9.45l-7.72 7.72c-.78.78-.78 2.05 0 2.83L4 21.41c.39.39.9.59 1.41.59.51 0 1.02-.2 1.41-.59l7.78-7.78 2.81-2.81c.8-.78.8-2.07 0-2.86zM5.41 20L4 18.59l7.72-7.72 1.47 1.35L5.41 20z\"/>\n",
              "  </svg>\n",
              "      </button>\n",
              "      \n",
              "  <style>\n",
              "    .colab-df-container {\n",
              "      display:flex;\n",
              "      flex-wrap:wrap;\n",
              "      gap: 12px;\n",
              "    }\n",
              "\n",
              "    .colab-df-convert {\n",
              "      background-color: #E8F0FE;\n",
              "      border: none;\n",
              "      border-radius: 50%;\n",
              "      cursor: pointer;\n",
              "      display: none;\n",
              "      fill: #1967D2;\n",
              "      height: 32px;\n",
              "      padding: 0 0 0 0;\n",
              "      width: 32px;\n",
              "    }\n",
              "\n",
              "    .colab-df-convert:hover {\n",
              "      background-color: #E2EBFA;\n",
              "      box-shadow: 0px 1px 2px rgba(60, 64, 67, 0.3), 0px 1px 3px 1px rgba(60, 64, 67, 0.15);\n",
              "      fill: #174EA6;\n",
              "    }\n",
              "\n",
              "    [theme=dark] .colab-df-convert {\n",
              "      background-color: #3B4455;\n",
              "      fill: #D2E3FC;\n",
              "    }\n",
              "\n",
              "    [theme=dark] .colab-df-convert:hover {\n",
              "      background-color: #434B5C;\n",
              "      box-shadow: 0px 1px 3px 1px rgba(0, 0, 0, 0.15);\n",
              "      filter: drop-shadow(0px 1px 2px rgba(0, 0, 0, 0.3));\n",
              "      fill: #FFFFFF;\n",
              "    }\n",
              "  </style>\n",
              "\n",
              "      <script>\n",
              "        const buttonEl =\n",
              "          document.querySelector('#df-e912fde2-2d21-4a47-896d-ef174eef03cf button.colab-df-convert');\n",
              "        buttonEl.style.display =\n",
              "          google.colab.kernel.accessAllowed ? 'block' : 'none';\n",
              "\n",
              "        async function convertToInteractive(key) {\n",
              "          const element = document.querySelector('#df-e912fde2-2d21-4a47-896d-ef174eef03cf');\n",
              "          const dataTable =\n",
              "            await google.colab.kernel.invokeFunction('convertToInteractive',\n",
              "                                                     [key], {});\n",
              "          if (!dataTable) return;\n",
              "\n",
              "          const docLinkHtml = 'Like what you see? Visit the ' +\n",
              "            '<a target=\"_blank\" href=https://colab.research.google.com/notebooks/data_table.ipynb>data table notebook</a>'\n",
              "            + ' to learn more about interactive tables.';\n",
              "          element.innerHTML = '';\n",
              "          dataTable['output_type'] = 'display_data';\n",
              "          await google.colab.output.renderOutput(dataTable, element);\n",
              "          const docLink = document.createElement('div');\n",
              "          docLink.innerHTML = docLinkHtml;\n",
              "          element.appendChild(docLink);\n",
              "        }\n",
              "      </script>\n",
              "    </div>\n",
              "  </div>\n",
              "  "
            ]
          },
          "metadata": {},
          "execution_count": 73
        }
      ]
    },
    {
      "cell_type": "markdown",
      "source": [
        "Maka model yang akan digunakan adalah **XGBoost Regression** karena mempunyai nilai RMSE yang paling rendah"
      ],
      "metadata": {
        "id": "tilXVAM6IMWz"
      }
    },
    {
      "cell_type": "markdown",
      "source": [
        "## Uji model pada data Test"
      ],
      "metadata": {
        "id": "GqsdmSPvqGlc"
      }
    },
    {
      "cell_type": "code",
      "source": [
        "from tabulate import tabulate"
      ],
      "metadata": {
        "id": "wj6s8XGErKPV"
      },
      "execution_count": 74,
      "outputs": []
    },
    {
      "cell_type": "code",
      "source": [
        "y_pred = xgb_cv.predict(x_test)\n",
        "\n",
        "y_pred_hasil =pd.DataFrame(y_pred,columns= ['indeks_pendidikan'])\n",
        "y_test_hasil =pd.DataFrame(y_test,columns= ['indeks_pendidikan'])\n",
        "\n",
        "y_pred_inversed = scaler_target.inverse_transform(y_pred_hasil)\n",
        "y_test_inversed = scaler_target.inverse_transform(y_test_hasil)\n",
        "\n",
        "perbandingan = pd.DataFrame(np.concatenate((y_test_inversed, y_pred_inversed), axis=1) , columns = ['Aktual','Prediksi'])\n",
        "print(tabulate(perbandingan, headers = 'keys', tablefmt = 'github'))\n",
        "\n",
        "plt.figure(figsize=(10, 10))\n",
        "plt.scatter(y_test_inversed, y_pred_inversed, s=50)\n",
        "plt.title('Prediksi vs. Aktual')\n",
        "plt.xlabel('Aktual Indeks Pendidikan')\n",
        "plt.ylabel('Prediksi Indeks Pendidikan')\n",
        "\n",
        "\n",
        "plt.plot([min(y_test_inversed), max(y_pred_inversed)], [min(y_test_inversed), max(y_pred_inversed)])\n",
        "plt.tight_layout()"
      ],
      "metadata": {
        "colab": {
          "base_uri": "https://localhost:8080/",
          "height": 969
        },
        "id": "OyHQxBdgj1oZ",
        "outputId": "d17b1a0c-681b-4fc5-8c54-21c781838526"
      },
      "execution_count": 75,
      "outputs": [
        {
          "output_type": "stream",
          "name": "stdout",
          "text": [
            "|    |   Aktual |   Prediksi |\n",
            "|----|----------|------------|\n",
            "|  0 |    57.54 |    58.7805 |\n",
            "|  1 |    60.67 |    61.5712 |\n",
            "|  2 |    56.23 |    58.9091 |\n",
            "|  3 |    55.31 |    55.7895 |\n",
            "|  4 |    57.75 |    58.7141 |\n",
            "|  5 |    58.68 |    56.979  |\n",
            "|  6 |    65.46 |    65.2483 |\n",
            "|  7 |    60.33 |    60.9011 |\n",
            "|  8 |    64.52 |    64.1108 |\n",
            "|  9 |    59.48 |    58.7583 |\n",
            "| 10 |    60.01 |    62.6298 |\n"
          ]
        },
        {
          "output_type": "display_data",
          "data": {
            "text/plain": [
              "<Figure size 720x720 with 1 Axes>"
            ],
            "image/png": "[encoded data removed]"
          },
          "metadata": {
            "needs_background": "light"
          }
        }
      ]
    },
    {
      "cell_type": "markdown",
      "source": [
        "Dari grafik ini, didapat bahwa model dapat memprediksi indeks pendidikan berdasarkan model dan fitur yang digunakan"
      ],
      "metadata": {
        "id": "_uzoxhPaloU8"
      }
    },
    {
      "cell_type": "markdown",
      "source": [
        "# Feature Importance"
      ],
      "metadata": {
        "id": "Xd3cxza2Lyf5"
      }
    },
    {
      "cell_type": "markdown",
      "source": [
        "## Cek Fitur Paling Berpengaruh"
      ],
      "metadata": {
        "id": "b2OUYIfzk1m_"
      }
    },
    {
      "cell_type": "markdown",
      "source": [
        "Untuk mengetahui fitur apa yang paling berpengaruh pada indeks pendidikan\n",
        "\n",
        "Gunakan Best Model yaitu **XGBoost Regression** dan fitur terbaik pada modelling di atas"
      ],
      "metadata": {
        "id": "smKcn9RfYAsR"
      }
    },
    {
      "cell_type": "markdown",
      "source": [
        "Lakukan pengecekan pada model di data training:"
      ],
      "metadata": {
        "id": "YioAXYiygcj7"
      }
    },
    {
      "cell_type": "code",
      "source": [
        "feat_importances = xgb_cv.best_estimator_.feature_importances_"
      ],
      "metadata": {
        "id": "hC_gnB7cyccO"
      },
      "execution_count": 76,
      "outputs": []
    },
    {
      "cell_type": "code",
      "source": [
        "feat_importances"
      ],
      "metadata": {
        "colab": {
          "base_uri": "https://localhost:8080/"
        },
        "id": "CbSBWwVZrE7u",
        "outputId": "5d723321-87b4-46e5-9320-c4ce733149e0"
      },
      "execution_count": 77,
      "outputs": [
        {
          "output_type": "execute_result",
          "data": {
            "text/plain": [
              "array([0.08799516, 0.1628106 , 0.07200911, 0.02113144, 0.10367522,\n",
              "       0.02907884, 0.02328162, 0.02414695, 0.01213944, 0.02203629,\n",
              "       0.07640409, 0.11611512, 0.09660721, 0.03040238, 0.03600081,\n",
              "       0.020756  , 0.06540971], dtype=float32)"
            ]
          },
          "metadata": {},
          "execution_count": 77
        }
      ]
    },
    {
      "cell_type": "code",
      "source": [
        "x_train.columns"
      ],
      "metadata": {
        "colab": {
          "base_uri": "https://localhost:8080/"
        },
        "id": "1Ck7WpadW8kZ",
        "outputId": "e925d8cf-e703-4d57-e96a-01b740a255d3"
      },
      "execution_count": 78,
      "outputs": [
        {
          "output_type": "execute_result",
          "data": {
            "text/plain": [
              "Index(['status_kegiatan_buta_aksara', 'ketersediaan_pkbm', 'ketersediaan_tbm',\n",
              "       'jumlah_angkatan_kerja', 'kepadatan_penduduk', 'Jumlah SD',\n",
              "       'Jumlah SMP', 'Jumlah SMA', 'Jumlah SMK', 'Jumlah Guru SD',\n",
              "       'Jumlah Guru SMP', 'Jumlah Guru SMA', 'Jumlah Guru SMK',\n",
              "       'waktu_tempuh_sd_terdekat', 'waktu_tempuh_smp_terdekat',\n",
              "       'waktu_tempuh_sma_terdekat',\n",
              "       'Garis Kemiskinan Menurut Kab/Kota (Rupiah/Perkapita/Perbulan)'],\n",
              "      dtype='object')"
            ]
          },
          "metadata": {},
          "execution_count": 78
        }
      ]
    },
    {
      "cell_type": "code",
      "source": [
        "sorted_idx = feat_importances.argsort()\n",
        "plt.figure(figsize=(15,15))\n",
        "plt.barh(x_train.columns[sorted_idx], feat_importances[sorted_idx])\n",
        "plt.xlabel(\"XGBoost Feature Importance\")"
      ],
      "metadata": {
        "colab": {
          "base_uri": "https://localhost:8080/",
          "height": 895
        },
        "id": "l8-hvV0JXVFM",
        "outputId": "56edc9a0-8397-4e29-9d54-cfe6cb29c12a"
      },
      "execution_count": 79,
      "outputs": [
        {
          "output_type": "execute_result",
          "data": {
            "text/plain": [
              "Text(0.5, 0, 'XGBoost Feature Importance')"
            ]
          },
          "metadata": {},
          "execution_count": 79
        },
        {
          "output_type": "display_data",
          "data": {
            "text/plain": [
              "<Figure size 1080x1080 with 1 Axes>"
            ],
            "image/png": "[encoded data removed]"
          },
          "metadata": {
            "needs_background": "light"
          }
        }
      ]
    },
    {
      "cell_type": "markdown",
      "source": [
        "Lakukan pengecekan fitur paling berpengaruh pada model di data test:\n",
        "\n",
        "Cek dengan **SHAP Values**\n",
        "(dalam konteks ini menggunakan plots bar, yang bernilai absolut)\n",
        "\n",
        "source: https://shap.readthedocs.io/en/latest/"
      ],
      "metadata": {
        "id": "2FL6R4kmpFHb"
      }
    },
    {
      "cell_type": "code",
      "source": [
        "explainer = shap.Explainer(xgb_cv.best_estimator_.predict, x_test)\n",
        "# Calculates the SHAP values - It takes some time\n",
        "shap_values = explainer(x_test)"
      ],
      "metadata": {
        "colab": {
          "base_uri": "https://localhost:8080/"
        },
        "id": "eGx0EVFenkyK",
        "outputId": "dde501c5-9cc4-4e3b-a193-b13e83dee63d"
      },
      "execution_count": 80,
      "outputs": [
        {
          "output_type": "stream",
          "name": "stderr",
          "text": [
            "Permutation explainer: 12it [00:11,  1.41s/it]\n"
          ]
        }
      ]
    },
    {
      "cell_type": "code",
      "source": [
        "shap.plots.bar(shap_values)"
      ],
      "metadata": {
        "colab": {
          "base_uri": "https://localhost:8080/",
          "height": 418
        },
        "id": "xBEplcA7pcKB",
        "outputId": "23591787-8caa-45a9-8524-39ddba4c6fb2"
      },
      "execution_count": 81,
      "outputs": [
        {
          "output_type": "display_data",
          "data": {
            "text/plain": [
              "<Figure size 576x468 with 1 Axes>"
            ],
            "image/png": "[encoded data removed]"
          },
          "metadata": {}
        }
      ]
    },
    {
      "cell_type": "markdown",
      "source": [
        "Dapat diketahui bahwa **FITUR** yang paling berpengaruh pada **INDEKS PENDIDIKAN** adalah  **Ketersediaan Pusat Kegiatan Belajar**"
      ],
      "metadata": {
        "id": "LFcAoT3XZpvw"
      }
    },
    {
      "cell_type": "markdown",
      "source": [
        "## Sanity Check dengan model lain"
      ],
      "metadata": {
        "id": "teQt8MB2YLgc"
      }
    },
    {
      "cell_type": "markdown",
      "source": [
        "Gunakan model Adaboost untuk mengecek fitur paling berpengaruh di data training"
      ],
      "metadata": {
        "id": "4g9IFueK4AO3"
      }
    },
    {
      "cell_type": "code",
      "source": [
        "feat_importances_ada = adaboost_cv.best_estimator_.feature_importances_"
      ],
      "metadata": {
        "id": "lJRWlcX63bz9"
      },
      "execution_count": 82,
      "outputs": []
    },
    {
      "cell_type": "code",
      "source": [
        "feat_importances_ada "
      ],
      "metadata": {
        "colab": {
          "base_uri": "https://localhost:8080/"
        },
        "id": "JF__yaDZ3ycA",
        "outputId": "667db4dd-b0bc-42a6-afa4-f1cc83dd0e15"
      },
      "execution_count": 83,
      "outputs": [
        {
          "output_type": "execute_result",
          "data": {
            "text/plain": [
              "array([0.09038097, 0.34879315, 0.06103822, 0.02975788, 0.05530221,\n",
              "       0.00762494, 0.02829781, 0.01951058, 0.00872963, 0.04084854,\n",
              "       0.02423846, 0.03714467, 0.01706107, 0.0912114 , 0.01066531,\n",
              "       0.04623441, 0.08316075])"
            ]
          },
          "metadata": {},
          "execution_count": 83
        }
      ]
    },
    {
      "cell_type": "code",
      "source": [
        "x_train.columns"
      ],
      "metadata": {
        "colab": {
          "base_uri": "https://localhost:8080/"
        },
        "id": "VUTZXF3x3uHj",
        "outputId": "81cb7288-1951-4f6a-dba0-c1db0605adc0"
      },
      "execution_count": 84,
      "outputs": [
        {
          "output_type": "execute_result",
          "data": {
            "text/plain": [
              "Index(['status_kegiatan_buta_aksara', 'ketersediaan_pkbm', 'ketersediaan_tbm',\n",
              "       'jumlah_angkatan_kerja', 'kepadatan_penduduk', 'Jumlah SD',\n",
              "       'Jumlah SMP', 'Jumlah SMA', 'Jumlah SMK', 'Jumlah Guru SD',\n",
              "       'Jumlah Guru SMP', 'Jumlah Guru SMA', 'Jumlah Guru SMK',\n",
              "       'waktu_tempuh_sd_terdekat', 'waktu_tempuh_smp_terdekat',\n",
              "       'waktu_tempuh_sma_terdekat',\n",
              "       'Garis Kemiskinan Menurut Kab/Kota (Rupiah/Perkapita/Perbulan)'],\n",
              "      dtype='object')"
            ]
          },
          "metadata": {},
          "execution_count": 84
        }
      ]
    },
    {
      "cell_type": "code",
      "source": [
        "sorted_idx = feat_importances_ada.argsort()\n",
        "plt.figure(figsize=(15,15))\n",
        "plt.barh(x_train.columns[sorted_idx], feat_importances_ada[sorted_idx])\n",
        "plt.xlabel(\"Adaboost Feature Importance\")"
      ],
      "metadata": {
        "colab": {
          "base_uri": "https://localhost:8080/",
          "height": 895
        },
        "id": "BF0KWX7n3lbJ",
        "outputId": "bfa97ffa-d6e4-46fc-ca91-ef3e462f6218"
      },
      "execution_count": 85,
      "outputs": [
        {
          "output_type": "execute_result",
          "data": {
            "text/plain": [
              "Text(0.5, 0, 'Adaboost Feature Importance')"
            ]
          },
          "metadata": {},
          "execution_count": 85
        },
        {
          "output_type": "display_data",
          "data": {
            "text/plain": [
              "<Figure size 1080x1080 with 1 Axes>"
            ],
            "image/png": "[encoded data removed]"
          },
          "metadata": {
            "needs_background": "light"
          }
        }
      ]
    },
    {
      "cell_type": "markdown",
      "source": [
        "Gunakan Juga linear dengan koefisien untuk mengecek apakah memiliki trend yang sama di data training"
      ],
      "metadata": {
        "id": "TkWiNo6sP0YK"
      }
    },
    {
      "cell_type": "code",
      "source": [
        "LinearRegression_cv.best_estimator_.coef_"
      ],
      "metadata": {
        "colab": {
          "base_uri": "https://localhost:8080/"
        },
        "id": "vai4JKPA0za7",
        "outputId": "b97acca9-65a6-4867-e3f2-410370f15cf8"
      },
      "execution_count": 86,
      "outputs": [
        {
          "output_type": "execute_result",
          "data": {
            "text/plain": [
              "array([ 0.05009494, -0.54228735,  0.00917856,  0.70865699,  0.26805624,\n",
              "       -0.49070879,  0.92813779, -1.42935042, -0.05701955,  1.67593736,\n",
              "       -2.56543626,  1.35431779, -0.06539133,  0.05240592,  0.27075266,\n",
              "       -0.34508189, -0.50715011])"
            ]
          },
          "metadata": {},
          "execution_count": 86
        }
      ]
    },
    {
      "cell_type": "code",
      "source": [
        "importance = LinearRegression_cv.best_estimator_.coef_\n",
        "# summarize feature importance\n",
        "for i,v in enumerate(importance):\n",
        "\tprint('Feature:', x_train.columns[i] ,'Score:', v)\n",
        "# plot feature importance\n",
        "plt.bar([x for x in range(len(importance))], importance)\n",
        "plt.show()"
      ],
      "metadata": {
        "colab": {
          "base_uri": "https://localhost:8080/",
          "height": 579
        },
        "id": "4XVO_0P403ik",
        "outputId": "d3d86e30-3bef-4505-bdaa-57f7b35098a8"
      },
      "execution_count": 87,
      "outputs": [
        {
          "output_type": "stream",
          "name": "stdout",
          "text": [
            "Feature: status_kegiatan_buta_aksara Score: 0.05009494461890064\n",
            "Feature: ketersediaan_pkbm Score: -0.5422873485683015\n",
            "Feature: ketersediaan_tbm Score: 0.009178556372304235\n",
            "Feature: jumlah_angkatan_kerja Score: 0.7086569920863768\n",
            "Feature: kepadatan_penduduk Score: 0.2680562430557325\n",
            "Feature: Jumlah SD Score: -0.49070879035639825\n",
            "Feature: Jumlah SMP Score: 0.9281377887085833\n",
            "Feature: Jumlah SMA Score: -1.4293504225708529\n",
            "Feature: Jumlah SMK Score: -0.057019547987294576\n",
            "Feature: Jumlah Guru SD Score: 1.675937356641375\n",
            "Feature: Jumlah Guru SMP Score: -2.565436259577361\n",
            "Feature: Jumlah Guru SMA Score: 1.3543177858607456\n",
            "Feature: Jumlah Guru SMK Score: -0.06539132559138697\n",
            "Feature: waktu_tempuh_sd_terdekat Score: 0.052405919376205055\n",
            "Feature: waktu_tempuh_smp_terdekat Score: 0.27075265924317937\n",
            "Feature: waktu_tempuh_sma_terdekat Score: -0.3450818930910739\n",
            "Feature: Garis Kemiskinan Menurut Kab/Kota (Rupiah/Perkapita/Perbulan) Score: -0.5071501146450536\n"
          ]
        },
        {
          "output_type": "display_data",
          "data": {
            "text/plain": [
              "<Figure size 432x288 with 1 Axes>"
            ],
            "image/png": "[encoded data removed]"
          },
          "metadata": {
            "needs_background": "light"
          }
        }
      ]
    },
    {
      "cell_type": "markdown",
      "source": [
        "Dapat diketahui bahwa koefisien Adaboost yang paling berpengaruh pada **INDEKS PENDIDIKAN** adalah ketersediaan_pkbm atau **Ketersediaan Pusat Kegiatan Belajar**\n",
        "\n",
        "Cocok dengan model awal yaitu XGBoost\n",
        "\n",
        "Pada linear regression, fitur paling berpengaruh adalah Jumlah Guru SMP, namun karena rmse nya terlalu tinggi dan r2 score terlalu rendah, maka diasumsikan bahwa linear regression kurang tepat memperediksi model"
      ],
      "metadata": {
        "id": "e7GxeMfKRByI"
      }
    },
    {
      "cell_type": "markdown",
      "source": [
        "## Cek pengaruh positif/negatif dari Fitur paling berpengaruh"
      ],
      "metadata": {
        "id": "pUKaIYxiLYzN"
      }
    },
    {
      "cell_type": "markdown",
      "source": [
        "#### **Menggunakan Correlation**"
      ],
      "metadata": {
        "id": "SPZG7li6rew_"
      }
    },
    {
      "cell_type": "code",
      "source": [
        "#Loaddataset\n",
        "cek_data = df_ready.copy()"
      ],
      "metadata": {
        "id": "0pPoHwOiLqTK"
      },
      "execution_count": 88,
      "outputs": []
    },
    {
      "cell_type": "code",
      "source": [
        "df_ready.head(10)"
      ],
      "metadata": {
        "colab": {
          "base_uri": "https://localhost:8080/",
          "height": 461
        },
        "id": "0Y2BEFOXOmkg",
        "outputId": "64bec074-fcd7-49f4-80ce-3f8c21fc5a1b"
      },
      "execution_count": 89,
      "outputs": [
        {
          "output_type": "execute_result",
          "data": {
            "text/plain": [
              "   indeks_pendidikan  status_kegiatan_buta_aksara  ketersediaan_pkbm  \\\n",
              "0           0.552535                    -0.871350           0.620942   \n",
              "1          -0.842796                     0.198639           0.765471   \n",
              "2          -1.077710                     0.438382           0.596853   \n",
              "3           1.189349                    -0.416282          -0.499162   \n",
              "4          -0.692791                     0.670573           1.355633   \n",
              "5          -0.463538                     1.246479           0.825692   \n",
              "6           1.025193                     0.065709          -0.246235   \n",
              "7          -0.596562                     1.481559           1.451986   \n",
              "8          -1.117334                     0.593965           1.524251   \n",
              "9          -0.783360                     1.283335           1.030442   \n",
              "\n",
              "   ketersediaan_tbm  jumlah_angkatan_kerja  kepadatan_penduduk  Jumlah SD  \\\n",
              "0          2.389758               2.950581            0.873382   2.174592   \n",
              "1         -0.422508               0.153366           -1.134453   0.673884   \n",
              "2          0.875461               0.087194           -1.175686   0.784230   \n",
              "3         -0.307133               1.267355            1.366377   1.152051   \n",
              "4          1.452336               0.210886           -0.913950   1.588531   \n",
              "5          0.298586              -0.270346           -0.983866   0.367367   \n",
              "6         -0.364820              -0.676645           -0.657593  -0.468812   \n",
              "7          1.351383              -0.882294           -0.356417  -0.696861   \n",
              "8          1.668664               0.059983            1.741053  -0.037236   \n",
              "9          1.697508              -0.671662           -0.299051  -0.660079   \n",
              "\n",
              "   Jumlah SMP  Jumlah SMA  Jumlah SMK  Jumlah Guru SD  Jumlah Guru SMP  \\\n",
              "0    2.917622    2.596040    0.606419        2.305396         2.725874   \n",
              "1    0.593281    0.274345    0.943108        0.016647         0.224466   \n",
              "2    0.489977    0.583904    0.299008        0.546941         0.426160   \n",
              "3    0.541629    0.937686    0.884553        1.310174         1.301503   \n",
              "4    0.922563    1.291469    0.255092        0.723072         0.902118   \n",
              "5    0.134869    0.031120   -0.725697       -0.200129         0.137883   \n",
              "6   -0.756128   -0.853336   -1.091663       -0.683122        -0.652378   \n",
              "7   -0.872345   -0.831224   -0.154790       -0.671237        -0.606834   \n",
              "8   -0.329999   -0.411108   -0.915999       -0.009024         0.423658   \n",
              "9   -0.865889   -0.963893   -0.418286       -0.692867        -0.689414   \n",
              "\n",
              "   Jumlah Guru SMA  Jumlah Guru SMK  waktu_tempuh_sd_terdekat  \\\n",
              "0         2.531066         2.680026                  0.885665   \n",
              "1         0.196944        -0.218177                  1.302698   \n",
              "2         0.083234         0.665672                  1.024091   \n",
              "3         1.489331         0.496564                  0.042420   \n",
              "4         1.475881         1.068356                  1.256190   \n",
              "5        -0.152746         0.297558                  0.268992   \n",
              "6        -0.617370        -0.798378                 -0.206310   \n",
              "7        -0.364272        -0.506876                  0.295929   \n",
              "8        -0.106284         0.348010                  0.201752   \n",
              "9        -0.654050        -0.684393                 -0.824354   \n",
              "\n",
              "   waktu_tempuh_smp_terdekat  waktu_tempuh_sma_terdekat  \\\n",
              "0                   0.406165                   0.065355   \n",
              "1                   1.256424                   1.079329   \n",
              "2                   1.293631                   0.748081   \n",
              "3                   0.475415                   0.994145   \n",
              "4                   0.977510                   0.354004   \n",
              "5                   0.167689                   0.157892   \n",
              "6                  -0.354537                  -0.557997   \n",
              "7                   0.069989                   0.795253   \n",
              "8                  -0.265250                  -1.071365   \n",
              "9                  -0.607386                  -0.187503   \n",
              "\n",
              "   Garis Kemiskinan Menurut Kab/Kota (Rupiah/Perkapita/Perbulan)  \n",
              "0                                          -0.174674              \n",
              "1                                          -1.292833              \n",
              "2                                          -0.576422              \n",
              "3                                          -0.673776              \n",
              "4                                          -1.440601              \n",
              "5                                          -1.254959              \n",
              "6                                          -0.349905              \n",
              "7                                          -0.750537              \n",
              "8                                          -0.042618              \n",
              "9                                           1.070119              "
            ],
            "text/html": [
              "\n",
              "  <div id=\"df-447d96e6-4225-42be-910b-2ab4ba29c9ea\">\n",
              "    <div class=\"colab-df-container\">\n",
              "      <div>\n",
              "<style scoped>\n",
              "    .dataframe tbody tr th:only-of-type {\n",
              "        vertical-align: middle;\n",
              "    }\n",
              "\n",
              "    .dataframe tbody tr th {\n",
              "        vertical-align: top;\n",
              "    }\n",
              "\n",
              "    .dataframe thead th {\n",
              "        text-align: right;\n",
              "    }\n",
              "</style>\n",
              "<table border=\"1\" class=\"dataframe\">\n",
              "  <thead>\n",
              "    <tr style=\"text-align: right;\">\n",
              "      <th></th>\n",
              "      <th>indeks_pendidikan</th>\n",
              "      <th>status_kegiatan_buta_aksara</th>\n",
              "      <th>ketersediaan_pkbm</th>\n",
              "      <th>ketersediaan_tbm</th>\n",
              "      <th>jumlah_angkatan_kerja</th>\n",
              "      <th>kepadatan_penduduk</th>\n",
              "      <th>Jumlah SD</th>\n",
              "      <th>Jumlah SMP</th>\n",
              "      <th>Jumlah SMA</th>\n",
              "      <th>Jumlah SMK</th>\n",
              "      <th>Jumlah Guru SD</th>\n",
              "      <th>Jumlah Guru SMP</th>\n",
              "      <th>Jumlah Guru SMA</th>\n",
              "      <th>Jumlah Guru SMK</th>\n",
              "      <th>waktu_tempuh_sd_terdekat</th>\n",
              "      <th>waktu_tempuh_smp_terdekat</th>\n",
              "      <th>waktu_tempuh_sma_terdekat</th>\n",
              "      <th>Garis Kemiskinan Menurut Kab/Kota (Rupiah/Perkapita/Perbulan)</th>\n",
              "    </tr>\n",
              "  </thead>\n",
              "  <tbody>\n",
              "    <tr>\n",
              "      <th>0</th>\n",
              "      <td>0.552535</td>\n",
              "      <td>-0.871350</td>\n",
              "      <td>0.620942</td>\n",
              "      <td>2.389758</td>\n",
              "      <td>2.950581</td>\n",
              "      <td>0.873382</td>\n",
              "      <td>2.174592</td>\n",
              "      <td>2.917622</td>\n",
              "      <td>2.596040</td>\n",
              "      <td>0.606419</td>\n",
              "      <td>2.305396</td>\n",
              "      <td>2.725874</td>\n",
              "      <td>2.531066</td>\n",
              "      <td>2.680026</td>\n",
              "      <td>0.885665</td>\n",
              "      <td>0.406165</td>\n",
              "      <td>0.065355</td>\n",
              "      <td>-0.174674</td>\n",
              "    </tr>\n",
              "    <tr>\n",
              "      <th>1</th>\n",
              "      <td>-0.842796</td>\n",
              "      <td>0.198639</td>\n",
              "      <td>0.765471</td>\n",
              "      <td>-0.422508</td>\n",
              "      <td>0.153366</td>\n",
              "      <td>-1.134453</td>\n",
              "      <td>0.673884</td>\n",
              "      <td>0.593281</td>\n",
              "      <td>0.274345</td>\n",
              "      <td>0.943108</td>\n",
              "      <td>0.016647</td>\n",
              "      <td>0.224466</td>\n",
              "      <td>0.196944</td>\n",
              "      <td>-0.218177</td>\n",
              "      <td>1.302698</td>\n",
              "      <td>1.256424</td>\n",
              "      <td>1.079329</td>\n",
              "      <td>-1.292833</td>\n",
              "    </tr>\n",
              "    <tr>\n",
              "      <th>2</th>\n",
              "      <td>-1.077710</td>\n",
              "      <td>0.438382</td>\n",
              "      <td>0.596853</td>\n",
              "      <td>0.875461</td>\n",
              "      <td>0.087194</td>\n",
              "      <td>-1.175686</td>\n",
              "      <td>0.784230</td>\n",
              "      <td>0.489977</td>\n",
              "      <td>0.583904</td>\n",
              "      <td>0.299008</td>\n",
              "      <td>0.546941</td>\n",
              "      <td>0.426160</td>\n",
              "      <td>0.083234</td>\n",
              "      <td>0.665672</td>\n",
              "      <td>1.024091</td>\n",
              "      <td>1.293631</td>\n",
              "      <td>0.748081</td>\n",
              "      <td>-0.576422</td>\n",
              "    </tr>\n",
              "    <tr>\n",
              "      <th>3</th>\n",
              "      <td>1.189349</td>\n",
              "      <td>-0.416282</td>\n",
              "      <td>-0.499162</td>\n",
              "      <td>-0.307133</td>\n",
              "      <td>1.267355</td>\n",
              "      <td>1.366377</td>\n",
              "      <td>1.152051</td>\n",
              "      <td>0.541629</td>\n",
              "      <td>0.937686</td>\n",
              "      <td>0.884553</td>\n",
              "      <td>1.310174</td>\n",
              "      <td>1.301503</td>\n",
              "      <td>1.489331</td>\n",
              "      <td>0.496564</td>\n",
              "      <td>0.042420</td>\n",
              "      <td>0.475415</td>\n",
              "      <td>0.994145</td>\n",
              "      <td>-0.673776</td>\n",
              "    </tr>\n",
              "    <tr>\n",
              "      <th>4</th>\n",
              "      <td>-0.692791</td>\n",
              "      <td>0.670573</td>\n",
              "      <td>1.355633</td>\n",
              "      <td>1.452336</td>\n",
              "      <td>0.210886</td>\n",
              "      <td>-0.913950</td>\n",
              "      <td>1.588531</td>\n",
              "      <td>0.922563</td>\n",
              "      <td>1.291469</td>\n",
              "      <td>0.255092</td>\n",
              "      <td>0.723072</td>\n",
              "      <td>0.902118</td>\n",
              "      <td>1.475881</td>\n",
              "      <td>1.068356</td>\n",
              "      <td>1.256190</td>\n",
              "      <td>0.977510</td>\n",
              "      <td>0.354004</td>\n",
              "      <td>-1.440601</td>\n",
              "    </tr>\n",
              "    <tr>\n",
              "      <th>5</th>\n",
              "      <td>-0.463538</td>\n",
              "      <td>1.246479</td>\n",
              "      <td>0.825692</td>\n",
              "      <td>0.298586</td>\n",
              "      <td>-0.270346</td>\n",
              "      <td>-0.983866</td>\n",
              "      <td>0.367367</td>\n",
              "      <td>0.134869</td>\n",
              "      <td>0.031120</td>\n",
              "      <td>-0.725697</td>\n",
              "      <td>-0.200129</td>\n",
              "      <td>0.137883</td>\n",
              "      <td>-0.152746</td>\n",
              "      <td>0.297558</td>\n",
              "      <td>0.268992</td>\n",
              "      <td>0.167689</td>\n",
              "      <td>0.157892</td>\n",
              "      <td>-1.254959</td>\n",
              "    </tr>\n",
              "    <tr>\n",
              "      <th>6</th>\n",
              "      <td>1.025193</td>\n",
              "      <td>0.065709</td>\n",
              "      <td>-0.246235</td>\n",
              "      <td>-0.364820</td>\n",
              "      <td>-0.676645</td>\n",
              "      <td>-0.657593</td>\n",
              "      <td>-0.468812</td>\n",
              "      <td>-0.756128</td>\n",
              "      <td>-0.853336</td>\n",
              "      <td>-1.091663</td>\n",
              "      <td>-0.683122</td>\n",
              "      <td>-0.652378</td>\n",
              "      <td>-0.617370</td>\n",
              "      <td>-0.798378</td>\n",
              "      <td>-0.206310</td>\n",
              "      <td>-0.354537</td>\n",
              "      <td>-0.557997</td>\n",
              "      <td>-0.349905</td>\n",
              "    </tr>\n",
              "    <tr>\n",
              "      <th>7</th>\n",
              "      <td>-0.596562</td>\n",
              "      <td>1.481559</td>\n",
              "      <td>1.451986</td>\n",
              "      <td>1.351383</td>\n",
              "      <td>-0.882294</td>\n",
              "      <td>-0.356417</td>\n",
              "      <td>-0.696861</td>\n",
              "      <td>-0.872345</td>\n",
              "      <td>-0.831224</td>\n",
              "      <td>-0.154790</td>\n",
              "      <td>-0.671237</td>\n",
              "      <td>-0.606834</td>\n",
              "      <td>-0.364272</td>\n",
              "      <td>-0.506876</td>\n",
              "      <td>0.295929</td>\n",
              "      <td>0.069989</td>\n",
              "      <td>0.795253</td>\n",
              "      <td>-0.750537</td>\n",
              "    </tr>\n",
              "    <tr>\n",
              "      <th>8</th>\n",
              "      <td>-1.117334</td>\n",
              "      <td>0.593965</td>\n",
              "      <td>1.524251</td>\n",
              "      <td>1.668664</td>\n",
              "      <td>0.059983</td>\n",
              "      <td>1.741053</td>\n",
              "      <td>-0.037236</td>\n",
              "      <td>-0.329999</td>\n",
              "      <td>-0.411108</td>\n",
              "      <td>-0.915999</td>\n",
              "      <td>-0.009024</td>\n",
              "      <td>0.423658</td>\n",
              "      <td>-0.106284</td>\n",
              "      <td>0.348010</td>\n",
              "      <td>0.201752</td>\n",
              "      <td>-0.265250</td>\n",
              "      <td>-1.071365</td>\n",
              "      <td>-0.042618</td>\n",
              "    </tr>\n",
              "    <tr>\n",
              "      <th>9</th>\n",
              "      <td>-0.783360</td>\n",
              "      <td>1.283335</td>\n",
              "      <td>1.030442</td>\n",
              "      <td>1.697508</td>\n",
              "      <td>-0.671662</td>\n",
              "      <td>-0.299051</td>\n",
              "      <td>-0.660079</td>\n",
              "      <td>-0.865889</td>\n",
              "      <td>-0.963893</td>\n",
              "      <td>-0.418286</td>\n",
              "      <td>-0.692867</td>\n",
              "      <td>-0.689414</td>\n",
              "      <td>-0.654050</td>\n",
              "      <td>-0.684393</td>\n",
              "      <td>-0.824354</td>\n",
              "      <td>-0.607386</td>\n",
              "      <td>-0.187503</td>\n",
              "      <td>1.070119</td>\n",
              "    </tr>\n",
              "  </tbody>\n",
              "</table>\n",
              "</div>\n",
              "      <button class=\"colab-df-convert\" onclick=\"convertToInteractive('df-447d96e6-4225-42be-910b-2ab4ba29c9ea')\"\n",
              "              title=\"Convert this dataframe to an interactive table.\"\n",
              "              style=\"display:none;\">\n",
              "        \n",
              "  <svg xmlns=\"http://www.w3.org/2000/svg\" height=\"24px\"viewBox=\"0 0 24 24\"\n",
              "       width=\"24px\">\n",
              "    <path d=\"M0 0h24v24H0V0z\" fill=\"none\"/>\n",
              "    <path d=\"M18.56 5.44l.94 2.06.94-2.06 2.06-.94-2.06-.94-.94-2.06-.94 2.06-2.06.94zm-11 1L8.5 8.5l.94-2.06 2.06-.94-2.06-.94L8.5 2.5l-.94 2.06-2.06.94zm10 10l.94 2.06.94-2.06 2.06-.94-2.06-.94-.94-2.06-.94 2.06-2.06.94z\"/><path d=\"M17.41 7.96l-1.37-1.37c-.4-.4-.92-.59-1.43-.59-.52 0-1.04.2-1.43.59L10.3 9.45l-7.72 7.72c-.78.78-.78 2.05 0 2.83L4 21.41c.39.39.9.59 1.41.59.51 0 1.02-.2 1.41-.59l7.78-7.78 2.81-2.81c.8-.78.8-2.07 0-2.86zM5.41 20L4 18.59l7.72-7.72 1.47 1.35L5.41 20z\"/>\n",
              "  </svg>\n",
              "      </button>\n",
              "      \n",
              "  <style>\n",
              "    .colab-df-container {\n",
              "      display:flex;\n",
              "      flex-wrap:wrap;\n",
              "      gap: 12px;\n",
              "    }\n",
              "\n",
              "    .colab-df-convert {\n",
              "      background-color: #E8F0FE;\n",
              "      border: none;\n",
              "      border-radius: 50%;\n",
              "      cursor: pointer;\n",
              "      display: none;\n",
              "      fill: #1967D2;\n",
              "      height: 32px;\n",
              "      padding: 0 0 0 0;\n",
              "      width: 32px;\n",
              "    }\n",
              "\n",
              "    .colab-df-convert:hover {\n",
              "      background-color: #E2EBFA;\n",
              "      box-shadow: 0px 1px 2px rgba(60, 64, 67, 0.3), 0px 1px 3px 1px rgba(60, 64, 67, 0.15);\n",
              "      fill: #174EA6;\n",
              "    }\n",
              "\n",
              "    [theme=dark] .colab-df-convert {\n",
              "      background-color: #3B4455;\n",
              "      fill: #D2E3FC;\n",
              "    }\n",
              "\n",
              "    [theme=dark] .colab-df-convert:hover {\n",
              "      background-color: #434B5C;\n",
              "      box-shadow: 0px 1px 3px 1px rgba(0, 0, 0, 0.15);\n",
              "      filter: drop-shadow(0px 1px 2px rgba(0, 0, 0, 0.3));\n",
              "      fill: #FFFFFF;\n",
              "    }\n",
              "  </style>\n",
              "\n",
              "      <script>\n",
              "        const buttonEl =\n",
              "          document.querySelector('#df-447d96e6-4225-42be-910b-2ab4ba29c9ea button.colab-df-convert');\n",
              "        buttonEl.style.display =\n",
              "          google.colab.kernel.accessAllowed ? 'block' : 'none';\n",
              "\n",
              "        async function convertToInteractive(key) {\n",
              "          const element = document.querySelector('#df-447d96e6-4225-42be-910b-2ab4ba29c9ea');\n",
              "          const dataTable =\n",
              "            await google.colab.kernel.invokeFunction('convertToInteractive',\n",
              "                                                     [key], {});\n",
              "          if (!dataTable) return;\n",
              "\n",
              "          const docLinkHtml = 'Like what you see? Visit the ' +\n",
              "            '<a target=\"_blank\" href=https://colab.research.google.com/notebooks/data_table.ipynb>data table notebook</a>'\n",
              "            + ' to learn more about interactive tables.';\n",
              "          element.innerHTML = '';\n",
              "          dataTable['output_type'] = 'display_data';\n",
              "          await google.colab.output.renderOutput(dataTable, element);\n",
              "          const docLink = document.createElement('div');\n",
              "          docLink.innerHTML = docLinkHtml;\n",
              "          element.appendChild(docLink);\n",
              "        }\n",
              "      </script>\n",
              "    </div>\n",
              "  </div>\n",
              "  "
            ]
          },
          "metadata": {},
          "execution_count": 89
        }
      ]
    },
    {
      "cell_type": "code",
      "source": [
        "cols= ['indeks_pendidikan',\n",
        "       'status_kegiatan_buta_aksara', 'ketersediaan_pkbm', 'ketersediaan_tbm',\n",
        "       'jumlah_angkatan_kerja', 'kepadatan_penduduk', 'Jumlah SD',\n",
        "       'Jumlah SMP', 'Jumlah SMA', 'Jumlah SMK', 'Jumlah Guru SD',\n",
        "       'Jumlah Guru SMP', 'Jumlah Guru SMA', 'Jumlah Guru SMK',\n",
        "       'waktu_tempuh_sd_terdekat', 'waktu_tempuh_smp_terdekat',\n",
        "       'waktu_tempuh_sma_terdekat',\n",
        "       'Garis Kemiskinan Menurut Kab/Kota (Rupiah/Perkapita/Perbulan)']\n",
        "corr = cek_data[cols].corr()\n",
        "plt.figure(figsize=(12, 10))\n",
        "\n",
        "sns.heatmap(corr[(corr >= 0.1) | (corr <= -0.1)], \n",
        "            cmap='viridis', vmax=1.0, vmin=-1.0, linewidths=0.1,\n",
        "            annot=True, annot_kws={\"size\": 8}, square=True);\n",
        "plt.show()"
      ],
      "metadata": {
        "colab": {
          "base_uri": "https://localhost:8080/",
          "height": 903
        },
        "id": "C_hADc2EMR2m",
        "outputId": "842d3435-50b9-485c-e6e1-19298f302f3e"
      },
      "execution_count": 90,
      "outputs": [
        {
          "output_type": "display_data",
          "data": {
            "text/plain": [
              "<Figure size 864x720 with 2 Axes>"
            ],
            "image/png": "[encoded data removed]"
          },
          "metadata": {
            "needs_background": "light"
          }
        }
      ]
    },
    {
      "cell_type": "code",
      "source": [
        "cek_data.plot(kind='scatter', x='ketersediaan_pkbm', y='indeks_pendidikan')"
      ],
      "metadata": {
        "colab": {
          "base_uri": "https://localhost:8080/",
          "height": 298
        },
        "id": "azfc5S9CLuCF",
        "outputId": "b06c12e7-87c6-47c9-b2b1-4eb41d3d9318"
      },
      "execution_count": 91,
      "outputs": [
        {
          "output_type": "execute_result",
          "data": {
            "text/plain": [
              "<matplotlib.axes._subplots.AxesSubplot at 0x7feea0949e80>"
            ]
          },
          "metadata": {},
          "execution_count": 91
        },
        {
          "output_type": "display_data",
          "data": {
            "text/plain": [
              "<Figure size 432x288 with 1 Axes>"
            ],
            "image/png": "[encoded data removed]"
          },
          "metadata": {
            "needs_background": "light"
          }
        }
      ]
    },
    {
      "cell_type": "code",
      "source": [
        "cols_1= [\n",
        "       'indeks_pendidikan', 'ketersediaan_pkbm']\n",
        "corr = cek_data[cols_1].corr()\n",
        "plt.figure(figsize=(5, 5))\n",
        "\n",
        "sns.heatmap(corr, \n",
        "            cmap='viridis', vmax=1.0, vmin=-1.0, linewidths=0.1,\n",
        "            annot=True, annot_kws={\"size\": 8}, square=True);\n",
        "plt.show()"
      ],
      "metadata": {
        "colab": {
          "base_uri": "https://localhost:8080/",
          "height": 313
        },
        "id": "s6pVdAbgL9GR",
        "outputId": "4d08fb54-c31f-4e33-a35b-2b4758da2632"
      },
      "execution_count": 92,
      "outputs": [
        {
          "output_type": "display_data",
          "data": {
            "text/plain": [
              "<Figure size 360x360 with 2 Axes>"
            ],
            "image/png": "[encoded data removed]"
          },
          "metadata": {
            "needs_background": "light"
          }
        }
      ]
    },
    {
      "cell_type": "markdown",
      "source": [
        "Terlihat memang terdapat trend ketersediaan pusat kegiatan belajar terhadap nilai indeks pendidikan, namun korelasi yang negatif menandakan bahwa semakin **meningkatnya jumlah pusat kegiatan belajar**, membuat **indeks pendidikan menurun**"
      ],
      "metadata": {
        "id": "CwbtHirWLXSn"
      }
    },
    {
      "cell_type": "code",
      "source": [
        "cols_2= ['indeks_pendidikan',\n",
        "       'jumlah_angkatan_kerja', 'kepadatan_penduduk', 'Jumlah Guru SMA', \n",
        "       'Garis Kemiskinan Menurut Kab/Kota (Rupiah/Perkapita/Perbulan)']\n",
        "corr = cek_data[cols_2].corr()\n",
        "plt.figure(figsize=(5, 5))\n",
        "\n",
        "sns.heatmap(corr, \n",
        "            cmap='viridis', vmax=1.0, vmin=-1.0, linewidths=0.1,\n",
        "            annot=True, annot_kws={\"size\": 8}, square=True);\n",
        "plt.show()"
      ],
      "metadata": {
        "colab": {
          "base_uri": "https://localhost:8080/",
          "height": 611
        },
        "id": "H3lDYJesSIy-",
        "outputId": "edf7afb0-7f64-4aa8-dbc0-f673d8573dfc"
      },
      "execution_count": 93,
      "outputs": [
        {
          "output_type": "display_data",
          "data": {
            "text/plain": [
              "<Figure size 360x360 with 2 Axes>"
            ],
            "image/png": "[encoded data removed]"
          },
          "metadata": {
            "needs_background": "light"
          }
        }
      ]
    },
    {
      "cell_type": "markdown",
      "source": [
        "Sedangkan terdapat korelasi yang **positif** antara **indeks pendidikan** terhadap **kepadatan penduduk, Jumlah angkatan Kerja, Jumlah Guru SMA, dan Garis kemiskinan (rupiah/perkapita/perbulan)**"
      ],
      "metadata": {
        "id": "PpNLGCcMSUxa"
      }
    },
    {
      "cell_type": "markdown",
      "source": [
        "#### **Menggunakan SHAP Values**"
      ],
      "metadata": {
        "id": "9Skn1LUBrimf"
      }
    },
    {
      "cell_type": "markdown",
      "source": [
        "Menggunakan Shap values untuk mengecek **impact tiap fitur**, dengan melakukan terhadap data test"
      ],
      "metadata": {
        "id": "DgvhjWqqj7P3"
      }
    },
    {
      "cell_type": "code",
      "source": [
        "shap.summary_plot(shap_values, plot_type='violin')"
      ],
      "metadata": {
        "colab": {
          "base_uri": "https://localhost:8080/",
          "height": 607
        },
        "id": "pELcuYAXnVLg",
        "outputId": "036877b7-331e-429a-acf9-49092cf5c143"
      },
      "execution_count": 94,
      "outputs": [
        {
          "output_type": "display_data",
          "data": {
            "text/plain": [
              "<Figure size 576x597.6 with 2 Axes>"
            ],
            "image/png": "[encoded data removed]"
          },
          "metadata": {
            "needs_background": "light"
          }
        }
      ]
    },
    {
      "cell_type": "code",
      "source": [
        "shap.plots.beeswarm(shap_values,max_display=30)"
      ],
      "metadata": {
        "colab": {
          "base_uri": "https://localhost:8080/",
          "height": 520
        },
        "id": "hXuWDUcUnMOA",
        "outputId": "21205bb3-4532-400e-f4b1-a9fe8c5e341a"
      },
      "execution_count": 95,
      "outputs": [
        {
          "output_type": "display_data",
          "data": {
            "text/plain": [
              "<Figure size 576x597.6 with 2 Axes>"
            ],
            "image/png": "[encoded data removed]"
          },
          "metadata": {
            "needs_background": "light"
          }
        }
      ]
    },
    {
      "cell_type": "markdown",
      "source": [
        "Dalam penggunaan summary plot & beeswarm, diketahui bahwa urutan dari paling atas ke paling bawah menunjukkan impactnya, dengan fitur paling atas menyatakan paling berpengaruh\n",
        "\n",
        "Dapat terlihat bahwa ketersediaan_pkbm atau **Ketersediaan Pusat Kegiatan Belajar**, mempunyai pengaruh paling tinggi, namun **impact** on model output cenderung ke arah **negatif**, menandakan bahwa fitur ini berimpact negatif terhadap indeks pendidikan"
      ],
      "metadata": {
        "id": "k2OexeK_hqwg"
      }
    },
    {
      "cell_type": "code",
      "source": [
        "shap.plots.bar(shap_values[0],max_display=30 )"
      ],
      "metadata": {
        "colab": {
          "base_uri": "https://localhost:8080/",
          "height": 609
        },
        "id": "6-8k8-9PoLPX",
        "outputId": "3da69be0-1977-4de4-e36b-2afa159c8a85"
      },
      "execution_count": 96,
      "outputs": [
        {
          "output_type": "display_data",
          "data": {
            "text/plain": [
              "<Figure size 576x720 with 1 Axes>"
            ],
            "image/png": "[encoded data removed]"
          },
          "metadata": {}
        }
      ]
    },
    {
      "cell_type": "markdown",
      "source": [
        "Dalam penggunaan Local bar (plots bar), pengaruh fitur lebih dijabarkan dalam bentuk angka dan dapat terlihat magnitudo maupun impact tiap fitur ketika sudah mempertimbangkan semua fitur\n",
        "\n",
        "Dapat terlihat bahwa ketersediaan_pkbm atau Ketersediaan Pusat Kegiatan Belajar, memberikan impact yang paling negatif, di angka -0.61, sedangkan fitur yang memberikan nilai positif adalah:"
      ],
      "metadata": {
        "id": "ocB_FQEriV1w"
      }
    },
    {
      "cell_type": "markdown",
      "source": [
        "1. Ketersediaan tbm (+0.09)\n",
        "2. Jumlah SMK (+0.08)\n",
        "3. Jumlah SMP (+0.06)\n"
      ],
      "metadata": {
        "id": "PrZ4n6Ffit9Z"
      }
    },
    {
      "cell_type": "markdown",
      "source": [
        "# Kesimpulan"
      ],
      "metadata": {
        "id": "XSX30NPGdjOM"
      }
    },
    {
      "cell_type": "markdown",
      "source": [
        "Kesimpulan:\n",
        "\n",
        "1. Model terbaik untuk prediksi ini adalah **XGBoost** dengan metric RMSE 0.25 dan R2 Score 0.94. Metrik RMSE ini paling kecil dibandingkan dengan model lainnya\n",
        "\n",
        "2. Model lain yang digunakan adalah Linear Regression, Lasso, Ridge, Bayesian Ridge, Elastic Net, Huber Regression, Random Forest, Decision Tree, support vector, SGD, gradient boosting, kneighbors dan Adaboost\n",
        "\n",
        "3. Fitur paling berpengaruh adalah **jumlah kegiatan pusat belajar**. namun fitur ini mempunyai **impact negatif**, sehingga semakin banyak kegiatan pusat belajar, maka semakin turun nilai indeks pendidikan\n",
        "\n",
        "4. Fitur yang dapat sekiranya dapat dikontrol oleh pemerintah dan mempunyai dampak positif berdasarkan modelling ini adalah, dengan meningkatkan **Jumlah Perpustakaan** & **Meningkatkan jumlah sekolah secara overall**\n",
        "\n",
        "5. Asumsi kasar yang dapat diambil adalah, dengan banyaknya kegiatan pusat belajar, maka siswa hanya mengandalkan ilmu yang didapat secara otodidak, bukan melalui instansi pendidikan seperti sekolah, untuk nantinya mempersiapkan diri bekerja"
      ],
      "metadata": {
        "id": "eG3FZx_-dlAG"
      }
    },
    {
      "cell_type": "markdown",
      "source": [
        "## Save Model"
      ],
      "metadata": {
        "id": "o9rIH-KWmMwB"
      }
    },
    {
      "cell_type": "markdown",
      "source": [
        "Simpan berbagai macam model dalam folder model"
      ],
      "metadata": {
        "id": "Gju_e6avZqPK"
      }
    },
    {
      "cell_type": "code",
      "source": [
        "pickle.dump(LinearRegression_cv, open(\"/content/drive/MyDrive/DatasetHackathon/Model/LinearRegression_cv.pkl\", 'wb'))\n",
        "pickle.dump(lasso_cv, open(\"/content/drive/MyDrive/DatasetHackathon/Model/lasso_cv.pkl\", 'wb'))\n",
        "pickle.dump(Ridge_cv, open(\"/content/drive/MyDrive/DatasetHackathon/Model/Ridge_cv.pkl\", 'wb'))\n",
        "pickle.dump(bayesreg_cv, open(\"/content/drive/MyDrive/DatasetHackathon/Model/bayesreg_cv.pkl\", 'wb'))\n",
        "pickle.dump(elasticnet_cv, open(\"/content/drive/MyDrive/DatasetHackathon/Model/elasticnet_cv.pkl\", 'wb'))\n",
        "pickle.dump(huber_cv, open(\"/content/drive/MyDrive/DatasetHackathon/Model/huber_cv.pkl\", 'wb'))\n",
        "pickle.dump(rf_cv, open(\"/content/drive/MyDrive/DatasetHackathon/Model/rf_cv.pkl\", 'wb'))\n",
        "\n",
        "pickle.dump(decisiontree_cv, open(\"/content/drive/MyDrive/DatasetHackathon/Model/decisiontree_cv.pkl\", 'wb'))\n",
        "pickle.dump(svr_cv, open(\"/content/drive/MyDrive/DatasetHackathon/Model/svr_cv.pkl\", 'wb'))\n",
        "pickle.dump(gradientdescent_cv, open(\"/content/drive/MyDrive/DatasetHackathon/Model/gradientdescent_cv.pkl\", 'wb'))\n",
        "pickle.dump(GBR_cv, open(\"/content/drive/MyDrive/DatasetHackathon/Model/GBR_cv.pkl\", 'wb'))\n",
        "\n",
        "pickle.dump(knnreg_cv, open(\"/content/drive/MyDrive/DatasetHackathon/Model/knnreg_cv.pkl\", 'wb'))\n",
        "pickle.dump(adaboost_cv, open(\"/content/drive/MyDrive/DatasetHackathon/Model/adaboost_cv.pkl\", 'wb'))\n",
        "pickle.dump(xgb_cv, open(\"/content/drive/MyDrive/DatasetHackathon/Model/xgb_cv.pkl\", 'wb'))"
      ],
      "metadata": {
        "id": "4LArfEDymAX7"
      },
      "execution_count": 97,
      "outputs": []
    },
    {
      "cell_type": "code",
      "source": [
        "#Cek apabila bisa diload\n",
        "\n",
        "#LinearRegression_cv= pickle.load( open(\"/content/drive/MyDrive/DatasetHackathon/Model/LinearRegression_cv.pkl\", 'rb'))\n",
        "#lasso_cv= pickle.load( open(\"/content/drive/MyDrive/DatasetHackathon/Model/lasso_cv.pkl\", 'rb'))\n",
        "#Ridge_cv= pickle.load( open(\"/content/drive/MyDrive/DatasetHackathon/Model/Ridge_cv.pkl\", 'rb'))\n",
        "#bayesreg_cv= pickle.load( open(\"/content/drive/MyDrive/DatasetHackathon/Model/bayesreg_cv.pkl\", 'rb'))\n",
        "#elasticnet_cv = pickle.load( open(\"/content/drive/MyDrive/DatasetHackathon/Model/elasticnet_cv.pkl\", 'rb'))\n",
        "#huber_cv= pickle.load( open(\"/content/drive/MyDrive/DatasetHackathon/Model/huber_cv.pkl\", 'rb'))\n",
        "#rf_cv= pickle.load( open(\"/content/drive/MyDrive/DatasetHackathon/Model/rf_cv.pkl\", 'rb'))\n",
        "#decisiontree_cv= pickle.load(open(\"/content/drive/MyDrive/DatasetHackathon/Model/decisiontree_cv.pkl\", 'rb'))\n",
        "#svr_cv= pickle.load(open(\"/content/drive/MyDrive/DatasetHackathon/Model/svr_cv.pkl\", 'rb'))\n",
        "#gradientdescent_cv = pickle.load( open(\"/content/drive/MyDrive/DatasetHackathon/Model/gradientdescent_cv.pkl\", 'rb'))\n",
        "#GBR_cv= pickle.load( open(\"/content/drive/MyDrive/DatasetHackathon/Model/GBR_cv.pkl\", 'rb'))\n",
        "#knnreg_cv= pickle.load(  open(\"/content/drive/MyDrive/DatasetHackathon/Model/knnreg_cv.pkl\", 'rb'))\n",
        "#adaboost_cv= pickle.load( open(\"/content/drive/MyDrive/DatasetHackathon/Model/adaboost_cv.pkl\", 'rb'))\n",
        "\n",
        "\n",
        "xgb_cv = pickle.load ( open(\"/content/drive/MyDrive/DatasetHackathon/Model/xgb_cv.pkl\", 'rb'))\n",
        "\n",
        "xgb_cv"
      ],
      "metadata": {
        "colab": {
          "base_uri": "https://localhost:8080/"
        },
        "id": "rpaidz0qYqT7",
        "outputId": "dd400e0b-11e9-4e74-8aac-8957c796e57c"
      },
      "execution_count": 98,
      "outputs": [
        {
          "output_type": "execute_result",
          "data": {
            "text/plain": [
              "RandomizedSearchCV(cv=5,\n",
              "                   estimator=XGBRegressor(eta=0.1, max_depth=10,\n",
              "                                          min_child_weight=5, missing=nan,\n",
              "                                          objective='reg:squarederror',\n",
              "                                          seed=42),\n",
              "                   param_distributions={'colsample_bytree': array([0.1, 0.2, 0.3, 0.4, 0.5, 0.6, 0.7, 0.8, 0.9, 1. ]),\n",
              "                                        'learning_rate': array([0.01  , 0.0575, 0.105 , 0.1525, 0.2   ]),\n",
              "                                        'max_depth': array([3, 5, 7, 9]),\n",
              "                                        'n_estimators': [300, 400, 500, 600,\n",
              "                                                         700, 800, 900],\n",
              "                                        'subsample': array([0.1  , 0.325, 0.55 , 0.775, 1.   ])},\n",
              "                   scoring='neg_mean_squared_error')"
            ]
          },
          "metadata": {},
          "execution_count": 98
        }
      ]
    },
    {
      "cell_type": "markdown",
      "source": [
        "Simpan scaler untuk serving model"
      ],
      "metadata": {
        "id": "6VxcrJFPZvrc"
      }
    },
    {
      "cell_type": "code",
      "source": [
        "import pickle\n",
        "pickle.dump(scaler_fitur, open('/content/drive/MyDrive/DatasetHackathon/Scaler/scaler_fitur.pkl','wb'))\n",
        "pickle.dump(scaler_target, open('/content/drive/MyDrive/DatasetHackathon/Scaler/scaler_target.pkl','wb'))"
      ],
      "metadata": {
        "id": "7XqCaWMXWun2"
      },
      "execution_count": 99,
      "outputs": []
    },
    {
      "cell_type": "code",
      "source": [
        "#Cek apabila bisa diload\n",
        "scaler_fitur = pickle.load(open(\"/content/drive/MyDrive/DatasetHackathon/Scaler/scaler_fitur.pkl\", 'rb'))\n",
        "#scaler_target = pickle.load(open(\"/content/drive/MyDrive/DatasetHackathon/Scaler/scaler_target.pkl\", 'rb'))\n",
        "scaler_fitur"
      ],
      "metadata": {
        "colab": {
          "base_uri": "https://localhost:8080/"
        },
        "id": "zFZ6A_iUY18S",
        "outputId": "f47c4729-c2d3-4e5c-be33-aa60486a5dfe"
      },
      "execution_count": 100,
      "outputs": [
        {
          "output_type": "execute_result",
          "data": {
            "text/plain": [
              "StandardScaler()"
            ]
          },
          "metadata": {},
          "execution_count": 100
        }
      ]
    },
    {
      "cell_type": "markdown",
      "source": [
        "# Serving model"
      ],
      "metadata": {
        "id": "paNW2RfPyBQi"
      }
    },
    {
      "cell_type": "code",
      "source": [
        "features= x_train.columns.to_list()\n",
        "features"
      ],
      "metadata": {
        "colab": {
          "base_uri": "https://localhost:8080/"
        },
        "id": "WWydMs9_VfOf",
        "outputId": "ea754fa9-fdb7-41d6-b1d7-6df5fa9058bc"
      },
      "execution_count": 101,
      "outputs": [
        {
          "output_type": "execute_result",
          "data": {
            "text/plain": [
              "['status_kegiatan_buta_aksara',\n",
              " 'ketersediaan_pkbm',\n",
              " 'ketersediaan_tbm',\n",
              " 'jumlah_angkatan_kerja',\n",
              " 'kepadatan_penduduk',\n",
              " 'Jumlah SD',\n",
              " 'Jumlah SMP',\n",
              " 'Jumlah SMA',\n",
              " 'Jumlah SMK',\n",
              " 'Jumlah Guru SD',\n",
              " 'Jumlah Guru SMP',\n",
              " 'Jumlah Guru SMA',\n",
              " 'Jumlah Guru SMK',\n",
              " 'waktu_tempuh_sd_terdekat',\n",
              " 'waktu_tempuh_smp_terdekat',\n",
              " 'waktu_tempuh_sma_terdekat',\n",
              " 'Garis Kemiskinan Menurut Kab/Kota (Rupiah/Perkapita/Perbulan)']"
            ]
          },
          "metadata": {},
          "execution_count": 101
        }
      ]
    },
    {
      "cell_type": "code",
      "source": [
        "input_data = pd.DataFrame()\n",
        "for i in features:\n",
        "  print(i)\n",
        "\n",
        "  if i =='status_kegiatan_buta_aksara':\n",
        "    print(\"Input berapa persen tiap kabupaten/kota(dalam bentuk desimal)\")\n",
        "  if i =='ketersediaan_pkbm':\n",
        "    print(\"Input jumlah ketersediaan pusat kegiatan belajar di kabupaten/kota\")\n",
        "  if i =='ketersediaan_tbm':\n",
        "    print(\"Input jumlah perpustakaan di kabupaten/kota\")\n",
        "  if i =='jumlah_angkatan_kerja':\n",
        "    print(\"Input jumlah angkatan kerja di kabupaten/kota\")\n",
        "  if i =='kepadatan_penduduk':\n",
        "    print(\"Input kepadatan penduduk di kabupaten/kota\")\n",
        "  if i =='Jumlah SD':\n",
        "    print(\"Input jumlah sd di kabupaten/kota\")\n",
        "  if i =='Jumlah SMP':\n",
        "    print(\"Input jumlah smp di kabupaten/kota\")\n",
        "  if i =='Jumlah SMA':\n",
        "    print(\"Input jumlah sma di kabupaten/kota\")\n",
        "  if i =='Jumlah SMK':\n",
        "    print(\"Input jumlah smk di kabupaten/kota\")\n",
        "  if i =='Jumlah Guru SD':\n",
        "    print(\"Input jumlah guru sd di kabupaten/kota\")\n",
        "  if i =='Jumlah Guru SMP':\n",
        "    print(\"Input jumlah guru smp di kabupaten/kota\")  \n",
        "  if i =='Jumlah Guru SMA':\n",
        "    print(\"Input jumlah guru sma di kabupaten/kota\")\n",
        "  if i =='Jumlah Guru SMK':\n",
        "    print(\"Input jumlah guru smk di kabupaten/kota\")\n",
        "  if i =='waktu_tempuh_sd_terdekat':\n",
        "    print(\"Input waktu tempuh sd di kabupaten/kota(dalam menit)\")\n",
        "  if i =='waktu_tempuh_smp_terdekat':\n",
        "    print(\"Input waktu tempuh smp di kabupaten/kota(dalam menit)\")\n",
        "  if i =='waktu_tempuh_sma_terdekat':\n",
        "    print(\"Input waktu tempuh sma di kabupaten/kota(dalam menit)\")\n",
        "  if i =='Garis Kemiskinan Menurut Kab/Kota (Rupiah/Perkapita/Perbulan)':\n",
        "    print(\"Input nilai Rupiah/Perkapita/Perbulan di kabupaten/kota\")\n",
        "  number = float(input(\"Enter your value: \"))\n",
        "  \n",
        "  if number < 0 :\n",
        "    print(\"Please input non-negative value \")\n",
        "    break\n",
        "  else:\n",
        "    pass\n",
        "  x=' '\n",
        "  print(x)\n",
        "  column_name = i\n",
        "  input_data.loc[0, column_name] = number"
      ],
      "metadata": {
        "colab": {
          "base_uri": "https://localhost:8080/"
        },
        "id": "nyWloQ1hTPV9",
        "outputId": "ab642557-4983-41d0-c6c4-192fca029692"
      },
      "execution_count": 102,
      "outputs": [
        {
          "output_type": "stream",
          "name": "stdout",
          "text": [
            "status_kegiatan_buta_aksara\n",
            "Input berapa persen tiap kabupaten/kota(dalam bentuk desimal)\n",
            "Enter your value: 0.9\n",
            " \n",
            "ketersediaan_pkbm\n",
            "Input jumlah ketersediaan pusat kegiatan belajar di kabupaten/kota\n",
            "Enter your value: 2000\n",
            " \n",
            "ketersediaan_tbm\n",
            "Input jumlah perpustakaan di kabupaten/kota\n",
            "Enter your value: 3000\n",
            " \n",
            "jumlah_angkatan_kerja\n",
            "Input jumlah angkatan kerja di kabupaten/kota\n",
            "Enter your value: 200000\n",
            " \n",
            "kepadatan_penduduk\n",
            "Input kepadatan penduduk di kabupaten/kota\n",
            "Enter your value: 2000\n",
            " \n",
            "Jumlah SD\n",
            "Input jumlah sd di kabupaten/kota\n",
            "Enter your value: 500\n",
            " \n",
            "Jumlah SMP\n",
            "Input jumlah smp di kabupaten/kota\n",
            "Enter your value: 600\n",
            " \n",
            "Jumlah SMA\n",
            "Input jumlah sma di kabupaten/kota\n",
            "Enter your value: 400\n",
            " \n",
            "Jumlah SMK\n",
            "Input jumlah smk di kabupaten/kota\n",
            "Enter your value: 250\n",
            " \n",
            "Jumlah Guru SD\n",
            "Input jumlah guru sd di kabupaten/kota\n",
            "Enter your value: 1000\n",
            " \n",
            "Jumlah Guru SMP\n",
            "Input jumlah guru smp di kabupaten/kota\n",
            "Enter your value: 1200\n",
            " \n",
            "Jumlah Guru SMA\n",
            "Input jumlah guru sma di kabupaten/kota\n",
            "Enter your value: 700\n",
            " \n",
            "Jumlah Guru SMK\n",
            "Input jumlah guru smk di kabupaten/kota\n",
            "Enter your value: 400\n",
            " \n",
            "waktu_tempuh_sd_terdekat\n",
            "Input waktu tempuh sd di kabupaten/kota(dalam menit)\n",
            "Enter your value: 5\n",
            " \n",
            "waktu_tempuh_smp_terdekat\n",
            "Input waktu tempuh smp di kabupaten/kota(dalam menit)\n",
            "Enter your value: 10\n",
            " \n",
            "waktu_tempuh_sma_terdekat\n",
            "Input waktu tempuh sma di kabupaten/kota(dalam menit)\n",
            "Enter your value: 15\n",
            " \n",
            "Garis Kemiskinan Menurut Kab/Kota (Rupiah/Perkapita/Perbulan)\n",
            "Input nilai Rupiah/Perkapita/Perbulan di kabupaten/kota\n",
            "Enter your value: 350000\n",
            " \n"
          ]
        }
      ]
    },
    {
      "cell_type": "code",
      "source": [
        "input_data"
      ],
      "metadata": {
        "colab": {
          "base_uri": "https://localhost:8080/",
          "height": 179
        },
        "id": "g7vpkgDzaX3w",
        "outputId": "5a4e0bd1-0f7c-4be9-c02d-4a52c8b09c05"
      },
      "execution_count": 103,
      "outputs": [
        {
          "output_type": "execute_result",
          "data": {
            "text/plain": [
              "   status_kegiatan_buta_aksara  ketersediaan_pkbm  ketersediaan_tbm  \\\n",
              "0                          0.9             2000.0            3000.0   \n",
              "\n",
              "   jumlah_angkatan_kerja  kepadatan_penduduk  Jumlah SD  Jumlah SMP  \\\n",
              "0               200000.0              2000.0      500.0       600.0   \n",
              "\n",
              "   Jumlah SMA  Jumlah SMK  Jumlah Guru SD  Jumlah Guru SMP  Jumlah Guru SMA  \\\n",
              "0       400.0       250.0          1000.0           1200.0            700.0   \n",
              "\n",
              "   Jumlah Guru SMK  waktu_tempuh_sd_terdekat  waktu_tempuh_smp_terdekat  \\\n",
              "0            400.0                       5.0                       10.0   \n",
              "\n",
              "   waktu_tempuh_sma_terdekat  \\\n",
              "0                       15.0   \n",
              "\n",
              "   Garis Kemiskinan Menurut Kab/Kota (Rupiah/Perkapita/Perbulan)  \n",
              "0                                           350000.0              "
            ],
            "text/html": [
              "\n",
              "  <div id=\"df-25409919-928b-4465-a17e-56882f5a3285\">\n",
              "    <div class=\"colab-df-container\">\n",
              "      <div>\n",
              "<style scoped>\n",
              "    .dataframe tbody tr th:only-of-type {\n",
              "        vertical-align: middle;\n",
              "    }\n",
              "\n",
              "    .dataframe tbody tr th {\n",
              "        vertical-align: top;\n",
              "    }\n",
              "\n",
              "    .dataframe thead th {\n",
              "        text-align: right;\n",
              "    }\n",
              "</style>\n",
              "<table border=\"1\" class=\"dataframe\">\n",
              "  <thead>\n",
              "    <tr style=\"text-align: right;\">\n",
              "      <th></th>\n",
              "      <th>status_kegiatan_buta_aksara</th>\n",
              "      <th>ketersediaan_pkbm</th>\n",
              "      <th>ketersediaan_tbm</th>\n",
              "      <th>jumlah_angkatan_kerja</th>\n",
              "      <th>kepadatan_penduduk</th>\n",
              "      <th>Jumlah SD</th>\n",
              "      <th>Jumlah SMP</th>\n",
              "      <th>Jumlah SMA</th>\n",
              "      <th>Jumlah SMK</th>\n",
              "      <th>Jumlah Guru SD</th>\n",
              "      <th>Jumlah Guru SMP</th>\n",
              "      <th>Jumlah Guru SMA</th>\n",
              "      <th>Jumlah Guru SMK</th>\n",
              "      <th>waktu_tempuh_sd_terdekat</th>\n",
              "      <th>waktu_tempuh_smp_terdekat</th>\n",
              "      <th>waktu_tempuh_sma_terdekat</th>\n",
              "      <th>Garis Kemiskinan Menurut Kab/Kota (Rupiah/Perkapita/Perbulan)</th>\n",
              "    </tr>\n",
              "  </thead>\n",
              "  <tbody>\n",
              "    <tr>\n",
              "      <th>0</th>\n",
              "      <td>0.9</td>\n",
              "      <td>2000.0</td>\n",
              "      <td>3000.0</td>\n",
              "      <td>200000.0</td>\n",
              "      <td>2000.0</td>\n",
              "      <td>500.0</td>\n",
              "      <td>600.0</td>\n",
              "      <td>400.0</td>\n",
              "      <td>250.0</td>\n",
              "      <td>1000.0</td>\n",
              "      <td>1200.0</td>\n",
              "      <td>700.0</td>\n",
              "      <td>400.0</td>\n",
              "      <td>5.0</td>\n",
              "      <td>10.0</td>\n",
              "      <td>15.0</td>\n",
              "      <td>350000.0</td>\n",
              "    </tr>\n",
              "  </tbody>\n",
              "</table>\n",
              "</div>\n",
              "      <button class=\"colab-df-convert\" onclick=\"convertToInteractive('df-25409919-928b-4465-a17e-56882f5a3285')\"\n",
              "              title=\"Convert this dataframe to an interactive table.\"\n",
              "              style=\"display:none;\">\n",
              "        \n",
              "  <svg xmlns=\"http://www.w3.org/2000/svg\" height=\"24px\"viewBox=\"0 0 24 24\"\n",
              "       width=\"24px\">\n",
              "    <path d=\"M0 0h24v24H0V0z\" fill=\"none\"/>\n",
              "    <path d=\"M18.56 5.44l.94 2.06.94-2.06 2.06-.94-2.06-.94-.94-2.06-.94 2.06-2.06.94zm-11 1L8.5 8.5l.94-2.06 2.06-.94-2.06-.94L8.5 2.5l-.94 2.06-2.06.94zm10 10l.94 2.06.94-2.06 2.06-.94-2.06-.94-.94-2.06-.94 2.06-2.06.94z\"/><path d=\"M17.41 7.96l-1.37-1.37c-.4-.4-.92-.59-1.43-.59-.52 0-1.04.2-1.43.59L10.3 9.45l-7.72 7.72c-.78.78-.78 2.05 0 2.83L4 21.41c.39.39.9.59 1.41.59.51 0 1.02-.2 1.41-.59l7.78-7.78 2.81-2.81c.8-.78.8-2.07 0-2.86zM5.41 20L4 18.59l7.72-7.72 1.47 1.35L5.41 20z\"/>\n",
              "  </svg>\n",
              "      </button>\n",
              "      \n",
              "  <style>\n",
              "    .colab-df-container {\n",
              "      display:flex;\n",
              "      flex-wrap:wrap;\n",
              "      gap: 12px;\n",
              "    }\n",
              "\n",
              "    .colab-df-convert {\n",
              "      background-color: #E8F0FE;\n",
              "      border: none;\n",
              "      border-radius: 50%;\n",
              "      cursor: pointer;\n",
              "      display: none;\n",
              "      fill: #1967D2;\n",
              "      height: 32px;\n",
              "      padding: 0 0 0 0;\n",
              "      width: 32px;\n",
              "    }\n",
              "\n",
              "    .colab-df-convert:hover {\n",
              "      background-color: #E2EBFA;\n",
              "      box-shadow: 0px 1px 2px rgba(60, 64, 67, 0.3), 0px 1px 3px 1px rgba(60, 64, 67, 0.15);\n",
              "      fill: #174EA6;\n",
              "    }\n",
              "\n",
              "    [theme=dark] .colab-df-convert {\n",
              "      background-color: #3B4455;\n",
              "      fill: #D2E3FC;\n",
              "    }\n",
              "\n",
              "    [theme=dark] .colab-df-convert:hover {\n",
              "      background-color: #434B5C;\n",
              "      box-shadow: 0px 1px 3px 1px rgba(0, 0, 0, 0.15);\n",
              "      filter: drop-shadow(0px 1px 2px rgba(0, 0, 0, 0.3));\n",
              "      fill: #FFFFFF;\n",
              "    }\n",
              "  </style>\n",
              "\n",
              "      <script>\n",
              "        const buttonEl =\n",
              "          document.querySelector('#df-25409919-928b-4465-a17e-56882f5a3285 button.colab-df-convert');\n",
              "        buttonEl.style.display =\n",
              "          google.colab.kernel.accessAllowed ? 'block' : 'none';\n",
              "\n",
              "        async function convertToInteractive(key) {\n",
              "          const element = document.querySelector('#df-25409919-928b-4465-a17e-56882f5a3285');\n",
              "          const dataTable =\n",
              "            await google.colab.kernel.invokeFunction('convertToInteractive',\n",
              "                                                     [key], {});\n",
              "          if (!dataTable) return;\n",
              "\n",
              "          const docLinkHtml = 'Like what you see? Visit the ' +\n",
              "            '<a target=\"_blank\" href=https://colab.research.google.com/notebooks/data_table.ipynb>data table notebook</a>'\n",
              "            + ' to learn more about interactive tables.';\n",
              "          element.innerHTML = '';\n",
              "          dataTable['output_type'] = 'display_data';\n",
              "          await google.colab.output.renderOutput(dataTable, element);\n",
              "          const docLink = document.createElement('div');\n",
              "          docLink.innerHTML = docLinkHtml;\n",
              "          element.appendChild(docLink);\n",
              "        }\n",
              "      </script>\n",
              "    </div>\n",
              "  </div>\n",
              "  "
            ]
          },
          "metadata": {},
          "execution_count": 103
        }
      ]
    },
    {
      "cell_type": "code",
      "source": [
        "input_data = input_data.transpose().reindex(features).transpose()"
      ],
      "metadata": {
        "id": "fZA8tmG9acgX"
      },
      "execution_count": 104,
      "outputs": []
    },
    {
      "cell_type": "code",
      "source": [
        "cols= [\n",
        " 'status_kegiatan_buta_aksara',\n",
        " 'ketersediaan_pkbm',\n",
        " 'ketersediaan_tbm',\n",
        " 'jumlah_angkatan_kerja',\n",
        " 'kepadatan_penduduk',\n",
        " 'Jumlah SD',\n",
        " 'Jumlah SMP',\n",
        " 'Jumlah SMA',\n",
        " 'Jumlah SMK',\n",
        " 'Jumlah Guru SD',\n",
        " 'Jumlah Guru SMP',\n",
        " 'Jumlah Guru SMA',\n",
        " 'Jumlah Guru SMK',\n",
        " 'waktu_tempuh_sd_terdekat',\n",
        " 'waktu_tempuh_smp_terdekat',\n",
        " 'waktu_tempuh_sma_terdekat',\n",
        " 'Garis Kemiskinan Menurut Kab/Kota (Rupiah/Perkapita/Perbulan)']"
      ],
      "metadata": {
        "id": "8sS549VRfPNS"
      },
      "execution_count": 105,
      "outputs": []
    },
    {
      "cell_type": "code",
      "source": [
        "inputdata = pd.DataFrame(scaler_fitur.transform(input_data[cols]),columns = cols)"
      ],
      "metadata": {
        "id": "NvTSmivbhwau"
      },
      "execution_count": 106,
      "outputs": []
    },
    {
      "cell_type": "code",
      "source": [
        "#Prediction:\n",
        "result_prediction= xgb_cv.predict(inputdata)\n",
        "data_hasil =pd.DataFrame(result_prediction,columns= ['indeks_pendidikan'])\n",
        "inversed_result = scaler_target.inverse_transform(data_hasil)\n",
        "print(\"Hasil prediksi nilai indeks pendidikan berdasarkan kondisi anda\", inversed_result )"
      ],
      "metadata": {
        "colab": {
          "base_uri": "https://localhost:8080/"
        },
        "id": "vLcwDYLtadhB",
        "outputId": "fe9316b8-4cdd-4c9a-d5b5-e72171d8a3aa"
      },
      "execution_count": 109,
      "outputs": [
        {
          "output_type": "stream",
          "name": "stdout",
          "text": [
            "Hasil prediksi nilai indeks pendidikan berdasarkan kondisi anda [[61.025497]]\n"
          ]
        }
      ]
    }
  ]
}